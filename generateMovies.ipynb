{
 "cells": [
  {
   "cell_type": "markdown",
   "metadata": {},
   "source": [
    "## Generation of visual panoramas to be tested for head direction stability\n",
    "Run in unityvr virtual environment"
   ]
  },
  {
   "cell_type": "code",
   "execution_count": 1,
   "metadata": {
    "tags": []
   },
   "outputs": [],
   "source": [
    "import numpy as np\n",
    "import matplotlib.pyplot as plt\n",
    "from skimage.morphology import disk, rectangle\n",
    "from scipy.signal import convolve2d\n",
    "from pathlib import Path\n",
    "from os.path import sep\n",
    "import scipy as sp\n",
    "import imageio\n",
    "import pandas as pd\n",
    "\n",
    "np.random.seed(seed=3)\n",
    "%config Completer.use_jedi = False  #magic to fix autocomplete issue\n",
    "%matplotlib inline\n",
    "\n",
    "from stimGen import generateSingleSpotPan, plotPanorama, plotPanoramaStretch, createMovie\n",
    "\n",
    "import matplotlib\n",
    "matplotlib.rcParams['pdf.fonttype'] = 42"
   ]
  },
  {
   "cell_type": "markdown",
   "metadata": {},
   "source": [
    "### Visibility range of the screen\n",
    "#### (a) Visibility above the horizon line\n",
    "This visibility range is limited by either the fly holder (pyramid) or the screen height. \n",
    "If the screen is limited, the angle it spans depends on the screen distance  which may vary along the azimuth. We will consider only the extreme values, i.e. the minimum and maximum screen distances. For the pentagonal screen that's r_min at the center of the faces and r_max at the corners. "
   ]
  },
  {
   "cell_type": "code",
   "execution_count": 2,
   "metadata": {
    "tags": []
   },
   "outputs": [
    {
     "name": "stdout",
     "output_type": "stream",
     "text": [
      "The screen spans an angle from 24.443954780416536 to 32.005383208083494 above the horizon line.\n"
     ]
    }
   ],
   "source": [
    "screenMinDist = 4.0 #cm (r_min in Fig1 S1)\n",
    "screenMaxDist = 5.5 #cm (r_max in Fig1 S1)\n",
    "\n",
    "topScreenHeight = 2.5 #cm\n",
    "\n",
    "alpha_rmin = (180/np.pi) * np.arctan( topScreenHeight / screenMinDist)\n",
    "alpha_rmax = (180/np.pi) * np.arctan( topScreenHeight / screenMaxDist)\n",
    "\n",
    "print(\"The screen spans an angle from {} to {} above the horizon line.\".format(alpha_rmax, alpha_rmin))"
   ]
  },
  {
   "cell_type": "markdown",
   "metadata": {},
   "source": [
    "#### (b) Visibility below the horizon line\n",
    "This visibility range is limited by the ball surface (unless the screen is very short). Set `no_ball` to be true if screen limited."
   ]
  },
  {
   "cell_type": "code",
   "execution_count": 3,
   "metadata": {},
   "outputs": [],
   "source": [
    "no_ball = True"
   ]
  },
  {
   "cell_type": "code",
   "execution_count": 4,
   "metadata": {
    "tags": []
   },
   "outputs": [
    {
     "name": "stdout",
     "output_type": "stream",
     "text": [
      "The screen spans an angle from 51.84277341263094 to 60.25511870305777 below the horizon line.\n"
     ]
    }
   ],
   "source": [
    "if not no_ball:\n",
    "    ballRad = 4.65 # treadmill ball radius [mm]\n",
    "    flyEyeAboveBall = 1 # height of eye above ball surface [mm]\n",
    "    \n",
    "    print('Angle visible below horizon line:',90-(180/np.pi)*np.arcsin(ballRad/(flyEyeAboveBall+ballRad)))\n",
    "else:\n",
    "    bottomScreenHeight = 7 #cm\n",
    "    beta_rmin = (180/np.pi) * np.arctan( bottomScreenHeight / screenMinDist)\n",
    "    beta_rmax = (180/np.pi) * np.arctan( bottomScreenHeight / screenMaxDist)\n",
    "    print(\"The screen spans an angle from {} to {} below the horizon line.\".format(beta_rmax, beta_rmin))"
   ]
  },
  {
   "cell_type": "markdown",
   "metadata": {},
   "source": [
    "### Determine appropriate size for the texture\n",
    "Choose which angle should be spanned. The texture will be sized to be displayed such that it spans the full size at the closest points on the  screen (r_min). Thus, the texture should be displayed on a cylinder with radius r_min."
   ]
  },
  {
   "cell_type": "code",
   "execution_count": 5,
   "metadata": {
    "tags": []
   },
   "outputs": [
    {
     "name": "stdout",
     "output_type": "stream",
     "text": [
      "Cylinder height: 7.0 cm, Cylinder radius: 4.0 cm\n"
     ]
    }
   ],
   "source": [
    "setalpha = alpha_rmin*(np.pi/180) if not no_ball else np.max([beta_rmin,alpha_rmin])*(np.pi/180)\n",
    "height_cm = np.round(np.tan(setalpha) * screenMinDist, 2) * 2\n",
    "# Values to set in unity scene:\n",
    "print('Cylinder height: {} cm, Cylinder radius: {} cm'.format(height_cm/2, screenMinDist))"
   ]
  },
  {
   "cell_type": "code",
   "execution_count": 6,
   "metadata": {
    "tags": []
   },
   "outputs": [],
   "source": [
    "pt_per_cm = 150\n",
    "dpiVal = 200\n",
    "\n",
    "panHeight_px = int(height_cm * pt_per_cm)\n",
    "panWidth_px = int(2*np.pi*screenMinDist*pt_per_cm)\n",
    "\n",
    "maxBit = 255 #assuming 8bit image depth"
   ]
  },
  {
   "cell_type": "markdown",
   "metadata": {},
   "source": [
    "## Step Gratings\n",
    "\n",
    "### Create 1D Pattern"
   ]
  },
  {
   "cell_type": "code",
   "execution_count": 7,
   "metadata": {},
   "outputs": [],
   "source": [
    "equal = True #white and black bars same size"
   ]
  },
  {
   "cell_type": "code",
   "execution_count": 8,
   "metadata": {},
   "outputs": [],
   "source": [
    "spatialFreq = 0.05 #dark bars/deg\n",
    "if equal:\n",
    "    barSizeAng = 1/spatialFreq \n",
    "else:\n",
    "    barSizeAng = 20 #aim for x deg dark bars"
   ]
  },
  {
   "cell_type": "code",
   "execution_count": 9,
   "metadata": {},
   "outputs": [],
   "source": [
    "barRad = int(panWidth_px * 0.5 * (barSizeAng/360))\n",
    "whiteBar = rectangle(panHeight_px, barRad)"
   ]
  },
  {
   "cell_type": "code",
   "execution_count": 10,
   "metadata": {},
   "outputs": [],
   "source": [
    "oneD = np.zeros(panWidth_px)\n",
    "oneD[np.linspace(0,panWidth_px-1,int(round(spatialFreq*360))).round().astype('int')] = maxBit\n",
    "kernel = np.ones(barRad)\n",
    "oneDGrating = sp.signal.convolve(oneD, kernel, mode='same')"
   ]
  },
  {
   "cell_type": "markdown",
   "metadata": {},
   "source": [
    "## Convert to 2D and Rotate"
   ]
  },
  {
   "cell_type": "code",
   "execution_count": 11,
   "metadata": {},
   "outputs": [],
   "source": [
    "rotAngle = -30 #deg, right handed convention"
   ]
  },
  {
   "cell_type": "code",
   "execution_count": 12,
   "metadata": {},
   "outputs": [],
   "source": [
    "pan = np.zeros((panWidth_px,panHeight_px),dtype=np.uint8)\n",
    "for i in range(pan.shape[1]):\n",
    "    pan[:,i] = oneDGrating"
   ]
  },
  {
   "cell_type": "code",
   "execution_count": 13,
   "metadata": {},
   "outputs": [
    {
     "data": {
      "image/png": "[encoded data removed]",
      "text/plain": [
       "<Figure size 720x401.167 with 1 Axes>"
      ]
     },
     "metadata": {
      "needs_background": "light"
     },
     "output_type": "display_data"
    }
   ],
   "source": [
    "twoDGrating = sp.ndimage.rotate(pan,rotAngle,reshape=False,mode='grid-wrap')\n",
    "fig = plotPanorama(twoDGrating,panHeight_px,panWidth_px, maxBit)"
   ]
  },
  {
   "cell_type": "markdown",
   "metadata": {},
   "source": [
    "## Convert to Movie"
   ]
  },
  {
   "cell_type": "markdown",
   "metadata": {},
   "source": [
    "Generate velocity time series for on-axis movement. "
   ]
  },
  {
   "cell_type": "code",
   "execution_count": 14,
   "metadata": {},
   "outputs": [
    {
     "name": "stdout",
     "output_type": "stream",
     "text": [
      "number of frames:  1440\n"
     ]
    }
   ],
   "source": [
    "fps = 24 #sec\n",
    "maxTime = 1 #min\n",
    "stimVel = 100 #deg/sec\n",
    "backAndForth = 1 #back and forths per minute\n",
    "Nframes = int(round(maxTime*60*fps))\n",
    "print(\"number of frames: \",Nframes)"
   ]
  },
  {
   "cell_type": "code",
   "execution_count": 15,
   "metadata": {},
   "outputs": [],
   "source": [
    "time = np.linspace(0,maxTime*60,Nframes) #seconds\n",
    "shifts = np.round(sp.signal.sawtooth(2 * np.pi * backAndForth/60 * \n",
    "         time,width=0.5)*stimVel*panWidth_px/360).astype('int') #shifts for each frame point in pixels"
   ]
  },
  {
   "cell_type": "code",
   "execution_count": 16,
   "metadata": {},
   "outputs": [],
   "source": [
    "movieStack = np.array([np.roll(pan,shifts[t],\n",
    "             axis=0).reshape(pan.shape[0],pan.shape[1]) for t in range(Nframes)])"
   ]
  },
  {
   "cell_type": "code",
   "execution_count": null,
   "metadata": {},
   "outputs": [],
   "source": [
    "movieStackRot = sp.ndimage.rotate(movieStack,rotAngle,reshape=False,axes=(1,2),\n",
    "                                  order=0,mode='grid-wrap')"
   ]
  },
  {
   "cell_type": "code",
   "execution_count": null,
   "metadata": {},
   "outputs": [],
   "source": [
    "%%capture\n",
    "anim = createMovie(movieStackRot,panHeight_px,panWidth_px,maxBit)"
   ]
  },
  {
   "cell_type": "code",
   "execution_count": null,
   "metadata": {},
   "outputs": [],
   "source": [
    "from IPython.display import HTML\n",
    "HTML(anim.to_jshtml())"
   ]
  },
  {
   "cell_type": "markdown",
   "metadata": {},
   "source": [
    "## Save movie as a series of images"
   ]
  },
  {
   "cell_type": "code",
   "execution_count": null,
   "metadata": {},
   "outputs": [],
   "source": [
    "video_name = \"fullfield_grating-\"+str(spatialFreq)+\"_barSize-\"+str(\n",
    "    barSizeAng)+\"_\"+str(stimVel)+\"-dps_\"+str(maxTime)+\"-min\""
   ]
  },
  {
   "cell_type": "code",
   "execution_count": null,
   "metadata": {},
   "outputs": [],
   "source": [
    "imageDf = pd.DataFrame(np.arange(0,Nframes)+1,columns=['frame'])\n",
    "imageDf['time [s]'] = time\n",
    "imageDf['filename'] = imageDf['frame'].astype('str').str[:]+'.png'\n",
    "imageDf['shifts (px)'] = shifts\n",
    "imageDf.to_csv(sep.join([\"movies\",video_name,'imageDf.csv']))"
   ]
  },
  {
   "cell_type": "code",
   "execution_count": null,
   "metadata": {},
   "outputs": [],
   "source": [
    "Path(sep.join([\"movies\",video_name])).mkdir(parents=True, exist_ok=True)"
   ]
  },
  {
   "cell_type": "code",
   "execution_count": null,
   "metadata": {},
   "outputs": [],
   "source": [
    "textures = []\n",
    "for i in range(len(imageDf)):\n",
    "    imageio.imwrite(sep.join([\"movies\",video_name,imageDf.iloc[i]['filename']]), movieStackRot[i,:,:])\n",
    "    textures.append(imageDf.iloc[i]['filename'])\n",
    "\n",
    "temp = {\n",
    "    'durationSecs': 1 / video_fps,\n",
    "    'textures': textures,\n",
    "    'separatorDurationSecs': 0,\n",
    "}\n",
    "json_name = sep.join([\"movies\",video_name,'start.json'])\n",
    "with open(json_name, 'w') as json_file:\n",
    "    json_file.write(json.dumps(temp))"
   ]
  },
  {
   "cell_type": "markdown",
   "metadata": {},
   "source": [
    "## Generate reshaped movies"
   ]
  },
  {
   "cell_type": "code",
   "execution_count": 52,
   "metadata": {
    "tags": []
   },
   "outputs": [],
   "source": [
    "import pandas as pd\n",
    "from scipy.optimize import minimize\n",
    "import scipy as sp\n",
    "\n",
    "Dir = 'screenMeasurements/' #\"/Volumes/jayaramanlab/Shivam/\" #connect to dm11\n",
    "rig = \"Hannah\" #\"Shivam\"#\n",
    "\n",
    "if rig == \"Shivam\":\n",
    "    file2 = rig+\"Rig_mean_brightness_level_6.csv\"\n",
    "else:\n",
    "    file2 = rig+\"Rig_mean_brightness.csv\"\n",
    "    \n",
    "file = rig+\"Rig_lookup_table_transformed_brightness.csv\"\n",
    "\n",
    "lookupDf = pd.read_csv(Dir+file)\n",
    "mean_brightness = pd.read_csv(Dir+file2)"
   ]
  },
  {
   "cell_type": "code",
   "execution_count": 53,
   "metadata": {
    "tags": []
   },
   "outputs": [],
   "source": [
    "def rescale(img):\n",
    "    x = img.flatten()\n",
    "    y = np.array(lookupDf.iloc[x]['Iin'])\n",
    "    imgT = y.reshape(np.shape(img))\n",
    "    return imgT\n",
    "\n",
    "def simulateI(img):\n",
    "    x = img.flatten()\n",
    "    y = np.array(transformDf.iloc[x]['Iin'])\n",
    "    imgT = y.reshape(np.shape(img))\n",
    "    return imgT"
   ]
  },
  {
   "cell_type": "code",
   "execution_count": 54,
   "metadata": {
    "tags": []
   },
   "outputs": [
    {
     "data": {
      "image/png": "[encoded data removed]",
      "text/plain": [
       "<Figure size 432x288 with 1 Axes>"
      ]
     },
     "metadata": {
      "needs_background": "light"
     },
     "output_type": "display_data"
    }
   ],
   "source": [
    "y = np.array(mean_brightness['I'].values)\n",
    "x = np.arange(0,256,1)\n",
    "y = np.zeros(x.shape)\n",
    "\n",
    "b = sp.interpolate.interp1d(mean_brightness['I'], mean_brightness['Stim'],bounds_error=False)\n",
    "\n",
    "def diff(x,a):\n",
    "    yt = b(x)\n",
    "    return (yt - a)**2\n",
    "\n",
    "for idx,x_value in enumerate(x):\n",
    "    res = minimize(diff, 1.0, args=(x_value), method='Nelder-Mead', tol=1e-6)\n",
    "    y[idx] = res.x[0]\n",
    "\n",
    "plt.plot(mean_brightness['I'].values,mean_brightness['Stim'].values,'o');\n",
    "plt.plot(np.round(y).astype('int'),x)\n",
    "plt.title(r'$f(I)_{fit}$')\n",
    "plt.ylabel(\"$I_{out}$\"); plt.xlabel(\"$I_{in}$\");\n",
    "\n",
    "transformDf = pd.DataFrame(np.array([np.round(y).astype('int'),x]).T, columns = [\"Iin\", \"Iout\"])"
   ]
  },
  {
   "cell_type": "markdown",
   "metadata": {},
   "source": [
    "**Generate and save simulated original gradients**"
   ]
  },
  {
   "cell_type": "code",
   "execution_count": 55,
   "metadata": {
    "tags": []
   },
   "outputs": [
    {
     "data": {
      "image/png": "[encoded data removed]",
      "text/plain": [
       "<Figure size 720x143.274 with 1 Axes>"
      ]
     },
     "metadata": {
      "needs_background": "light"
     },
     "output_type": "display_data"
    },
    {
     "data": {
      "image/png": "[encoded data removed]",
      "text/plain": [
       "<Figure size 720x143.274 with 1 Axes>"
      ]
     },
     "metadata": {
      "needs_background": "light"
     },
     "output_type": "display_data"
    },
    {
     "data": {
      "image/png": "[encoded data removed]",
      "text/plain": [
       "<Figure size 720x143.274 with 1 Axes>"
      ]
     },
     "metadata": {
      "needs_background": "light"
     },
     "output_type": "display_data"
    },
    {
     "data": {
      "image/png": "[encoded data removed]",
      "text/plain": [
       "<Figure size 720x143.274 with 1 Axes>"
      ]
     },
     "metadata": {
      "needs_background": "light"
     },
     "output_type": "display_data"
    },
    {
     "data": {
      "image/png": "[encoded data removed]",
      "text/plain": [
       "<Figure size 720x143.274 with 1 Axes>"
      ]
     },
     "metadata": {
      "needs_background": "light"
     },
     "output_type": "display_data"
    }
   ],
   "source": [
    "# make directory if it does not already exist\n",
    "Path(\"panoramas/simulated\").mkdir(parents=True, exist_ok=True)\n",
    "\n",
    "fig = plotPanorama(simulateI(panGrad).T,panHeight_px,panWidth_px, maxBit)\n",
    "fig.savefig(\"panoramas\"+sep+'simulated'+sep+\"C1_gradient_simulated_{}Rig.png\".format(rig),dpi = dpiVal)\n",
    "\n",
    "fig = plotPanorama(simulateI(panGradLow).T,panHeight_px,panWidth_px, maxBit)\n",
    "fig.savefig(\"panoramas\"+sep+\"simulated\"+sep+\"C2_gradientLow_simulated_{}Rig.png\".format(rig),dpi = dpiVal)\n",
    "\n",
    "fig = plotPanorama(simulateI(panGradVeryLow).T,panHeight_px,panWidth_px, maxBit)\n",
    "fig.savefig(\"panoramas\"+sep+\"simulated\"+sep+\"C3_gradientVeryLow_simulated_{}Rig.png\".format(rig),dpi = dpiVal)\n",
    "\n",
    "fig = plotPanorama(simulateI(panGradLowBright).T,panHeight_px,panWidth_px, maxBit)\n",
    "fig.savefig(\"panoramas\"+sep+\"simulated\"+sep+\"C4_gradientLowBright_simulated_{}Rig.png\".format(rig),dpi = dpiVal)\n",
    "\n",
    "fig = plotPanorama(simulateI(panGradVeryLowBright).T,panHeight_px,panWidth_px, maxBit)\n",
    "fig.savefig(\"panoramas\"+sep+\"simulated\"+sep+\"C5_gradientVeryLowBright_simulated_{}Rig.png\".format(rig),dpi = dpiVal)"
   ]
  },
  {
   "cell_type": "markdown",
   "metadata": {},
   "source": [
    "**Generate and save reshaped gradients**"
   ]
  },
  {
   "cell_type": "code",
   "execution_count": 56,
   "metadata": {
    "tags": []
   },
   "outputs": [
    {
     "data": {
      "image/png": "[encoded data removed]",
      "text/plain": [
       "<Figure size 720x143.274 with 1 Axes>"
      ]
     },
     "metadata": {
      "needs_background": "light"
     },
     "output_type": "display_data"
    },
    {
     "data": {
      "image/png": "[encoded data removed]",
      "text/plain": [
       "<Figure size 720x143.274 with 1 Axes>"
      ]
     },
     "metadata": {
      "needs_background": "light"
     },
     "output_type": "display_data"
    },
    {
     "data": {
      "image/png": "[encoded data removed]",
      "text/plain": [
       "<Figure size 720x143.274 with 1 Axes>"
      ]
     },
     "metadata": {
      "needs_background": "light"
     },
     "output_type": "display_data"
    },
    {
     "data": {
      "image/png": "[encoded data removed]",
      "text/plain": [
       "<Figure size 720x143.274 with 1 Axes>"
      ]
     },
     "metadata": {
      "needs_background": "light"
     },
     "output_type": "display_data"
    },
    {
     "data": {
      "image/png": "[encoded data removed]",
      "text/plain": [
       "<Figure size 720x143.274 with 1 Axes>"
      ]
     },
     "metadata": {
      "needs_background": "light"
     },
     "output_type": "display_data"
    }
   ],
   "source": [
    "# make directory if it does not already exist\n",
    "Path(\"panoramas/reshaped\").mkdir(parents=True, exist_ok=True)\n",
    "\n",
    "fig = plotPanorama(rescale(panGrad).T,panHeight_px,panWidth_px, maxBit)\n",
    "fig.savefig(\"panoramas\"+sep+\"reshaped\"+sep+\"C1_gradient_reshaped_{}Rig.png\".format(rig),dpi = dpiVal)\n",
    "\n",
    "fig = plotPanorama(rescale(panGradLow).T,panHeight_px,panWidth_px, maxBit)\n",
    "fig.savefig(\"panoramas\"+sep+\"reshaped\"+sep+\"C2_gradientLow_reshaped_{}Rig.png\".format(rig),dpi = dpiVal)\n",
    "\n",
    "fig = plotPanorama(rescale(panGradVeryLow).T,panHeight_px,panWidth_px, maxBit)\n",
    "fig.savefig(\"panoramas\"+sep+\"reshaped\"+sep+\"C3_gradientVeryLow_reshaped_{}Rig.png\".format(rig),dpi = dpiVal)\n",
    "\n",
    "fig = plotPanorama(rescale(panGradLowBright).T,panHeight_px,panWidth_px, maxBit)\n",
    "fig.savefig(\"panoramas\"+sep+\"reshaped\"+sep+\"C4_gradientLowBright_reshaped_{}Rig.png\".format(rig),dpi = dpiVal)\n",
    "\n",
    "fig = plotPanorama(rescale(panGradVeryLowBright).T,panHeight_px,panWidth_px, maxBit)\n",
    "fig.savefig(\"panoramas\"+sep+\"reshaped\"+sep+\"C5_gradientVeryLowBright_reshaped_{}Rig.png\".format(rig),dpi = dpiVal)"
   ]
  },
  {
   "cell_type": "code",
   "execution_count": 57,
   "metadata": {},
   "outputs": [
    {
     "data": {
      "image/png": "[encoded data removed]",
      "text/plain": [
       "<Figure size 720x143.274 with 1 Axes>"
      ]
     },
     "metadata": {
      "needs_background": "light"
     },
     "output_type": "display_data"
    }
   ],
   "source": [
    "fig = plotPanorama(np.roll(rescale(panGrad).T, -int(np.shape(pan)[0]/4), axis = 0), panHeight_px,panWidth_px,maxBit) #)\n",
    "fig.savefig(\"panoramas\"+sep+\"reshaped\"+sep+\"C1_gradient_reshaped_{}RigLeftShifted.png\".format(rig),dpi = dpiVal)"
   ]
  },
  {
   "cell_type": "markdown",
   "metadata": {},
   "source": [
    "#### Reshape gradients with sundisk"
   ]
  },
  {
   "cell_type": "code",
   "execution_count": 58,
   "metadata": {
    "tags": []
   },
   "outputs": [
    {
     "data": {
      "image/png": "[encoded data removed]",
      "text/plain": [
       "<Figure size 720x143.274 with 1 Axes>"
      ]
     },
     "metadata": {
      "needs_background": "light"
     },
     "output_type": "display_data"
    },
    {
     "data": {
      "image/png": "[encoded data removed]",
      "text/plain": [
       "<Figure size 720x143.274 with 1 Axes>"
      ]
     },
     "metadata": {
      "needs_background": "light"
     },
     "output_type": "display_data"
    },
    {
     "data": {
      "image/png": "[encoded data removed]",
      "text/plain": [
       "<Figure size 720x143.274 with 1 Axes>"
      ]
     },
     "metadata": {
      "needs_background": "light"
     },
     "output_type": "display_data"
    },
    {
     "data": {
      "image/png": "[encoded data removed]",
      "text/plain": [
       "<Figure size 720x143.274 with 1 Axes>"
      ]
     },
     "metadata": {
      "needs_background": "light"
     },
     "output_type": "display_data"
    },
    {
     "data": {
      "image/png": "[encoded data removed]",
      "text/plain": [
       "<Figure size 720x143.274 with 1 Axes>"
      ]
     },
     "metadata": {
      "needs_background": "light"
     },
     "output_type": "display_data"
    },
    {
     "data": {
      "image/png": "[encoded data removed]",
      "text/plain": [
       "<Figure size 720x143.274 with 1 Axes>"
      ]
     },
     "metadata": {
      "needs_background": "light"
     },
     "output_type": "display_data"
    },
    {
     "data": {
      "image/png": "[encoded data removed]",
      "text/plain": [
       "<Figure size 720x143.274 with 1 Axes>"
      ]
     },
     "metadata": {
      "needs_background": "light"
     },
     "output_type": "display_data"
    },
    {
     "data": {
      "image/png": "[encoded data removed]",
      "text/plain": [
       "<Figure size 720x143.274 with 1 Axes>"
      ]
     },
     "metadata": {
      "needs_background": "light"
     },
     "output_type": "display_data"
    },
    {
     "data": {
      "image/png": "[encoded data removed]",
      "text/plain": [
       "<Figure size 720x143.274 with 1 Axes>"
      ]
     },
     "metadata": {
      "needs_background": "light"
     },
     "output_type": "display_data"
    }
   ],
   "source": [
    "panLeftShifted = np.roll(pan12, -int(np.shape(pan)[0]/4), axis = 0)\n",
    "brightStr = np.array([\"High\",\"Mid\",\"Low\"])\n",
    "\n",
    "brightRange = np.linspace(0,np.min(panGradLow),len(brightStr)+1)\n",
    "for i,bStr in enumerate(brightStr):\n",
    "    spotBrightness = brightRange[i]\n",
    "    panSpotGradLow = np.where(panLeftShifted.T>0,spotBrightness,panGradLow)\n",
    "    fig = plotPanorama(rescale(panSpotGradLow.T),panHeight_px,panWidth_px, maxBit)\n",
    "    fig.savefig(\"panoramas\"+sep+\"reshaped\"+sep+\"C2\"+\"S\"+str(i+1)+\"_panoramaSpot\"+bStr+\"GradientLow_reshaped_{}Rig.png\".format(rig),dpi = dpiVal)\n",
    "    \n",
    "panLeftShifted = np.roll(pan6, -int(np.shape(pan)[0]/4), axis = 0)\n",
    "brightStr = np.array([\"High\",\"Low\"])\n",
    "\n",
    "brightRange = np.linspace(0,np.min(panGradLow),len(brightStr)+1)\n",
    "for i,bStr in enumerate(brightStr):\n",
    "    spotBrightness = brightRange[i]\n",
    "    panSpotGradLow = np.where(panLeftShifted.T>0,spotBrightness,panGradLow)\n",
    "    fig = plotPanorama(rescale(panSpotGradLow.T),panHeight_px,panWidth_px, maxBit)\n",
    "    fig.savefig(\"panoramas\"+sep+\"reshaped\"+sep+\"C2\"+\"S\"+str(i+1)+\"s_panoramaSpot\"+bStr+\"GradientLow_reshaped_{}Rig.png\".format(rig),dpi = dpiVal)\n",
    "\n",
    "    \n",
    "panLeftShifted = np.roll(pan1, -int(np.shape(pan)[0]/4), axis = 0)\n",
    "brightStr = np.array([\"High\",\"Low\"])\n",
    "\n",
    "brightRange = np.linspace(0,np.min(panGradLow),len(brightStr)+1)\n",
    "for i,bStr in enumerate(brightStr):\n",
    "    spotBrightness = brightRange[i]\n",
    "    panSpotGradLow = np.where(panLeftShifted.T>0,spotBrightness,panGradLow)\n",
    "    fig = plotPanorama(rescale(panSpotGradLow.T),panHeight_px,panWidth_px, maxBit)\n",
    "    fig.savefig(\"panoramas\"+sep+\"reshaped\"+sep+\"C2\"+\"S\"+str(i+1)+\"ss_panoramaSpot\"+bStr+\"GradientLow_reshaped_{}Rig.png\".format(rig),dpi = dpiVal)\n",
    "    \n",
    "panRightShifted = np.roll(pan6, +int(np.shape(pan)[0]/4), axis = 0)\n",
    "brightStr = np.array([\"High\",\"Low\"])\n",
    "\n",
    "brightRange = np.linspace(0,np.min(panGradLow),len(brightStr)+1)\n",
    "for i,bStr in enumerate(brightStr):\n",
    "    spotBrightness = brightRange[i]\n",
    "    panSpotGradLow = np.where(panRightShifted.T>0,spotBrightness,panGradLow)\n",
    "    fig = plotPanorama(rescale(panSpotGradLow.T),panHeight_px,panWidth_px, maxBit)\n",
    "    fig.savefig(\"panoramas\"+sep+\"reshaped\"+sep+\"C2\"+\"T\"+str(i+1)+\"ss_panoramaSpot\"+bStr+\"GradientLow_reshaped_{}Rig.png\".format(rig),dpi = dpiVal)"
   ]
  },
  {
   "cell_type": "markdown",
   "metadata": {},
   "source": [
    "#### Reshape double sun stimuli"
   ]
  },
  {
   "cell_type": "code",
   "execution_count": 59,
   "metadata": {},
   "outputs": [
    {
     "data": {
      "image/png": "[encoded data removed]",
      "text/plain": [
       "<Figure size 720x143.274 with 1 Axes>"
      ]
     },
     "metadata": {
      "needs_background": "light"
     },
     "output_type": "display_data"
    },
    {
     "data": {
      "image/png": "[encoded data removed]",
      "text/plain": [
       "<Figure size 720x143.274 with 1 Axes>"
      ]
     },
     "metadata": {
      "needs_background": "light"
     },
     "output_type": "display_data"
    },
    {
     "data": {
      "image/png": "[encoded data removed]",
      "text/plain": [
       "<Figure size 720x143.274 with 1 Axes>"
      ]
     },
     "metadata": {
      "needs_background": "light"
     },
     "output_type": "display_data"
    },
    {
     "data": {
      "image/png": "[encoded data removed]",
      "text/plain": [
       "<Figure size 720x143.274 with 1 Axes>"
      ]
     },
     "metadata": {
      "needs_background": "light"
     },
     "output_type": "display_data"
    },
    {
     "data": {
      "image/png": "[encoded data removed]",
      "text/plain": [
       "<Figure size 720x143.274 with 1 Axes>"
      ]
     },
     "metadata": {
      "needs_background": "light"
     },
     "output_type": "display_data"
    },
    {
     "data": {
      "image/png": "[encoded data removed]",
      "text/plain": [
       "<Figure size 720x143.274 with 1 Axes>"
      ]
     },
     "metadata": {
      "needs_background": "light"
     },
     "output_type": "display_data"
    },
    {
     "data": {
      "image/png": "[encoded data removed]",
      "text/plain": [
       "<Figure size 720x143.274 with 1 Axes>"
      ]
     },
     "metadata": {
      "needs_background": "light"
     },
     "output_type": "display_data"
    },
    {
     "data": {
      "image/png": "[encoded data removed]",
      "text/plain": [
       "<Figure size 720x143.274 with 1 Axes>"
      ]
     },
     "metadata": {
      "needs_background": "light"
     },
     "output_type": "display_data"
    }
   ],
   "source": [
    "sepStr = ['45','90','120','180']\n",
    "brightStr = np.array([\"High\",\"Low\"])\n",
    "for j,sStr in enumerate(sepStr):\n",
    "    panLeftShifted = np.roll(pan6Shifted, -int(sepRange[j]), axis = 0)\n",
    "    for i,bStr in enumerate(brightStr):\n",
    "        spotBrightness = brightRange[i]\n",
    "        panSpotSpotLow = np.where(panLeftShifted.T>0,spotBrightness,brightSpotShifted.T)\n",
    "        fig = plotPanorama(rescale(panSpotSpotLow.T),panHeight_px,panWidth_px, maxBit)\n",
    "        fig.savefig(\"panoramas\"+sep+\"reshaped\"+sep+\"A2s\"+\"D\"+str(i+1)+\"_\"+sStr+\"_panoramaSpot\"+bStr+\"BrightSpot_reshaped_{}Rig.png\".format(rig),dpi = dpiVal)"
   ]
  },
  {
   "cell_type": "markdown",
   "metadata": {},
   "source": [
    "#### Reshape receptive field mapping stimuli"
   ]
  },
  {
   "cell_type": "code",
   "execution_count": 60,
   "metadata": {
    "tags": []
   },
   "outputs": [
    {
     "data": {
      "image/png": "[encoded data removed]",
      "text/plain": [
       "<Figure size 720x200.584 with 1 Axes>"
      ]
     },
     "metadata": {
      "needs_background": "light"
     },
     "output_type": "display_data"
    },
    {
     "data": {
      "image/png": "[encoded data removed]",
      "text/plain": [
       "<Figure size 720x200.584 with 1 Axes>"
      ]
     },
     "metadata": {
      "needs_background": "light"
     },
     "output_type": "display_data"
    },
    {
     "data": {
      "image/png": "[encoded data removed]",
      "text/plain": [
       "<Figure size 720x200.584 with 1 Axes>"
      ]
     },
     "metadata": {
      "needs_background": "light"
     },
     "output_type": "display_data"
    }
   ],
   "source": [
    "RFpans = [brightSpot_shift1, brightSpot_shift2, brightSpot_shift3]\n",
    "panName = ['RF2a_brightSpotDGrey','RF2b_brightSpotMGrey','RF2c_brightSpotLGrey']\n",
    "for i,RFpan in enumerate(RFpans):\n",
    "    fig = plotPanorama(rescale(RFpan),RFpanHeight_px,RFpanWidth_px, maxBit)\n",
    "    fig.savefig(\"panoramas\"+sep+\"reshaped\"+sep+panName[i]+\"_reshaped_{}Rig.png\".format(rig),dpi = RFdpiVal)"
   ]
  },
  {
   "cell_type": "code",
   "execution_count": 61,
   "metadata": {
    "tags": []
   },
   "outputs": [
    {
     "data": {
      "image/png": "[encoded data removed]",
      "text/plain": [
       "<Figure size 720x200.584 with 1 Axes>"
      ]
     },
     "metadata": {
      "needs_background": "light"
     },
     "output_type": "display_data"
    },
    {
     "data": {
      "image/png": "[encoded data removed]",
      "text/plain": [
       "<Figure size 720x200.584 with 1 Axes>"
      ]
     },
     "metadata": {
      "needs_background": "light"
     },
     "output_type": "display_data"
    },
    {
     "data": {
      "image/png": "[encoded data removed]",
      "text/plain": [
       "<Figure size 720x200.584 with 1 Axes>"
      ]
     },
     "metadata": {
      "needs_background": "light"
     },
     "output_type": "display_data"
    }
   ],
   "source": [
    "RFpans = [brightSpot_dim1, brightSpot_dim2, brightSpot_dim3]\n",
    "panName = ['RF3a_dGreySpot','RF3b_mGreySpot','RF3c_lGreySpot']\n",
    "for i,RFpan in enumerate(RFpans):\n",
    "    fig = plotPanorama(rescale(RFpan),RFpanHeight_px,RFpanWidth_px, maxBit)\n",
    "    fig.savefig(\"panoramas\"+sep+\"reshaped\"+sep+panName[i]+\"_reshaped_{}Rig.png\".format(rig),dpi = RFdpiVal)"
   ]
  },
  {
   "cell_type": "code",
   "execution_count": 62,
   "metadata": {
    "tags": []
   },
   "outputs": [
    {
     "data": {
      "image/png": "[encoded data removed]",
      "text/plain": [
       "<Figure size 720x200.584 with 1 Axes>"
      ]
     },
     "metadata": {
      "needs_background": "light"
     },
     "output_type": "display_data"
    }
   ],
   "source": [
    "fig = plotPanorama(rescale(darkSpot_shift),RFpanHeight_px,RFpanWidth_px, maxBit)\n",
    "fig.savefig(\"panoramas\"+sep+\"reshaped\"+sep+\"RF1c_darkSpotLGrey_reshaped_{}Rig.png\".format(rig),dpi = RFdpiVal)"
   ]
  },
  {
   "cell_type": "markdown",
   "metadata": {},
   "source": [
    "#### Reshape sundisk on grey"
   ]
  },
  {
   "cell_type": "code",
   "execution_count": 63,
   "metadata": {
    "tags": []
   },
   "outputs": [
    {
     "data": {
      "image/png": "[encoded data removed]",
      "text/plain": [
       "<Figure size 720x143.274 with 1 Axes>"
      ]
     },
     "metadata": {
      "needs_background": "light"
     },
     "output_type": "display_data"
    },
    {
     "data": {
      "image/png": "[encoded data removed]",
      "text/plain": [
       "<Figure size 720x143.274 with 1 Axes>"
      ]
     },
     "metadata": {
      "needs_background": "light"
     },
     "output_type": "display_data"
    }
   ],
   "source": [
    "darkSpot = pan6[:,:]\n",
    "brightSpot = abs(maxBit - darkSpot)\n",
    "\n",
    "panOn = darkSpot\n",
    "panOff = maxBit-panOn\n",
    "panOn = np.minimum(maxBit, panOn)\n",
    "panOff = np.minimum(maxBit, panOff)\n",
    "\n",
    "dotRatio = np.sum(panOn/maxBit)/(panWidth_px*panHeight_px)\n",
    "panOn_shift = panOn/2 + (0.5-dotRatio*0.5)*maxBit\n",
    "panOff_shift = panOff/2\n",
    "\n",
    "fig = plotPanorama(rescale(panOn_shift),panHeight_px,panWidth_px, maxBit)\n",
    "fig.savefig(\"panoramas\"+sep+\"reshaped\"+sep+\"B1s_smallDarkOnGrey_reshaped_{}Rig.png\".format(rig),dpi = dpiVal)\n",
    "\n",
    "fig = plotPanorama(rescale(panOff_shift),panHeight_px,panWidth_px, maxBit)\n",
    "fig.savefig(\"panoramas\"+sep+\"reshaped\"+sep+\"B2s_smallBrightOnGrey_reshaped_{}Rig.png\".format(rig),dpi = dpiVal)"
   ]
  },
  {
   "cell_type": "code",
   "execution_count": 64,
   "metadata": {
    "tags": []
   },
   "outputs": [
    {
     "data": {
      "image/png": "[encoded data removed]",
      "text/plain": [
       "<Figure size 720x143.274 with 1 Axes>"
      ]
     },
     "metadata": {
      "needs_background": "light"
     },
     "output_type": "display_data"
    },
    {
     "data": {
      "image/png": "[encoded data removed]",
      "text/plain": [
       "<Figure size 720x143.274 with 1 Axes>"
      ]
     },
     "metadata": {
      "needs_background": "light"
     },
     "output_type": "display_data"
    }
   ],
   "source": [
    "pan6 = generateSingleSpotPan(dotSizeAng=6, \n",
    "                            relDotpos=(panWidth_px/2, (panHeight_px + panWidth_px * (6/360) ) /2), \n",
    "                            panHeight_px=panHeight_px, panWidth_px=panWidth_px)\n",
    "darkSpot = pan6[:,:]\n",
    "brightSpot = abs(maxBit - darkSpot)\n",
    "\n",
    "fig = plotPanorama(darkSpot,panHeight_px,panWidth_px, maxBit)\n",
    "fig.savefig(\"panoramas\"+sep+\"A1s_smallDarkSpot.png\",dpi = dpiVal)\n",
    "\n",
    "fig = plotPanorama(brightSpot,panHeight_px,panWidth_px, maxBit)\n",
    "fig.savefig(\"panoramas\"+sep+\"A2s_smallBrightSpot.png\", dpi = dpiVal)"
   ]
  },
  {
   "cell_type": "code",
   "execution_count": null,
   "metadata": {},
   "outputs": [],
   "source": []
  },
  {
   "cell_type": "code",
   "execution_count": null,
   "metadata": {},
   "outputs": [],
   "source": []
  }
 ],
 "metadata": {
  "kernelspec": {
   "display_name": "unityvr",
   "language": "python",
   "name": "unityvr"
  },
  "language_info": {
   "codemirror_mode": {
    "name": "ipython",
    "version": 3
   },
   "file_extension": ".py",
   "mimetype": "text/x-python",
   "name": "python",
   "nbconvert_exporter": "python",
   "pygments_lexer": "ipython3",
   "version": "3.8.17"
  },
  "widgets": {
   "application/vnd.jupyter.widget-state+json": {
    "state": {},
    "version_major": 2,
    "version_minor": 0
   }
  }
 },
 "nbformat": 4,
 "nbformat_minor": 4
}
