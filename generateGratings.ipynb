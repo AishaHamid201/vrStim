{
 "cells": [
  {
   "cell_type": "markdown",
   "metadata": {},
   "source": [
    "## Generation of visual panoramas to be tested for head direction stability\n",
    "Run in unityvr virtual environment"
   ]
  },
  {
   "cell_type": "code",
   "execution_count": 1,
   "metadata": {
    "tags": []
   },
   "outputs": [],
   "source": [
    "import numpy as np\n",
    "import matplotlib.pyplot as plt\n",
    "from skimage.morphology import disk, rectangle\n",
    "from scipy.signal import convolve2d\n",
    "from pathlib import Path\n",
    "from os.path import sep\n",
    "import scipy as sp\n",
    "import imageio\n",
    "import pandas as pd\n",
    "import json\n",
    "\n",
    "np.random.seed(seed=3)\n",
    "%config Completer.use_jedi = False  #magic to fix autocomplete issue\n",
    "%matplotlib inline\n",
    "\n",
    "from stimGen import generateSingleSpotPan, plotPanorama, plotPanoramaStretch, createMovie\n",
    "\n",
    "import matplotlib\n",
    "matplotlib.rcParams['pdf.fonttype'] = 42"
   ]
  },
  {
   "cell_type": "markdown",
   "metadata": {},
   "source": [
    "### Visibility range of the screen\n",
    "#### (a) Visibility above the horizon line\n",
    "This visibility range is limited by either the fly holder (pyramid) or the screen height. \n",
    "If the screen is limited, the angle it spans depends on the screen distance  which may vary along the azimuth. We will consider only the extreme values, i.e. the minimum and maximum screen distances. For the pentagonal screen that's r_min at the center of the faces and r_max at the corners. "
   ]
  },
  {
   "cell_type": "code",
   "execution_count": 2,
   "metadata": {
    "tags": []
   },
   "outputs": [
    {
     "name": "stdout",
     "output_type": "stream",
     "text": [
      "The screen spans an angle from 24.443954780416536 to 32.005383208083494 above the horizon line.\n"
     ]
    }
   ],
   "source": [
    "screenMinDist = 4.0 #cm (r_min in Fig1 S1)\n",
    "screenMaxDist = 5.5 #cm (r_max in Fig1 S1)\n",
    "\n",
    "topScreenHeight = 2.5 #cm\n",
    "bottomScreenHeight = 7 #cm\n",
    "\n",
    "alpha_rmin = (180/np.pi) * np.arctan( topScreenHeight / screenMinDist)\n",
    "alpha_rmax = (180/np.pi) * np.arctan( topScreenHeight / screenMaxDist)\n",
    "\n",
    "print(\"The screen spans an angle from {} to {} above the horizon line.\".format(alpha_rmax, alpha_rmin))"
   ]
  },
  {
   "cell_type": "markdown",
   "metadata": {},
   "source": [
    "#### (b) Visibility below the horizon line\n",
    "This visibility range is limited by the ball surface (unless the screen doesn't extend much below the fly). Set `no_ball` to be true if screen limited."
   ]
  },
  {
   "cell_type": "code",
   "execution_count": 3,
   "metadata": {},
   "outputs": [],
   "source": [
    "no_ball = False"
   ]
  },
  {
   "cell_type": "code",
   "execution_count": 4,
   "metadata": {
    "tags": []
   },
   "outputs": [
    {
     "name": "stdout",
     "output_type": "stream",
     "text": [
      "Angle visible below horizon line: 34.61286464893424\n"
     ]
    }
   ],
   "source": [
    "if not no_ball:\n",
    "    ballRad = 4.65 # treadmill ball radius [mm]\n",
    "    flyEyeAboveBall = 1 # height of eye above ball surface [mm]\n",
    "    print('Angle visible below horizon line:',90-(180/np.pi)*np.arcsin(ballRad/(flyEyeAboveBall+ballRad)))\n",
    "else:\n",
    "    beta_rmin = (180/np.pi) * np.arctan( bottomScreenHeight / screenMinDist)\n",
    "    beta_rmax = (180/np.pi) * np.arctan( bottomScreenHeight / screenMaxDist)\n",
    "    print(\"The screen spans an angle from {} to {} below the horizon line.\".format(beta_rmax, beta_rmin))"
   ]
  },
  {
   "cell_type": "markdown",
   "metadata": {},
   "source": [
    "### Determine appropriate size for the texture\n",
    "Choose which angle should be spanned. The texture will be sized to be displayed such that it spans the full size at the closest points on the  screen (r_min). Thus, the texture should be displayed on a cylinder with radius r_min."
   ]
  },
  {
   "cell_type": "code",
   "execution_count": 5,
   "metadata": {},
   "outputs": [],
   "source": [
    "RFmapCylinder = True"
   ]
  },
  {
   "cell_type": "code",
   "execution_count": 6,
   "metadata": {
    "tags": []
   },
   "outputs": [
    {
     "name": "stdout",
     "output_type": "stream",
     "text": [
      "Cylinder height: 3.5 cm, Cylinder radius: 4.0 cm\n"
     ]
    }
   ],
   "source": [
    "setalpha = alpha_rmin*(np.pi/180) if not no_ball else np.max([beta_rmin,alpha_rmin])*(np.pi/180)\n",
    "if RFmapCylinder:\n",
    "    height_cm = 7\n",
    "else:\n",
    "    height_cm = np.round(np.tan(setalpha) * screenMinDist, 2) * 2\n",
    "# Values to set in unity scene:\n",
    "print('Cylinder height: {} cm, Cylinder radius: {} cm'.format(height_cm/2, screenMinDist))"
   ]
  },
  {
   "cell_type": "code",
   "execution_count": 7,
   "metadata": {
    "tags": []
   },
   "outputs": [
    {
     "name": "stdout",
     "output_type": "stream",
     "text": [
      "pixels along elevation: 1286\n",
      "pixels along azimuth: 4618\n"
     ]
    }
   ],
   "source": [
    "singleScreenResolution = [720,480] # pixels # long axis of screen is elevation and short axis is azimuth\n",
    "\n",
    "## calculating pixel/cm based on the minimal allowed resolution so that the full resolution of the panorama can be used\n",
    "##  TODO: check if this is correct (calculation based on circle to line projection)\n",
    "pt_per_cm = np.max([1/(((2*np.sqrt(screenMaxDist**2-screenMinDist**2))/singleScreenResolution[1])*(1/(1+(screenMaxDist/screenMinDist)**2))), \n",
    "                    singleScreenResolution[0]/(topScreenHeight+bottomScreenHeight)])\n",
    "\n",
    "panHeight_px = int(height_cm * pt_per_cm)\n",
    "panWidth_px = int(2*np.pi*screenMinDist*pt_per_cm)\n",
    "\n",
    "maxBit = 255 #assuming 8bit image depth\n",
    "print(\"pixels along elevation:\",panHeight_px)\n",
    "print(\"pixels along azimuth:\",panWidth_px)"
   ]
  },
  {
   "cell_type": "markdown",
   "metadata": {},
   "source": [
    "## Step Gratings\n",
    "\n",
    "### Create 1D Pattern"
   ]
  },
  {
   "cell_type": "code",
   "execution_count": 8,
   "metadata": {},
   "outputs": [],
   "source": [
    "equal = True #white and black bars same size"
   ]
  },
  {
   "cell_type": "code",
   "execution_count": 9,
   "metadata": {},
   "outputs": [],
   "source": [
    "spatialFreq = 1/5 #dark bars/deg\n",
    "if equal:\n",
    "    barSizeAng = 1/spatialFreq\n",
    "else:\n",
    "    barSizeAng = 20 #aim for x deg dark bars"
   ]
  },
  {
   "cell_type": "code",
   "execution_count": 10,
   "metadata": {},
   "outputs": [],
   "source": [
    "barRad = int(panWidth_px * 0.5 * (barSizeAng/360))\n",
    "whiteBar = rectangle(panHeight_px, barRad)"
   ]
  },
  {
   "cell_type": "code",
   "execution_count": 11,
   "metadata": {},
   "outputs": [],
   "source": [
    "oneD = np.zeros(panWidth_px)\n",
    "oneD[np.linspace(0,panWidth_px-1,int(round(spatialFreq*360))).round().astype('int')] = maxBit\n",
    "kernel = np.ones(barRad)\n",
    "oneDGrating = sp.signal.convolve(oneD, kernel, mode='same')"
   ]
  },
  {
   "cell_type": "markdown",
   "metadata": {},
   "source": [
    "## Convert to 2D and Rotate"
   ]
  },
  {
   "cell_type": "code",
   "execution_count": 12,
   "metadata": {},
   "outputs": [],
   "source": [
    "rotAngle = 0 #deg, right handed convention\n",
    "dpiVal = 300"
   ]
  },
  {
   "cell_type": "code",
   "execution_count": 13,
   "metadata": {},
   "outputs": [],
   "source": [
    "pan = np.zeros((panWidth_px,panHeight_px),dtype=np.uint8)\n",
    "for i in range(pan.shape[1]):\n",
    "    pan[:,i] = (255-oneDGrating/1.25)"
   ]
  },
  {
   "cell_type": "code",
   "execution_count": 14,
   "metadata": {},
   "outputs": [
    {
     "data": {
      "image/png": "[encoded data removed]",
      "text/plain": [
       "<Figure size 1000x278.476 with 1 Axes>"
      ]
     },
     "metadata": {},
     "output_type": "display_data"
    }
   ],
   "source": [
    "twoDGrating = sp.ndimage.rotate(pan,rotAngle,reshape=False,mode='grid-wrap')\n",
    "fig = plotPanorama(twoDGrating,panHeight_px,panWidth_px, maxBit)\n",
    "fig.savefig(\"panoramas\"+sep+f\"OLGratingStimuli-{barSizeAng}deg.png\", dpi = dpiVal)"
   ]
  },
  {
   "cell_type": "code",
   "execution_count": 15,
   "metadata": {},
   "outputs": [],
   "source": [
    "import pandas as pd\n",
    "from scipy.optimize import minimize\n",
    "import scipy as sp\n",
    "\n",
    "Dir = 'screenMeasurements/' #\"/Volumes/jayaramanlab/Shivam/\" #connect to dm11\n",
    "rig = \"Hannah\" #\"Shivam\"#\n",
    "\n",
    "if rig == \"Shivam\":\n",
    "    file2 = rig+\"Rig_mean_brightness_level_6.csv\"\n",
    "else:\n",
    "    file2 = rig+\"Rig_mean_brightness.csv\"\n",
    "    \n",
    "file = rig+\"Rig_lookup_table_transformed_brightness.csv\"\n",
    "\n",
    "lookupDf = pd.read_csv(Dir+file)\n",
    "mean_brightness = pd.read_csv(Dir+file2)"
   ]
  },
  {
   "cell_type": "code",
   "execution_count": 16,
   "metadata": {},
   "outputs": [],
   "source": [
    "def rescale(img):\n",
    "    x = img.flatten()\n",
    "    y = np.array(lookupDf.iloc[x]['Iin'])\n",
    "    imgT = y.reshape(np.shape(img))\n",
    "    return imgT"
   ]
  },
  {
   "cell_type": "code",
   "execution_count": 17,
   "metadata": {},
   "outputs": [
    {
     "data": {
      "image/png": "[encoded data removed]",
      "text/plain": [
       "<Figure size 1000x278.476 with 1 Axes>"
      ]
     },
     "metadata": {},
     "output_type": "display_data"
    }
   ],
   "source": [
    "RFpans = [twoDGrating]\n",
    "panName = [f\"OLGratingStimuli-{barSizeAng}deg\"]\n",
    "for i,RFpan in enumerate(RFpans):\n",
    "    fig = plotPanorama(rescale(RFpan),panHeight_px,panWidth_px, maxBit)\n",
    "    fig.savefig(\"panoramas\"+sep+\"reshaped\"+sep+panName[i]+\"_reshaped_{}Rig.png\".format(rig),dpi = dpiVal)"
   ]
  },
  {
   "cell_type": "code",
   "execution_count": null,
   "metadata": {},
   "outputs": [],
   "source": []
  }
 ],
 "metadata": {
  "kernelspec": {
   "display_name": "unityvr",
   "language": "python",
   "name": "unityvr"
  },
  "language_info": {
   "codemirror_mode": {
    "name": "ipython",
    "version": 3
   },
   "file_extension": ".py",
   "mimetype": "text/x-python",
   "name": "python",
   "nbconvert_exporter": "python",
   "pygments_lexer": "ipython3",
   "version": "3.8.17"
  },
  "widgets": {
   "application/vnd.jupyter.widget-state+json": {
    "state": {},
    "version_major": 2,
    "version_minor": 0
   }
  }
 },
 "nbformat": 4,
 "nbformat_minor": 4
}
