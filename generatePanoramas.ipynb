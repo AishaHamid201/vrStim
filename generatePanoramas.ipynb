{
 "cells": [
  {
   "cell_type": "markdown",
   "metadata": {},
   "source": [
    "## Generation of visual panoramas to be tested for head direction stability"
   ]
  },
  {
   "cell_type": "code",
   "execution_count": 1,
   "metadata": {},
   "outputs": [],
   "source": [
    "import numpy as np\n",
    "import matplotlib.pyplot as plt\n",
    "from scipy.stats import vonmises\n",
    "from skimage.morphology import disk\n",
    "from scipy.signal import convolve2d, correlate\n",
    "from scipy.stats import zscore\n",
    "from pathlib import Path\n",
    "from os.path import sep\n",
    "\n",
    "np.random.seed(seed=3)\n",
    "%config Completer.use_jedi = False  #magic to fix autocomplete issue\n",
    "%matplotlib inline"
   ]
  },
  {
   "cell_type": "markdown",
   "metadata": {},
   "source": [
    "### Visibility range of the screen\n",
    "#### (a) Visibility below the horizon line\n",
    "This visibility range is limited by the ball surface (unless the screen is very short)"
   ]
  },
  {
   "cell_type": "code",
   "execution_count": 2,
   "metadata": {},
   "outputs": [
    {
     "name": "stdout",
     "output_type": "stream",
     "text": [
      "Angle visible below horizon line:\n"
     ]
    },
    {
     "data": {
      "text/plain": [
       "35.19604924633808"
      ]
     },
     "execution_count": 2,
     "metadata": {},
     "output_type": "execute_result"
    }
   ],
   "source": [
    "ballRad = 4.47 # treadmill ball radius [mm]\n",
    "flyEyeAboveBall = 1 # height of eye above ball surface [mm]\n",
    "\n",
    "print('Angle visible below horizon line:')\n",
    "90-(180/np.pi)*np.arcsin(ballRad/(flyEyeAboveBall+ballRad))"
   ]
  },
  {
   "cell_type": "markdown",
   "metadata": {},
   "source": [
    "#### (b) Visibility above the horizon line\n",
    "This visibility range is limited by either the fly holder (pyramid) or the screen height. \n",
    "If the screen is limited, the angle it spans depends on the screen distance  which may vary along the azimuth. We will consider only the extreme values, i.e. the minimum and maximum screen distances. For the pentagonal screen that's r_min at the center of the faces and r_max at the corners. "
   ]
  },
  {
   "cell_type": "code",
   "execution_count": 3,
   "metadata": {},
   "outputs": [
    {
     "name": "stdout",
     "output_type": "stream",
     "text": [
      "The screen spans an angle from 24.443954780416536 to 32.005383208083494 above the horizon line.\n"
     ]
    }
   ],
   "source": [
    "#pyramidAngle = 20 #12 for old pyramid, ideally 20 for new pyramid\n",
    "\n",
    "screenMinDist = 4.0 # cm\n",
    "screenMaxDist = 5.5 #cm\n",
    "\n",
    "topScreenHeight = 2.5 #cm\n",
    "\n",
    "alpha_rmin = (180/np.pi) * np.arctan( topScreenHeight / screenMinDist)\n",
    "alpha_rmax = (180/np.pi) * np.arctan( topScreenHeight / screenMaxDist)\n",
    "\n",
    "print(\"The screen spans an angle from {} to {} above the horizon line.\".format(alpha_rmax, alpha_rmin))"
   ]
  },
  {
   "cell_type": "markdown",
   "metadata": {},
   "source": [
    "### Determine approrpiate size for the texture\n",
    "Choose which angle should be spanned. The texture will be sized to be displayed such that it spans the full size at the closest points on the  screen (r_min). Thus, the texture should be displayed on a cylinder with radius r_min."
   ]
  },
  {
   "cell_type": "code",
   "execution_count": 4,
   "metadata": {},
   "outputs": [
    {
     "name": "stdout",
     "output_type": "stream",
     "text": [
      "Cylinder height: 2.5 cm, Cylinder radius: 4.0 cm\n"
     ]
    }
   ],
   "source": [
    "setalpha = alpha_rmin*(np.pi/180)\n",
    "height_cm = np.round(np.tan(setalpha) * screenMinDist, 2) * 2\n",
    "# Values to set in unity scene:\n",
    "print('Cylinder height: {} cm, Cylinder radius: {} cm'.format(height_cm/2, screenMinDist))"
   ]
  },
  {
   "cell_type": "code",
   "execution_count": 5,
   "metadata": {},
   "outputs": [],
   "source": [
    "pt_per_cm = 150\n",
    "dpiVal = 600\n",
    "\n",
    "panHeight_px = int(height_cm * pt_per_cm)\n",
    "panWidth_px = int(2*np.pi*screenMinDist*pt_per_cm)\n",
    "\n",
    "maxBit = 255 #assuming 8bit image depth"
   ]
  },
  {
   "cell_type": "markdown",
   "metadata": {},
   "source": [
    "## Stimulus for screen position calibration"
   ]
  },
  {
   "cell_type": "code",
   "execution_count": 6,
   "metadata": {},
   "outputs": [],
   "source": [
    "def generateSingleSpotPan(dotSizeAng, relDotpos, panHeight_px, panWidth_px, setalpha):\n",
    "    \n",
    "    #convert angular dot size to pixel size and make dot\n",
    "    dotRad = panWidth_px * 0.5 * (dotSizeAng/360) #panHeight_px * 0.5 * 0.5 * dotSizeAng/( setalpha*180/np.pi )\n",
    "    mydot = disk(radius=dotRad)\n",
    "    \n",
    "    dotpos_x = round(relDotpos[0])\n",
    "    dotpos_y = round(relDotpos[1])\n",
    "    \n",
    "    pan = np.zeros((panWidth_px,panHeight_px),dtype=np.uint8)\n",
    "    pan[dotpos_x, dotpos_y] = maxBit\n",
    "    pan[:,:] = convolve2d(pan[:,:], mydot, boundary = 'wrap', mode='same')\n",
    "\n",
    "    pan = np.minimum(maxBit, pan)\n",
    "\n",
    "    return pan\n",
    "\n",
    "def plotPanorama(pan,panHeight_px,panWidth_px, maxBit):\n",
    "    fig = plt.figure(frameon=False)\n",
    "    fig.set_size_inches(10,10*panHeight_px/panWidth_px)\n",
    "    ax = plt.Axes(fig, [0., 0., 1., 1.])\n",
    "    ax.set_axis_off()\n",
    "    fig.add_axes(ax)\n",
    "    ax.imshow(pan.T,origin='lower', cmap='binary', vmin=0, vmax=maxBit)\n",
    "    return fig"
   ]
  },
  {
   "cell_type": "code",
   "execution_count": 7,
   "metadata": {},
   "outputs": [],
   "source": [
    "dotSizeAng = 5 #aim for x deg dot\n",
    "\n",
    "#covnert angular dot size to pixel size and make dot\n",
    "dotRad = panWidth_px * 0.5 * (dotSizeAng/360)\n",
    "mydot = disk(radius=dotRad)\n",
    "\n",
    "dotpos_x = panWidth_px * 72./360. * np.asarray([0, 1, 2, 3, 4])\n",
    "dotpos_y = panHeight_px * np.asarray([0.2, 0.25, 0.3, 0.35, 0.4])\n",
    "\n",
    "pan = np.zeros((panWidth_px,panHeight_px),dtype=np.uint8)\n",
    "for i in range(len(dotpos_x)):\n",
    "    pan[round(dotpos_x[i]), round(dotpos_y[i])] = maxBit\n",
    "pan[round(dotpos_x[0]), round(dotpos_y[0])] = maxBit/2\n",
    "pan[:,:] = convolve2d(pan[:,:], mydot, boundary = 'wrap', mode='same')\n",
    "pan = np.minimum(maxBit, pan)"
   ]
  },
  {
   "cell_type": "code",
   "execution_count": 8,
   "metadata": {},
   "outputs": [
    {
     "data": {
      "image/png": "[encoded data removed]",
      "text/plain": [
       "<Figure size 720x143.274 with 1 Axes>"
      ]
     },
     "metadata": {
      "needs_background": "light"
     },
     "output_type": "display_data"
    }
   ],
   "source": [
    "# make directory if it does not already exist\n",
    "Path(\"panoramas\").mkdir(parents=True, exist_ok=True)\n",
    "fig = plotPanorama(pan,panHeight_px,panWidth_px, maxBit)\n",
    "fig.savefig(\"panoramas\"+sep+\"screenMap_darkSpot.png\",dpi = dpiVal)"
   ]
  },
  {
   "cell_type": "markdown",
   "metadata": {},
   "source": [
    "## Images for brightness calibration"
   ]
  },
  {
   "cell_type": "code",
   "execution_count": 9,
   "metadata": {},
   "outputs": [
    {
     "data": {
      "text/plain": [
       "[<matplotlib.lines.Line2D at 0x1679f1f10>]"
      ]
     },
     "execution_count": 9,
     "metadata": {},
     "output_type": "execute_result"
    },
    {
     "data": {
      "image/png": "[encoded data removed]",
      "text/plain": [
       "<Figure size 432x288 with 1 Axes>"
      ]
     },
     "metadata": {
      "needs_background": "light"
     },
     "output_type": "display_data"
    }
   ],
   "source": [
    "panHeight = 948\n",
    "panWidth = 584\n",
    "stepLevels_high = np.linspace(0,6,panHeight+1).astype('int')[:-1]*maxBit/10\n",
    "panStripe_high = np.tile(stepLevels_high, panWidth).reshape(panWidth,panHeight).astype('int')\n",
    "stepLevels_low = np.linspace(5,11,panHeight+1).astype('int')[:-1]*maxBit/10\n",
    "panStripe_low = np.tile(stepLevels_low, panWidth).reshape(panWidth,panHeight).astype('int')\n",
    "\n",
    "plt.plot(stepLevels_low)\n",
    "plt.plot(stepLevels_high)"
   ]
  },
  {
   "cell_type": "code",
   "execution_count": 10,
   "metadata": {},
   "outputs": [
    {
     "data": {
      "image/png": "[encoded data removed]",
      "text/plain": [
       "<Figure size 720x143.274 with 1 Axes>"
      ]
     },
     "metadata": {
      "needs_background": "light"
     },
     "output_type": "display_data"
    },
    {
     "data": {
      "image/png": "[encoded data removed]",
      "text/plain": [
       "<Figure size 720x143.274 with 1 Axes>"
      ]
     },
     "metadata": {
      "needs_background": "light"
     },
     "output_type": "display_data"
    }
   ],
   "source": [
    "# make directory if it does not already exist\n",
    "Path(\"calibration\").mkdir(parents=True, exist_ok=True)\n",
    "\n",
    "fig = plotPanorama(panStripe_low,panHeight_px/2,panWidth_px/2, maxBit)\n",
    "fig.savefig(\"calibration\"+sep+\"BrightnessSteps_low.png\",dpi = dpiVal)\n",
    "\n",
    "fig = plotPanorama(panStripe_high,panHeight_px/2,panWidth_px/2, maxBit)\n",
    "fig.savefig(\"calibration\"+sep+\"BrightnessSteps_high.png\",dpi = dpiVal)"
   ]
  },
  {
   "cell_type": "markdown",
   "metadata": {},
   "source": [
    "## Stimuli for receptive field mapping"
   ]
  },
  {
   "cell_type": "code",
   "execution_count": 11,
   "metadata": {},
   "outputs": [],
   "source": [
    "pan = generateSingleSpotPan(dotSizeAng=5, relDotpos=(0,int(0-dotRad)), panHeight_px=panHeight_px, panWidth_px=panWidth_px, setalpha=setalpha)\n",
    "darkSpot = pan[:,:]\n",
    "brightSpot = abs(maxBit - darkSpot)"
   ]
  },
  {
   "cell_type": "code",
   "execution_count": 12,
   "metadata": {},
   "outputs": [
    {
     "data": {
      "image/png": "[encoded data removed]",
      "text/plain": [
       "<Figure size 720x143.274 with 1 Axes>"
      ]
     },
     "metadata": {
      "needs_background": "light"
     },
     "output_type": "display_data"
    },
    {
     "data": {
      "image/png": "[encoded data removed]",
      "text/plain": [
       "<Figure size 720x143.274 with 1 Axes>"
      ]
     },
     "metadata": {
      "needs_background": "light"
     },
     "output_type": "display_data"
    }
   ],
   "source": [
    "# make directory if it does not already exist\n",
    "Path(\"panoramas\").mkdir(parents=True, exist_ok=True)\n",
    "\n",
    "fig = plotPanorama(darkSpot,panHeight_px,panWidth_px, maxBit)\n",
    "fig.savefig(\"panoramas\"+sep+\"RF1_darkSpot.png\",dpi = dpiVal)\n",
    "\n",
    "fig = plotPanorama(brightSpot,panHeight_px,panWidth_px, maxBit)\n",
    "fig.savefig(\"panoramas\"+sep+\"RF2_brightSpot.png\", dpi = dpiVal)"
   ]
  },
  {
   "cell_type": "markdown",
   "metadata": {},
   "source": [
    "**Lower contrast bright spot**"
   ]
  },
  {
   "cell_type": "code",
   "execution_count": 13,
   "metadata": {},
   "outputs": [
    {
     "data": {
      "image/png": "[encoded data removed]",
      "text/plain": [
       "<Figure size 720x143.274 with 1 Axes>"
      ]
     },
     "metadata": {
      "needs_background": "light"
     },
     "output_type": "display_data"
    },
    {
     "data": {
      "image/png": "[encoded data removed]",
      "text/plain": [
       "<Figure size 720x143.274 with 1 Axes>"
      ]
     },
     "metadata": {
      "needs_background": "light"
     },
     "output_type": "display_data"
    },
    {
     "data": {
      "image/png": "[encoded data removed]",
      "text/plain": [
       "<Figure size 720x143.274 with 1 Axes>"
      ]
     },
     "metadata": {
      "needs_background": "light"
     },
     "output_type": "display_data"
    }
   ],
   "source": [
    "brightSpot_shift1 = brightSpot/1.25\n",
    "brightSpot_shift2 = brightSpot/1.5\n",
    "brightSpot_shift3 = brightSpot/2\n",
    "\n",
    "fig = plotPanorama(brightSpot_shift1,panHeight_px,panWidth_px, maxBit)\n",
    "fig.savefig(\"panoramas\"+sep+\"RF2a_brightSpotDGrey.png\", dpi = dpiVal)\n",
    "\n",
    "fig = plotPanorama(brightSpot_shift2,panHeight_px,panWidth_px, maxBit)\n",
    "fig.savefig(\"panoramas\"+sep+\"RF2b_brightSpotMGrey.png\", dpi = dpiVal)\n",
    "\n",
    "fig = plotPanorama(brightSpot_shift3,panHeight_px,panWidth_px, maxBit)\n",
    "fig.savefig(\"panoramas\"+sep+\"RF2c_brightSpotLGrey.png\", dpi = dpiVal)"
   ]
  },
  {
   "cell_type": "code",
   "execution_count": 14,
   "metadata": {},
   "outputs": [
    {
     "data": {
      "image/png": "[encoded data removed]",
      "text/plain": [
       "<Figure size 720x143.274 with 1 Axes>"
      ]
     },
     "metadata": {
      "needs_background": "light"
     },
     "output_type": "display_data"
    },
    {
     "data": {
      "image/png": "[encoded data removed]",
      "text/plain": [
       "<Figure size 720x143.274 with 1 Axes>"
      ]
     },
     "metadata": {
      "needs_background": "light"
     },
     "output_type": "display_data"
    },
    {
     "data": {
      "image/png": "[encoded data removed]",
      "text/plain": [
       "<Figure size 720x143.274 with 1 Axes>"
      ]
     },
     "metadata": {
      "needs_background": "light"
     },
     "output_type": "display_data"
    }
   ],
   "source": [
    "brightSpot_dim1 = np.maximum(maxBit*0.9, brightSpot)\n",
    "brightSpot_dim2 = np.maximum(maxBit*0.5, brightSpot)\n",
    "brightSpot_dim3 = np.maximum(maxBit*0.25, brightSpot)\n",
    "\n",
    "fig = plotPanorama(brightSpot_dim1,panHeight_px,panWidth_px, maxBit)\n",
    "fig.savefig(\"panoramas\"+sep+\"RF3a_dGreySpot.png\", dpi = dpiVal)\n",
    "\n",
    "fig = plotPanorama(brightSpot_dim2,panHeight_px,panWidth_px, maxBit)\n",
    "fig.savefig(\"panoramas\"+sep+\"RF3b_mGreySpot.png\", dpi = dpiVal)\n",
    "\n",
    "fig = plotPanorama(brightSpot_dim3,panHeight_px,panWidth_px, maxBit)\n",
    "fig.savefig(\"panoramas\"+sep+\"RF3c_lGreySpot.png\", dpi = dpiVal)"
   ]
  },
  {
   "cell_type": "markdown",
   "metadata": {},
   "source": [
    "**Off stimulus on (light) grey**"
   ]
  },
  {
   "cell_type": "code",
   "execution_count": 15,
   "metadata": {},
   "outputs": [
    {
     "data": {
      "image/png": "[encoded data removed]",
      "text/plain": [
       "<Figure size 720x143.274 with 1 Axes>"
      ]
     },
     "metadata": {
      "needs_background": "light"
     },
     "output_type": "display_data"
    }
   ],
   "source": [
    "panOn = darkSpot\n",
    "panOn = np.minimum(maxBit, panOn)\n",
    "\n",
    "dotRatio = np.sum(panOn/maxBit)/(panWidth_px*panHeight_px)\n",
    "darkSpot_shift = panOn/2 + (0.5-dotRatio*0.5)*maxBit\n",
    "\n",
    "fig = plotPanorama(darkSpot_shift,panHeight_px,panWidth_px, maxBit)\n",
    "fig.savefig(\"panoramas\"+sep+\"RF1c_darkSpotLGrey.png\",dpi = dpiVal)"
   ]
  },
  {
   "cell_type": "markdown",
   "metadata": {},
   "source": [
    "**Illustration of stimulus brightness**"
   ]
  },
  {
   "cell_type": "code",
   "execution_count": 16,
   "metadata": {},
   "outputs": [
    {
     "data": {
      "image/png": "[encoded data removed]",
      "text/plain": [
       "<Figure size 576x288 with 2 Axes>"
      ]
     },
     "metadata": {
      "needs_background": "light"
     },
     "output_type": "display_data"
    }
   ],
   "source": [
    "fig, axs = plt.subplots(1,2,figsize=(8,4))\n",
    "dotpos_y = int(0-dotRad)\n",
    "axs[0].plot(darkSpot.T[dotpos_y,:], label='Bright spot')\n",
    "axs[0].plot(brightSpot.T[dotpos_y,:], label='Dark spot')\n",
    "\n",
    "axs[0].plot(brightSpot_shift1.T[dotpos_y,:], label='Bright spot on dark grey')\n",
    "axs[0].plot(brightSpot_shift2.T[dotpos_y,:], label='Bright spot on mid grey')\n",
    "axs[0].plot(brightSpot_shift3.T[dotpos_y,:], label='Bright spot on light grey')\n",
    "axs[0].plot(darkSpot_shift.T[dotpos_y,:], label='Dark spot on ligth grey')\n",
    "\n",
    "axs[1].plot(brightSpot_dim1.T[dotpos_y,:], label='Dark grey spot')\n",
    "axs[1].plot(brightSpot_dim2.T[dotpos_y,:], label='Mid grey spot')\n",
    "axs[1].plot(brightSpot_dim3.T[dotpos_y,:], label='Ligth grey spot')\n",
    "\n",
    "for ax in axs:\n",
    "    ax.set_ylim((0,maxBit))\n",
    "    ax.set_xlabel('Panorama width [px]')\n",
    "    ax.legend()\n",
    "    ax.set_ylabel('Bit range  (0-white, {}-black)'.format(maxBit));\n",
    "fig.tight_layout()\n",
    "fig.savefig(\"panoramas\"+sep+\"RF_stimulusComparioson.pdf\",dpi = dpiVal)"
   ]
  },
  {
   "cell_type": "markdown",
   "metadata": {},
   "source": [
    "\n",
    "\n",
    "## Stimuli with clear orientation information\n",
    "Vary just the brightness and test on vs. off features\n",
    "### (1) Generate a sun spot and the inverse image "
   ]
  },
  {
   "cell_type": "code",
   "execution_count": 17,
   "metadata": {},
   "outputs": [
    {
     "data": {
      "image/png": "[encoded data removed]",
      "text/plain": [
       "<Figure size 720x143.274 with 1 Axes>"
      ]
     },
     "metadata": {
      "needs_background": "light"
     },
     "output_type": "display_data"
    },
    {
     "data": {
      "image/png": "[encoded data removed]",
      "text/plain": [
       "<Figure size 720x143.274 with 1 Axes>"
      ]
     },
     "metadata": {
      "needs_background": "light"
     },
     "output_type": "display_data"
    }
   ],
   "source": [
    "pan12 = generateSingleSpotPan(dotSizeAng=12,  #aim for x deg dot\n",
    "                            relDotpos=(panWidth_px/2, (panHeight_px + panWidth_px * (12/360) ) /2), \n",
    "                            panHeight_px=panHeight_px, panWidth_px=panWidth_px, setalpha=setalpha)\n",
    "darkSpot = pan12[:,:]\n",
    "brightSpot = abs(maxBit - darkSpot)\n",
    "\n",
    "fig = plotPanorama(darkSpot,panHeight_px,panWidth_px, maxBit)\n",
    "fig.savefig(\"panoramas\"+sep+\"A1_darkSpot.png\",dpi = dpiVal)\n",
    "\n",
    "fig = plotPanorama(brightSpot,panHeight_px,panWidth_px, maxBit)\n",
    "fig.savefig(\"panoramas\"+sep+\"A2_brightSpot.png\", dpi = dpiVal)"
   ]
  },
  {
   "cell_type": "markdown",
   "metadata": {},
   "source": [
    "**Smaller sun spot**"
   ]
  },
  {
   "cell_type": "code",
   "execution_count": 18,
   "metadata": {},
   "outputs": [
    {
     "data": {
      "image/png": "[encoded data removed]",
      "text/plain": [
       "<Figure size 720x143.274 with 1 Axes>"
      ]
     },
     "metadata": {
      "needs_background": "light"
     },
     "output_type": "display_data"
    },
    {
     "data": {
      "image/png": "[encoded data removed]",
      "text/plain": [
       "<Figure size 720x143.274 with 1 Axes>"
      ]
     },
     "metadata": {
      "needs_background": "light"
     },
     "output_type": "display_data"
    }
   ],
   "source": [
    "pan6 = generateSingleSpotPan(dotSizeAng=6, \n",
    "                            relDotpos=(panWidth_px/2, (panHeight_px + panWidth_px * (6/360) ) /2), \n",
    "                            panHeight_px=panHeight_px, panWidth_px=panWidth_px, setalpha=setalpha)\n",
    "darkSpot = pan6[:,:]\n",
    "brightSpot = abs(maxBit - darkSpot)\n",
    "\n",
    "fig = plotPanorama(darkSpot,panHeight_px,panWidth_px, maxBit)\n",
    "fig.savefig(\"panoramas\"+sep+\"A1s_smallDarkSpot.png\",dpi = dpiVal)\n",
    "\n",
    "fig = plotPanorama(brightSpot,panHeight_px,panWidth_px, maxBit)\n",
    "fig.savefig(\"panoramas\"+sep+\"A2s_smallBrightSpot.png\", dpi = dpiVal)"
   ]
  },
  {
   "cell_type": "code",
   "execution_count": 19,
   "metadata": {},
   "outputs": [
    {
     "data": {
      "image/png": "[encoded data removed]",
      "text/plain": [
       "<Figure size 720x143.274 with 1 Axes>"
      ]
     },
     "metadata": {
      "needs_background": "light"
     },
     "output_type": "display_data"
    },
    {
     "data": {
      "image/png": "[encoded data removed]",
      "text/plain": [
       "<Figure size 720x143.274 with 1 Axes>"
      ]
     },
     "metadata": {
      "needs_background": "light"
     },
     "output_type": "display_data"
    }
   ],
   "source": [
    "pan3 = generateSingleSpotPan(dotSizeAng=3, \n",
    "                            relDotpos=(panWidth_px/2, (panHeight_px + panWidth_px * (3/360) ) /2), \n",
    "                            panHeight_px=panHeight_px, panWidth_px=panWidth_px, setalpha=setalpha)\n",
    "darkSpot = pan3[:,:]\n",
    "brightSpot = abs(maxBit - darkSpot)\n",
    "\n",
    "fig = plotPanorama(darkSpot,panHeight_px,panWidth_px, maxBit)\n",
    "fig.savefig(\"panoramas\"+sep+\"A1s3_smallDarkSpot.png\",dpi = dpiVal)\n",
    "\n",
    "fig = plotPanorama(brightSpot,panHeight_px,panWidth_px, maxBit)\n",
    "fig.savefig(\"panoramas\"+sep+\"A2s3_smallBrightSpot.png\", dpi = dpiVal)"
   ]
  },
  {
   "cell_type": "code",
   "execution_count": 20,
   "metadata": {},
   "outputs": [
    {
     "data": {
      "image/png": "[encoded data removed]",
      "text/plain": [
       "<Figure size 720x143.274 with 1 Axes>"
      ]
     },
     "metadata": {
      "needs_background": "light"
     },
     "output_type": "display_data"
    },
    {
     "data": {
      "image/png": "[encoded data removed]",
      "text/plain": [
       "<Figure size 720x143.274 with 1 Axes>"
      ]
     },
     "metadata": {
      "needs_background": "light"
     },
     "output_type": "display_data"
    }
   ],
   "source": [
    "pan1 = generateSingleSpotPan(dotSizeAng=1, \n",
    "                            relDotpos=(panWidth_px/2, (panHeight_px + panWidth_px * (1/360) ) /2), \n",
    "                            panHeight_px=panHeight_px, panWidth_px=panWidth_px, setalpha=setalpha)\n",
    "darkSpot = pan1[:,:]\n",
    "brightSpot = abs(maxBit - darkSpot)\n",
    "\n",
    "fig = plotPanorama(darkSpot,panHeight_px,panWidth_px, maxBit)\n",
    "fig.savefig(\"panoramas\"+sep+\"A1ss_superSmallDarkSpot.png\",dpi = dpiVal)\n",
    "\n",
    "fig = plotPanorama(brightSpot,panHeight_px,panWidth_px, maxBit)\n",
    "fig.savefig(\"panoramas\"+sep+\"A2ss_superSmallBrightSpot.png\", dpi = dpiVal)"
   ]
  },
  {
   "cell_type": "markdown",
   "metadata": {},
   "source": [
    "#### Generate two sun panoramas with matching overall brightness but opposide contrast"
   ]
  },
  {
   "cell_type": "code",
   "execution_count": 23,
   "metadata": {},
   "outputs": [
    {
     "data": {
      "image/png": "[encoded data removed]",
      "text/plain": [
       "<Figure size 720x143.274 with 1 Axes>"
      ]
     },
     "metadata": {
      "needs_background": "light"
     },
     "output_type": "display_data"
    },
    {
     "data": {
      "image/png": "[encoded data removed]",
      "text/plain": [
       "<Figure size 720x143.274 with 1 Axes>"
      ]
     },
     "metadata": {
      "needs_background": "light"
     },
     "output_type": "display_data"
    }
   ],
   "source": [
    "darkSpot = pan12[:,:]\n",
    "brightSpot = abs(maxBit - darkSpot)\n",
    "\n",
    "panOn = darkSpot\n",
    "panOff = maxBit-panOn\n",
    "panOn = np.minimum(maxBit, panOn)\n",
    "panOff = np.minimum(maxBit, panOff)\n",
    "\n",
    "dotRatio = np.sum(panOn/maxBit)/(panWidth_px*panHeight_px)\n",
    "panOn_shift = panOn/2 + (0.5-dotRatio*0.5)*maxBit\n",
    "panOff_shift = panOff/2\n",
    "\n",
    "fig = plotPanorama(panOn_shift,panHeight_px,panWidth_px, maxBit)\n",
    "fig.savefig(\"panoramas\"+sep+\"B1_darkOnGrey.png\",dpi = dpiVal)\n",
    "\n",
    "fig = plotPanorama(panOff_shift,panHeight_px,panWidth_px, maxBit)\n",
    "fig.savefig(\"panoramas\"+sep+\"B2_brightOnGrey.png\", dpi = dpiVal)"
   ]
  },
  {
   "cell_type": "code",
   "execution_count": 24,
   "metadata": {},
   "outputs": [
    {
     "data": {
      "image/png": "[encoded data removed]",
      "text/plain": [
       "<Figure size 720x143.274 with 1 Axes>"
      ]
     },
     "metadata": {
      "needs_background": "light"
     },
     "output_type": "display_data"
    },
    {
     "data": {
      "image/png": "[encoded data removed]",
      "text/plain": [
       "<Figure size 720x143.274 with 1 Axes>"
      ]
     },
     "metadata": {
      "needs_background": "light"
     },
     "output_type": "display_data"
    }
   ],
   "source": [
    "darkSpot = pan6[:,:]\n",
    "brightSpot = abs(maxBit - darkSpot)\n",
    "\n",
    "panOn = darkSpot\n",
    "panOff = maxBit-panOn\n",
    "panOn = np.minimum(maxBit, panOn)\n",
    "panOff = np.minimum(maxBit, panOff)\n",
    "\n",
    "dotRatio = np.sum(panOn/maxBit)/(panWidth_px*panHeight_px)\n",
    "panOn_shift = panOn/2 + (0.5-dotRatio*0.5)*maxBit\n",
    "panOff_shift = panOff/2\n",
    "\n",
    "fig = plotPanorama(panOn_shift,panHeight_px,panWidth_px, maxBit)\n",
    "fig.savefig(\"panoramas\"+sep+\"B1s_smallDarkOnGrey.png\",dpi = dpiVal)\n",
    "\n",
    "fig = plotPanorama(panOff_shift,panHeight_px,panWidth_px, maxBit)\n",
    "fig.savefig(\"panoramas\"+sep+\"B2s_smallBrightOnGrey.png\", dpi = dpiVal)"
   ]
  },
  {
   "cell_type": "code",
   "execution_count": 25,
   "metadata": {},
   "outputs": [
    {
     "name": "stdout",
     "output_type": "stream",
     "text": [
      "787950\n",
      "720033300\n",
      "1.0010943243874988\n"
     ]
    }
   ],
   "source": [
    "print(np.sum(panOn))\n",
    "print(np.sum(panOff))\n",
    "\n",
    "print(np.sum(panOn_shift)/np.sum(panOff_shift))"
   ]
  },
  {
   "cell_type": "markdown",
   "metadata": {},
   "source": [
    "**Follow up stimulus with darker grey background**"
   ]
  },
  {
   "cell_type": "code",
   "execution_count": 26,
   "metadata": {},
   "outputs": [
    {
     "data": {
      "image/png": "[encoded data removed]",
      "text/plain": [
       "<Figure size 720x143.274 with 1 Axes>"
      ]
     },
     "metadata": {
      "needs_background": "light"
     },
     "output_type": "display_data"
    },
    {
     "data": {
      "image/png": "[encoded data removed]",
      "text/plain": [
       "<Figure size 720x143.274 with 1 Axes>"
      ]
     },
     "metadata": {
      "needs_background": "light"
     },
     "output_type": "display_data"
    }
   ],
   "source": [
    "panOn_dark = panOn_shift + 0.2*maxBit\n",
    "panOff_dark = panOff_shift + 0.2*maxBit\n",
    "panOn_dark = np.minimum(maxBit, panOn_dark)\n",
    "panOff_dark[panOff_dark < 0.5*maxBit] = np.median(panOn_dark) - (maxBit - np.median(panOn_dark))\n",
    "\n",
    "fig = plotPanorama(panOn_dark,panHeight_px,panWidth_px, maxBit)\n",
    "fig.savefig(\"panoramas\"+sep+\"B1d_darkOnDarkGrey.png\",dpi = dpiVal)\n",
    "\n",
    "fig = plotPanorama(panOff_dark,panHeight_px,panWidth_px, maxBit)\n",
    "fig.savefig(\"panoramas\"+sep+\"B2d_brightOnDarkGrey.png\", dpi = dpiVal)"
   ]
  },
  {
   "cell_type": "code",
   "execution_count": 27,
   "metadata": {},
   "outputs": [
    {
     "name": "stdout",
     "output_type": "stream",
     "text": [
      "1.00015879639142\n"
     ]
    }
   ],
   "source": [
    "print(np.sum(panOn_dark)/np.sum(panOff_dark))"
   ]
  },
  {
   "cell_type": "code",
   "execution_count": 28,
   "metadata": {},
   "outputs": [
    {
     "data": {
      "image/png": "[encoded data removed]",
      "text/plain": [
       "<Figure size 576x288 with 2 Axes>"
      ]
     },
     "metadata": {
      "needs_background": "light"
     },
     "output_type": "display_data"
    }
   ],
   "source": [
    "fig, axs = plt.subplots(1,2,figsize=(8,4))\n",
    "dotpos_y = round((panHeight_px + (panHeight_px * 0.5 * 0.5 * 12/( setalpha*180/np.pi ) ))/2)\n",
    "axs[0].plot(panOn_shift.T[dotpos_y,:], label='Bright spot')\n",
    "axs[0].plot(panOff_shift.T[dotpos_y,:], label='Dark spot')\n",
    "axs[0].set_title('Light and Dark on mid-range gray')\n",
    "\n",
    "axs[1].plot(panOn_dark.T[dotpos_y,:], label='Bright spot')\n",
    "axs[1].plot(panOff_dark.T[dotpos_y,:], label='Dark spot')\n",
    "axs[1].set_title('Light and Dark on dark gray')\n",
    "\n",
    "for ax in axs:\n",
    "    ax.set_ylim((0,maxBit))\n",
    "    ax.set_xlabel('Panorama width [px]')\n",
    "    ax.legend()\n",
    "axs[0].set_ylabel('Bit range  (0-white, {}-black)'.format(maxBit));\n",
    "fig.tight_layout()"
   ]
  },
  {
   "cell_type": "markdown",
   "metadata": {},
   "source": [
    "### (2) Generate a gradient"
   ]
  },
  {
   "cell_type": "code",
   "execution_count": 29,
   "metadata": {},
   "outputs": [],
   "source": [
    "panGrad = np.tile( (np.sin(np.linspace(np.pi,np.pi*3,panWidth_px)) + 1)*maxBit/2 ,panHeight_px).reshape(panHeight_px,panWidth_px)\n",
    "panGradLow = np.tile( (np.sin(np.linspace(np.pi,np.pi*3,panWidth_px)) + 2)*maxBit/4 ,panHeight_px).reshape(panHeight_px,panWidth_px)\n",
    "panGradVeryLow = np.tile( (np.sin(np.linspace(np.pi,np.pi*3,panWidth_px)) + 4)*maxBit/8 ,panHeight_px).reshape(panHeight_px,panWidth_px)\n",
    "\n",
    "panGradLowBright = np.tile( (np.sin(np.linspace(np.pi,np.pi*3,panWidth_px)) + 2)*maxBit/4 - maxBit/4 ,panHeight_px).reshape(panHeight_px,panWidth_px)\n",
    "panGradVeryLowBright = np.tile( (np.sin(np.linspace(np.pi,np.pi*3,panWidth_px)) + 4)*maxBit/8 - 3*maxBit/8 ,panHeight_px).reshape(panHeight_px,panWidth_px)"
   ]
  },
  {
   "cell_type": "code",
   "execution_count": 30,
   "metadata": {},
   "outputs": [
    {
     "data": {
      "image/png": "[encoded data removed]",
      "text/plain": [
       "<Figure size 360x288 with 1 Axes>"
      ]
     },
     "metadata": {
      "needs_background": "light"
     },
     "output_type": "display_data"
    }
   ],
   "source": [
    "fig, axs = plt.subplots(1,1,figsize=(5,4))\n",
    "axs.plot(panGrad[0,:], label='gradient')\n",
    "axs.plot(panGradLow[0,:], label='gradientLow')\n",
    "axs.plot(panGradVeryLow[0,:], label='gradientVeryLow')\n",
    "axs.plot(panGradLowBright[0,:], label='gradientLowBright')\n",
    "axs.plot(panGradVeryLowBright[0,:], label='gradientVeryLowBright')\n",
    "axs.set_title('Gradients of varying depth')\n",
    "axs.set_ylim((0,maxBit))\n",
    "axs.set_xlabel('Panorama width [px]')\n",
    "axs.set_ylabel('Bit range  (0-white, {}-black)'.format(maxBit));\n",
    "axs.legend()\n",
    "fig.tight_layout()"
   ]
  },
  {
   "cell_type": "code",
   "execution_count": 31,
   "metadata": {},
   "outputs": [
    {
     "data": {
      "image/png": "[encoded data removed]",
      "text/plain": [
       "<Figure size 720x143.274 with 1 Axes>"
      ]
     },
     "metadata": {
      "needs_background": "light"
     },
     "output_type": "display_data"
    },
    {
     "data": {
      "image/png": "[encoded data removed]",
      "text/plain": [
       "<Figure size 720x143.274 with 1 Axes>"
      ]
     },
     "metadata": {
      "needs_background": "light"
     },
     "output_type": "display_data"
    },
    {
     "data": {
      "image/png": "[encoded data removed]",
      "text/plain": [
       "<Figure size 720x143.274 with 1 Axes>"
      ]
     },
     "metadata": {
      "needs_background": "light"
     },
     "output_type": "display_data"
    },
    {
     "data": {
      "image/png": "[encoded data removed]",
      "text/plain": [
       "<Figure size 720x143.274 with 1 Axes>"
      ]
     },
     "metadata": {
      "needs_background": "light"
     },
     "output_type": "display_data"
    },
    {
     "data": {
      "image/png": "[encoded data removed]",
      "text/plain": [
       "<Figure size 720x143.274 with 1 Axes>"
      ]
     },
     "metadata": {
      "needs_background": "light"
     },
     "output_type": "display_data"
    }
   ],
   "source": [
    "fig = plotPanorama(panGrad.T,panHeight_px,panWidth_px, maxBit)\n",
    "fig.savefig(\"panoramas\"+sep+\"C1_gradient.png\",dpi = dpiVal)\n",
    "\n",
    "fig = plotPanorama(panGradLow.T,panHeight_px,panWidth_px, maxBit)\n",
    "fig.savefig(\"panoramas\"+sep+\"C2_gradientLow.png\",dpi = dpiVal)\n",
    "\n",
    "fig = plotPanorama(panGradVeryLow.T,panHeight_px,panWidth_px, maxBit)\n",
    "fig.savefig(\"panoramas\"+sep+\"C3_gradientVeryLow.png\",dpi = dpiVal)\n",
    "\n",
    "fig = plotPanorama(panGradLowBright.T,panHeight_px,panWidth_px, maxBit)\n",
    "fig.savefig(\"panoramas\"+sep+\"C4_gradientLowBright.png\",dpi = dpiVal)\n",
    "\n",
    "fig = plotPanorama(panGradVeryLowBright.T,panHeight_px,panWidth_px, maxBit)\n",
    "fig.savefig(\"panoramas\"+sep+\"C5_gradientVeryLowBright.png\",dpi = dpiVal)"
   ]
  },
  {
   "cell_type": "markdown",
   "metadata": {},
   "source": [
    "### (3) Generate a gradient with sunspots of varying brightness"
   ]
  },
  {
   "cell_type": "code",
   "execution_count": 32,
   "metadata": {},
   "outputs": [
    {
     "data": {
      "image/png": "[encoded data removed]",
      "text/plain": [
       "<Figure size 720x143.274 with 1 Axes>"
      ]
     },
     "metadata": {
      "needs_background": "light"
     },
     "output_type": "display_data"
    },
    {
     "data": {
      "image/png": "[encoded data removed]",
      "text/plain": [
       "<Figure size 720x143.274 with 1 Axes>"
      ]
     },
     "metadata": {
      "needs_background": "light"
     },
     "output_type": "display_data"
    },
    {
     "data": {
      "image/png": "[encoded data removed]",
      "text/plain": [
       "<Figure size 720x143.274 with 1 Axes>"
      ]
     },
     "metadata": {
      "needs_background": "light"
     },
     "output_type": "display_data"
    }
   ],
   "source": [
    "panLeftShifted = np.roll(pan12, -int(np.shape(pan)[0]/4), axis = 0)\n",
    "brightStr = np.array([\"High\",\"Mid\",\"Low\"])\n",
    "\n",
    "brightRange = np.linspace(0,np.min(panGradLow),len(brightStr)+1)\n",
    "for i,bStr in enumerate(brightStr):\n",
    "    spotBrightness = brightRange[i]\n",
    "    panSpotGradLow = np.where(panLeftShifted.T>0,spotBrightness,panGradLow)\n",
    "    fig = plotPanorama(panSpotGradLow.T,panHeight_px,panWidth_px, maxBit)\n",
    "    fig.savefig(\"panoramas\"+sep+\"C2\"+\"S\"+str(i+1)+\"_panoramaSpot\"+bStr+\"GradientLow.png\",dpi = dpiVal)"
   ]
  },
  {
   "cell_type": "code",
   "execution_count": 33,
   "metadata": {},
   "outputs": [
    {
     "data": {
      "image/png": "[encoded data removed]",
      "text/plain": [
       "<Figure size 432x288 with 1 Axes>"
      ]
     },
     "metadata": {
      "needs_background": "light"
     },
     "output_type": "display_data"
    }
   ],
   "source": [
    "for i,bStr in enumerate(brightStr):\n",
    "    spotBrightness = brightRange[i]\n",
    "    panSpotGradLow = np.where(panLeftShifted.T>0,spotBrightness,panGradLow)\n",
    "    plt.plot(panSpotGradLow[int(np.shape(panSpotGradLow)[0]/2),:],label=bStr)\n",
    "plt.ylim(0,maxBit)\n",
    "plt.title('Sunspots of varying brightness')\n",
    "plt.xlabel('Panorama width [px]')\n",
    "plt.ylabel('Bit range  (0-white, {}-black)'.format(maxBit));\n",
    "plt.legend()\n",
    "plt.savefig(\"plots\"+sep+\"disappearing_sunspot_profile.pdf\")"
   ]
  },
  {
   "cell_type": "code",
   "execution_count": 34,
   "metadata": {},
   "outputs": [
    {
     "data": {
      "image/png": "[encoded data removed]",
      "text/plain": [
       "<Figure size 720x143.274 with 1 Axes>"
      ]
     },
     "metadata": {
      "needs_background": "light"
     },
     "output_type": "display_data"
    },
    {
     "data": {
      "image/png": "[encoded data removed]",
      "text/plain": [
       "<Figure size 720x143.274 with 1 Axes>"
      ]
     },
     "metadata": {
      "needs_background": "light"
     },
     "output_type": "display_data"
    }
   ],
   "source": [
    "panLeftShifted = np.roll(pan6, -int(np.shape(pan)[0]/4), axis = 0)\n",
    "brightStr = np.array([\"High\",\"Low\"])\n",
    "\n",
    "brightRange = np.linspace(0,np.min(panGradLow),len(brightStr)+1)\n",
    "for i,bStr in enumerate(brightStr):\n",
    "    spotBrightness = brightRange[i]\n",
    "    panSpotGradLow = np.where(panLeftShifted.T>0,spotBrightness,panGradLow)\n",
    "    fig = plotPanorama(panSpotGradLow.T,panHeight_px,panWidth_px, maxBit)\n",
    "    fig.savefig(\"panoramas\"+sep+\"C2\"+\"S\"+str(i+1)+\"s_panoramaSpot\"+bStr+\"GradientLow.png\",dpi = dpiVal)"
   ]
  },
  {
   "cell_type": "code",
   "execution_count": 35,
   "metadata": {},
   "outputs": [
    {
     "data": {
      "image/png": "[encoded data removed]",
      "text/plain": [
       "<Figure size 432x288 with 1 Axes>"
      ]
     },
     "metadata": {
      "needs_background": "light"
     },
     "output_type": "display_data"
    }
   ],
   "source": [
    "for i,bStr in enumerate(brightStr):\n",
    "    spotBrightness = brightRange[i]\n",
    "    panSpotGradLow = np.where(panLeftShifted.T>0,spotBrightness,panGradLow)\n",
    "    plt.plot(panSpotGradLow[int(np.shape(panSpotGradLow)[0]/2),:],label=bStr)\n",
    "plt.ylim(0,maxBit)\n",
    "plt.title('Sunspots of varying brightness')\n",
    "plt.xlabel('Panorama width [px]')\n",
    "plt.ylabel('Bit range  (0-white, {}-black)'.format(maxBit));\n",
    "plt.legend()\n",
    "plt.savefig(\"plots\"+sep+\"disappearing_sunspot_small_profile.pdf\")"
   ]
  },
  {
   "cell_type": "code",
   "execution_count": 36,
   "metadata": {},
   "outputs": [
    {
     "data": {
      "image/png": "[encoded data removed]",
      "text/plain": [
       "<Figure size 720x143.274 with 1 Axes>"
      ]
     },
     "metadata": {
      "needs_background": "light"
     },
     "output_type": "display_data"
    },
    {
     "data": {
      "image/png": "[encoded data removed]",
      "text/plain": [
       "<Figure size 720x143.274 with 1 Axes>"
      ]
     },
     "metadata": {
      "needs_background": "light"
     },
     "output_type": "display_data"
    }
   ],
   "source": [
    "panLeftShifted = np.roll(pan1, -int(np.shape(pan)[0]/4), axis = 0)\n",
    "brightStr = np.array([\"High\",\"Low\"])\n",
    "\n",
    "brightRange = np.linspace(0,np.min(panGradLow),len(brightStr)+1)\n",
    "for i,bStr in enumerate(brightStr):\n",
    "    spotBrightness = brightRange[i]\n",
    "    panSpotGradLow = np.where(panLeftShifted.T>0,spotBrightness,panGradLow)\n",
    "    fig = plotPanorama(panSpotGradLow.T,panHeight_px,panWidth_px, maxBit)\n",
    "    fig.savefig(\"panoramas\"+sep+\"C2\"+\"S\"+str(i+1)+\"ss_panoramaSpot\"+bStr+\"GradientLow.png\",dpi = dpiVal)"
   ]
  },
  {
   "cell_type": "markdown",
   "metadata": {},
   "source": [
    "### gradients + sunspot in dark part"
   ]
  },
  {
   "cell_type": "code",
   "execution_count": 37,
   "metadata": {},
   "outputs": [
    {
     "data": {
      "image/png": "[encoded data removed]",
      "text/plain": [
       "<Figure size 720x143.274 with 1 Axes>"
      ]
     },
     "metadata": {
      "needs_background": "light"
     },
     "output_type": "display_data"
    },
    {
     "data": {
      "image/png": "[encoded data removed]",
      "text/plain": [
       "<Figure size 720x143.274 with 1 Axes>"
      ]
     },
     "metadata": {
      "needs_background": "light"
     },
     "output_type": "display_data"
    }
   ],
   "source": [
    "panLeftShifted = np.roll(pan6, +int(np.shape(pan)[0]/4), axis = 0)\n",
    "brightStr = np.array([\"High\",\"Low\"])\n",
    "\n",
    "brightRange = np.linspace(0,np.min(panGradLow),len(brightStr)+1)\n",
    "for i,bStr in enumerate(brightStr):\n",
    "    spotBrightness = brightRange[i]\n",
    "    panSpotGradLow = np.where(panLeftShifted.T>0,spotBrightness,panGradLow)\n",
    "    fig = plotPanorama(panSpotGradLow.T,panHeight_px,panWidth_px, maxBit)\n",
    "    fig.savefig(\"panoramas\"+sep+\"C2\"+\"T\"+str(i+1)+\"s_panoramaSpot\"+bStr+\"GradientLow.png\",dpi = dpiVal)"
   ]
  },
  {
   "cell_type": "code",
   "execution_count": 38,
   "metadata": {},
   "outputs": [
    {
     "data": {
      "image/png": "[encoded data removed]",
      "text/plain": [
       "<Figure size 432x288 with 1 Axes>"
      ]
     },
     "metadata": {
      "needs_background": "light"
     },
     "output_type": "display_data"
    }
   ],
   "source": [
    "for i,bStr in enumerate(brightStr):\n",
    "    spotBrightness = brightRange[i]\n",
    "    panSpotGradLow = np.where(panLeftShifted.T>0,spotBrightness,panGradLow)\n",
    "    plt.plot(panSpotGradLow[int(np.shape(panSpotGradLow)[0]/2),:],label=bStr)\n",
    "plt.ylim(0,maxBit)\n",
    "plt.title('Sunspots of varying brightness')\n",
    "plt.xlabel('Panorama width [px]')\n",
    "plt.ylabel('Bit range  (0-white, {}-black)'.format(maxBit));\n",
    "plt.legend()\n",
    "plt.savefig(\"plots\"+sep+\"disappearing_sunspot_smallShifted_profile.pdf\")"
   ]
  },
  {
   "cell_type": "markdown",
   "metadata": {},
   "source": [
    "## Generate reshaped panoramas"
   ]
  },
  {
   "cell_type": "code",
   "execution_count": 39,
   "metadata": {},
   "outputs": [],
   "source": [
    "import pandas as pd\n",
    "from scipy.optimize import minimize\n",
    "import scipy as sp\n",
    "\n",
    "Dir = 'screenMeasurements/' #\"/Volumes/jayaramanlab/Shivam/\" #connect to dm11\n",
    "rig = \"Hannah\" #\"Shivam\"#\n",
    "\n",
    "if rig == \"Shivam\":\n",
    "    file2 = rig+\"Rig_mean_brightness_level_6.csv\"\n",
    "else:\n",
    "    file2 = rig+\"Rig_mean_brightness.csv\"\n",
    "    \n",
    "file = rig+\"Rig_lookup_table_transformed_brightness.csv\"\n",
    "\n",
    "lookupDf = pd.read_csv(Dir+file)\n",
    "mean_brightness = pd.read_csv(Dir+file2)"
   ]
  },
  {
   "cell_type": "code",
   "execution_count": 40,
   "metadata": {},
   "outputs": [],
   "source": [
    "maxBit = 255 #assuming 8bit image depth\n",
    "npts = 1000\n",
    "\n",
    "def rescale(img):\n",
    "    x = img.flatten()\n",
    "    y = np.array(lookupDf.iloc[x]['Iin'])\n",
    "    imgT = y.reshape(np.shape(img))\n",
    "    return imgT\n",
    "\n",
    "def simulateI(img):\n",
    "    x = img.flatten()\n",
    "    y = np.array(transformDf.iloc[x]['Iin'])\n",
    "    imgT = y.reshape(np.shape(img))\n",
    "    return imgT"
   ]
  },
  {
   "cell_type": "code",
   "execution_count": 41,
   "metadata": {},
   "outputs": [
    {
     "data": {
      "image/png": "[encoded data removed]",
      "text/plain": [
       "<Figure size 432x288 with 1 Axes>"
      ]
     },
     "metadata": {
      "needs_background": "light"
     },
     "output_type": "display_data"
    }
   ],
   "source": [
    "y = np.array(mean_brightness['I'].values)\n",
    "x = np.arange(0,256,1)\n",
    "y = np.zeros(x.shape)\n",
    "\n",
    "b = sp.interpolate.interp1d(mean_brightness['I'], mean_brightness['Stim'],bounds_error=False)\n",
    "\n",
    "def diff(x,a):\n",
    "    yt = b(x)\n",
    "    return (yt - a)**2\n",
    "\n",
    "for idx,x_value in enumerate(x):\n",
    "    res = minimize(diff, 1.0, args=(x_value), method='Nelder-Mead', tol=1e-6)\n",
    "    y[idx] = res.x[0]\n",
    "\n",
    "plt.plot(mean_brightness['I'].values,mean_brightness['Stim'].values,'o');\n",
    "plt.plot(np.round(y).astype('int'),x)\n",
    "plt.title(r'$f(I)_{fit}$')\n",
    "plt.ylabel(\"$I_{out}$\"); plt.xlabel(\"$I_{in}$\");\n",
    "\n",
    "transformDf = pd.DataFrame(np.array([np.round(y).astype('int'),x]).T, columns = [\"Iin\", \"Iout\"])"
   ]
  },
  {
   "cell_type": "markdown",
   "metadata": {},
   "source": [
    "**Generate and save simulated original gradients**"
   ]
  },
  {
   "cell_type": "code",
   "execution_count": 42,
   "metadata": {},
   "outputs": [
    {
     "data": {
      "image/png": "[encoded data removed]",
      "text/plain": [
       "<Figure size 720x143.274 with 1 Axes>"
      ]
     },
     "metadata": {
      "needs_background": "light"
     },
     "output_type": "display_data"
    },
    {
     "data": {
      "image/png": "[encoded data removed]",
      "text/plain": [
       "<Figure size 720x143.274 with 1 Axes>"
      ]
     },
     "metadata": {
      "needs_background": "light"
     },
     "output_type": "display_data"
    },
    {
     "data": {
      "image/png": "[encoded data removed]",
      "text/plain": [
       "<Figure size 720x143.274 with 1 Axes>"
      ]
     },
     "metadata": {
      "needs_background": "light"
     },
     "output_type": "display_data"
    },
    {
     "data": {
      "image/png": "[encoded data removed]",
      "text/plain": [
       "<Figure size 720x143.274 with 1 Axes>"
      ]
     },
     "metadata": {
      "needs_background": "light"
     },
     "output_type": "display_data"
    },
    {
     "data": {
      "image/png": "[encoded data removed]",
      "text/plain": [
       "<Figure size 720x143.274 with 1 Axes>"
      ]
     },
     "metadata": {
      "needs_background": "light"
     },
     "output_type": "display_data"
    }
   ],
   "source": [
    "# make directory if it does not already exist\n",
    "Path(\"panoramas/simulated\").mkdir(parents=True, exist_ok=True)\n",
    "\n",
    "fig = plotPanorama(simulateI(panGrad).T,panHeight_px,panWidth_px, maxBit)\n",
    "fig.savefig(\"panoramas\"+sep+'simulated'+sep+\"C1_gradient_simulated_{}Rig.png\".format(rig),dpi = dpiVal)\n",
    "\n",
    "fig = plotPanorama(simulateI(panGradLow).T,panHeight_px,panWidth_px, maxBit)\n",
    "fig.savefig(\"panoramas\"+sep+\"simulated\"+sep+\"C2_gradientLow_simulated_{}Rig.png\".format(rig),dpi = dpiVal)\n",
    "\n",
    "fig = plotPanorama(simulateI(panGradVeryLow).T,panHeight_px,panWidth_px, maxBit)\n",
    "fig.savefig(\"panoramas\"+sep+\"simulated\"+sep+\"C3_gradientVeryLow_simulated_{}Rig.png\".format(rig),dpi = dpiVal)\n",
    "\n",
    "fig = plotPanorama(simulateI(panGradLowBright).T,panHeight_px,panWidth_px, maxBit)\n",
    "fig.savefig(\"panoramas\"+sep+\"simulated\"+sep+\"C4_gradientLowBright_simulated_{}Rig.png\".format(rig),dpi = dpiVal)\n",
    "\n",
    "fig = plotPanorama(simulateI(panGradVeryLowBright).T,panHeight_px,panWidth_px, maxBit)\n",
    "fig.savefig(\"panoramas\"+sep+\"simulated\"+sep+\"C5_gradientVeryLowBright_simulated_{}Rig.png\".format(rig),dpi = dpiVal)"
   ]
  },
  {
   "cell_type": "markdown",
   "metadata": {},
   "source": [
    "**Generate and save reshaped gradients**"
   ]
  },
  {
   "cell_type": "code",
   "execution_count": 43,
   "metadata": {},
   "outputs": [
    {
     "data": {
      "image/png": "[encoded data removed]",
      "text/plain": [
       "<Figure size 720x143.274 with 1 Axes>"
      ]
     },
     "metadata": {
      "needs_background": "light"
     },
     "output_type": "display_data"
    },
    {
     "data": {
      "image/png": "[encoded data removed]",
      "text/plain": [
       "<Figure size 720x143.274 with 1 Axes>"
      ]
     },
     "metadata": {
      "needs_background": "light"
     },
     "output_type": "display_data"
    },
    {
     "data": {
      "image/png": "[encoded data removed]",
      "text/plain": [
       "<Figure size 720x143.274 with 1 Axes>"
      ]
     },
     "metadata": {
      "needs_background": "light"
     },
     "output_type": "display_data"
    },
    {
     "data": {
      "image/png": "[encoded data removed]",
      "text/plain": [
       "<Figure size 720x143.274 with 1 Axes>"
      ]
     },
     "metadata": {
      "needs_background": "light"
     },
     "output_type": "display_data"
    },
    {
     "data": {
      "image/png": "[encoded data removed]",
      "text/plain": [
       "<Figure size 720x143.274 with 1 Axes>"
      ]
     },
     "metadata": {
      "needs_background": "light"
     },
     "output_type": "display_data"
    }
   ],
   "source": [
    "# make directory if it does not already exist\n",
    "Path(\"panoramas/reshaped\").mkdir(parents=True, exist_ok=True)\n",
    "\n",
    "fig = plotPanorama(rescale(panGrad).T,panHeight_px,panWidth_px, maxBit)\n",
    "fig.savefig(\"panoramas\"+sep+\"reshaped\"+sep+\"C1_gradient_reshaped_{}Rig.png\".format(rig),dpi = dpiVal)\n",
    "\n",
    "fig = plotPanorama(rescale(panGradLow).T,panHeight_px,panWidth_px, maxBit)\n",
    "fig.savefig(\"panoramas\"+sep+\"reshaped\"+sep+\"C2_gradientLow_reshaped_{}Rig.png\".format(rig),dpi = dpiVal)\n",
    "\n",
    "fig = plotPanorama(rescale(panGradVeryLow).T,panHeight_px,panWidth_px, maxBit)\n",
    "fig.savefig(\"panoramas\"+sep+\"reshaped\"+sep+\"C3_gradientVeryLow_reshaped_{}Rig.png\".format(rig),dpi = dpiVal)\n",
    "\n",
    "fig = plotPanorama(rescale(panGradLowBright).T,panHeight_px,panWidth_px, maxBit)\n",
    "fig.savefig(\"panoramas\"+sep+\"reshaped\"+sep+\"C4_gradientLowBright_reshaped_{}Rig.png\".format(rig),dpi = dpiVal)\n",
    "\n",
    "fig = plotPanorama(rescale(panGradVeryLowBright).T,panHeight_px,panWidth_px, maxBit)\n",
    "fig.savefig(\"panoramas\"+sep+\"reshaped\"+sep+\"C5_gradientVeryLowBright_reshaped_{}Rig.png\".format(rig),dpi = dpiVal)"
   ]
  },
  {
   "cell_type": "markdown",
   "metadata": {},
   "source": [
    "#### Reshape gradients with sunspot"
   ]
  },
  {
   "cell_type": "code",
   "execution_count": 44,
   "metadata": {},
   "outputs": [
    {
     "data": {
      "image/png": "[encoded data removed]",
      "text/plain": [
       "<Figure size 720x143.274 with 1 Axes>"
      ]
     },
     "metadata": {
      "needs_background": "light"
     },
     "output_type": "display_data"
    },
    {
     "data": {
      "image/png": "[encoded data removed]",
      "text/plain": [
       "<Figure size 720x143.274 with 1 Axes>"
      ]
     },
     "metadata": {
      "needs_background": "light"
     },
     "output_type": "display_data"
    },
    {
     "data": {
      "image/png": "[encoded data removed]",
      "text/plain": [
       "<Figure size 720x143.274 with 1 Axes>"
      ]
     },
     "metadata": {
      "needs_background": "light"
     },
     "output_type": "display_data"
    },
    {
     "data": {
      "image/png": "[encoded data removed]",
      "text/plain": [
       "<Figure size 720x143.274 with 1 Axes>"
      ]
     },
     "metadata": {
      "needs_background": "light"
     },
     "output_type": "display_data"
    },
    {
     "data": {
      "image/png": "[encoded data removed]",
      "text/plain": [
       "<Figure size 720x143.274 with 1 Axes>"
      ]
     },
     "metadata": {
      "needs_background": "light"
     },
     "output_type": "display_data"
    },
    {
     "data": {
      "image/png": "[encoded data removed]",
      "text/plain": [
       "<Figure size 720x143.274 with 1 Axes>"
      ]
     },
     "metadata": {
      "needs_background": "light"
     },
     "output_type": "display_data"
    },
    {
     "data": {
      "image/png": "[encoded data removed]",
      "text/plain": [
       "<Figure size 720x143.274 with 1 Axes>"
      ]
     },
     "metadata": {
      "needs_background": "light"
     },
     "output_type": "display_data"
    },
    {
     "data": {
      "image/png": "[encoded data removed]",
      "text/plain": [
       "<Figure size 720x143.274 with 1 Axes>"
      ]
     },
     "metadata": {
      "needs_background": "light"
     },
     "output_type": "display_data"
    },
    {
     "data": {
      "image/png": "[encoded data removed]",
      "text/plain": [
       "<Figure size 720x143.274 with 1 Axes>"
      ]
     },
     "metadata": {
      "needs_background": "light"
     },
     "output_type": "display_data"
    }
   ],
   "source": [
    "panLeftShifted = np.roll(pan12, -int(np.shape(pan)[0]/4), axis = 0)\n",
    "brightStr = np.array([\"High\",\"Mid\",\"Low\"])\n",
    "\n",
    "brightRange = np.linspace(0,np.min(panGradLow),len(brightStr)+1)\n",
    "for i,bStr in enumerate(brightStr):\n",
    "    spotBrightness = brightRange[i]\n",
    "    panSpotGradLow = np.where(panLeftShifted.T>0,spotBrightness,panGradLow)\n",
    "    fig = plotPanorama(rescale(panSpotGradLow.T),panHeight_px,panWidth_px, maxBit)\n",
    "    fig.savefig(\"panoramas\"+sep+\"reshaped\"+sep+\"C2\"+\"S\"+str(i+1)+\"_panoramaSpot\"+bStr+\"GradientLow_reshaped_{}Rig.png\".format(rig),dpi = dpiVal)\n",
    "    \n",
    "panLeftShifted = np.roll(pan6, -int(np.shape(pan)[0]/4), axis = 0)\n",
    "brightStr = np.array([\"High\",\"Low\"])\n",
    "\n",
    "brightRange = np.linspace(0,np.min(panGradLow),len(brightStr)+1)\n",
    "for i,bStr in enumerate(brightStr):\n",
    "    spotBrightness = brightRange[i]\n",
    "    panSpotGradLow = np.where(panLeftShifted.T>0,spotBrightness,panGradLow)\n",
    "    fig = plotPanorama(rescale(panSpotGradLow.T),panHeight_px,panWidth_px, maxBit)\n",
    "    fig.savefig(\"panoramas\"+sep+\"reshaped\"+sep+\"C2\"+\"S\"+str(i+1)+\"s_panoramaSpot\"+bStr+\"GradientLow_reshaped_{}Rig.png\".format(rig),dpi = dpiVal)\n",
    "\n",
    "    \n",
    "panLeftShifted = np.roll(pan1, -int(np.shape(pan)[0]/4), axis = 0)\n",
    "brightStr = np.array([\"High\",\"Low\"])\n",
    "\n",
    "brightRange = np.linspace(0,np.min(panGradLow),len(brightStr)+1)\n",
    "for i,bStr in enumerate(brightStr):\n",
    "    spotBrightness = brightRange[i]\n",
    "    panSpotGradLow = np.where(panLeftShifted.T>0,spotBrightness,panGradLow)\n",
    "    fig = plotPanorama(rescale(panSpotGradLow.T),panHeight_px,panWidth_px, maxBit)\n",
    "    fig.savefig(\"panoramas\"+sep+\"reshaped\"+sep+\"C2\"+\"S\"+str(i+1)+\"ss_panoramaSpot\"+bStr+\"GradientLow_reshaped_{}Rig.png\".format(rig),dpi = dpiVal)\n",
    "    \n",
    "panRightShifted = np.roll(pan6, +int(np.shape(pan)[0]/4), axis = 0)\n",
    "brightStr = np.array([\"High\",\"Low\"])\n",
    "\n",
    "brightRange = np.linspace(0,np.min(panGradLow),len(brightStr)+1)\n",
    "for i,bStr in enumerate(brightStr):\n",
    "    spotBrightness = brightRange[i]\n",
    "    panSpotGradLow = np.where(panRightShifted.T>0,spotBrightness,panGradLow)\n",
    "    fig = plotPanorama(rescale(panSpotGradLow.T),panHeight_px,panWidth_px, maxBit)\n",
    "    fig.savefig(\"panoramas\"+sep+\"reshaped\"+sep+\"C2\"+\"T\"+str(i+1)+\"ss_panoramaSpot\"+bStr+\"GradientLow_reshaped_{}Rig.png\".format(rig),dpi = dpiVal)"
   ]
  },
  {
   "cell_type": "markdown",
   "metadata": {},
   "source": [
    "#### Reshape receptive field mapping stimuli"
   ]
  },
  {
   "cell_type": "code",
   "execution_count": 45,
   "metadata": {},
   "outputs": [
    {
     "data": {
      "image/png": "[encoded data removed]",
      "text/plain": [
       "<Figure size 720x143.274 with 1 Axes>"
      ]
     },
     "metadata": {
      "needs_background": "light"
     },
     "output_type": "display_data"
    },
    {
     "data": {
      "image/png": "[encoded data removed]",
      "text/plain": [
       "<Figure size 720x143.274 with 1 Axes>"
      ]
     },
     "metadata": {
      "needs_background": "light"
     },
     "output_type": "display_data"
    },
    {
     "data": {
      "image/png": "[encoded data removed]",
      "text/plain": [
       "<Figure size 720x143.274 with 1 Axes>"
      ]
     },
     "metadata": {
      "needs_background": "light"
     },
     "output_type": "display_data"
    }
   ],
   "source": [
    "RFpans = [brightSpot_shift1, brightSpot_shift2, brightSpot_shift3]\n",
    "panName = ['RF2a_brightSpotDGrey','RF2b_brightSpotMGrey','RF2c_brightSpotLGrey']\n",
    "for i,RFpan in enumerate(RFpans):\n",
    "    fig = plotPanorama(rescale(RFpan),panHeight_px,panWidth_px, maxBit)\n",
    "    fig.savefig(\"panoramas\"+sep+\"reshaped\"+sep+panName[i]+\"_reshaped_{}Rig.png\".format(rig),dpi = dpiVal)"
   ]
  },
  {
   "cell_type": "code",
   "execution_count": 46,
   "metadata": {},
   "outputs": [
    {
     "data": {
      "image/png": "[encoded data removed]",
      "text/plain": [
       "<Figure size 720x143.274 with 1 Axes>"
      ]
     },
     "metadata": {
      "needs_background": "light"
     },
     "output_type": "display_data"
    },
    {
     "data": {
      "image/png": "[encoded data removed]",
      "text/plain": [
       "<Figure size 720x143.274 with 1 Axes>"
      ]
     },
     "metadata": {
      "needs_background": "light"
     },
     "output_type": "display_data"
    },
    {
     "data": {
      "image/png": "[encoded data removed]",
      "text/plain": [
       "<Figure size 720x143.274 with 1 Axes>"
      ]
     },
     "metadata": {
      "needs_background": "light"
     },
     "output_type": "display_data"
    }
   ],
   "source": [
    "RFpans = [brightSpot_dim1, brightSpot_dim2, brightSpot_dim3]\n",
    "panName = ['RF3a_dGreySpot','RF3b_mGreySpot','RF3c_lGreySpot']\n",
    "for i,RFpan in enumerate(RFpans):\n",
    "    fig = plotPanorama(rescale(RFpan),panHeight_px,panWidth_px, maxBit)\n",
    "    fig.savefig(\"panoramas\"+sep+\"reshaped\"+sep+panName[i]+\"_reshaped_{}Rig.png\".format(rig),dpi = dpiVal)"
   ]
  },
  {
   "cell_type": "code",
   "execution_count": 47,
   "metadata": {},
   "outputs": [
    {
     "data": {
      "image/png": "[encoded data removed]",
      "text/plain": [
       "<Figure size 720x143.274 with 1 Axes>"
      ]
     },
     "metadata": {
      "needs_background": "light"
     },
     "output_type": "display_data"
    }
   ],
   "source": [
    "fig = plotPanorama(rescale(darkSpot_shift),panHeight_px,panWidth_px, maxBit)\n",
    "fig.savefig(\"panoramas\"+sep+\"reshaped\"+sep+\"RF1c_darkSpotLGrey_reshaped_{}Rig.png\".format(rig),dpi = dpiVal)"
   ]
  },
  {
   "cell_type": "markdown",
   "metadata": {},
   "source": [
    "#### Reshape sun spots on grey"
   ]
  },
  {
   "cell_type": "code",
   "execution_count": 48,
   "metadata": {},
   "outputs": [
    {
     "data": {
      "image/png": "[encoded data removed]",
      "text/plain": [
       "<Figure size 720x143.274 with 1 Axes>"
      ]
     },
     "metadata": {
      "needs_background": "light"
     },
     "output_type": "display_data"
    },
    {
     "data": {
      "image/png": "[encoded data removed]",
      "text/plain": [
       "<Figure size 720x143.274 with 1 Axes>"
      ]
     },
     "metadata": {
      "needs_background": "light"
     },
     "output_type": "display_data"
    }
   ],
   "source": [
    "darkSpot = pan6[:,:]\n",
    "brightSpot = abs(maxBit - darkSpot)\n",
    "\n",
    "panOn = darkSpot\n",
    "panOff = maxBit-panOn\n",
    "panOn = np.minimum(maxBit, panOn)\n",
    "panOff = np.minimum(maxBit, panOff)\n",
    "\n",
    "dotRatio = np.sum(panOn/maxBit)/(panWidth_px*panHeight_px)\n",
    "panOn_shift = panOn/2 + (0.5-dotRatio*0.5)*maxBit\n",
    "panOff_shift = panOff/2\n",
    "\n",
    "fig = plotPanorama(rescale(panOn_shift),panHeight_px,panWidth_px, maxBit)\n",
    "fig.savefig(\"panoramas\"+sep+\"reshaped\"+sep+\"B1s_smallDarkOnGrey_reshaped_{}Rig.png\".format(rig),dpi = dpiVal)\n",
    "\n",
    "fig = plotPanorama(rescale(panOff_shift),panHeight_px,panWidth_px, maxBit)\n",
    "fig.savefig(\"panoramas\"+sep+\"reshaped\"+sep+\"B2s_smallBrightOnGrey_reshaped_{}Rig.png\".format(rig),dpi = dpiVal)"
   ]
  },
  {
   "cell_type": "code",
   "execution_count": null,
   "metadata": {},
   "outputs": [],
   "source": []
  }
 ],
 "metadata": {
  "kernelspec": {
   "display_name": "Python 3",
   "language": "python",
   "name": "python3"
  },
  "language_info": {
   "codemirror_mode": {
    "name": "ipython",
    "version": 3
   },
   "file_extension": ".py",
   "mimetype": "text/x-python",
   "name": "python",
   "nbconvert_exporter": "python",
   "pygments_lexer": "ipython3",
   "version": "3.8.6"
  },
  "widgets": {
   "application/vnd.jupyter.widget-state+json": {
    "state": {},
    "version_major": 2,
    "version_minor": 0
   }
  }
 },
 "nbformat": 4,
 "nbformat_minor": 4
}
