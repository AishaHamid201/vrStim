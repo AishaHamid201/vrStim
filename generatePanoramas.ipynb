{
 "cells": [
  {
   "cell_type": "markdown",
   "metadata": {},
   "source": [
    "## Generation of visual panoramas to be tested for head direction stability"
   ]
  },
  {
   "cell_type": "code",
   "execution_count": 1,
   "metadata": {},
   "outputs": [],
   "source": [
    "import numpy as np\n",
    "import matplotlib.pyplot as plt\n",
    "from scipy.stats import vonmises\n",
    "from skimage.morphology import disk\n",
    "from scipy.signal import convolve2d, correlate\n",
    "from scipy.stats import zscore\n",
    "from pathlib import Path\n",
    "from os.path import sep\n",
    "\n",
    "np.random.seed(seed=3)\n",
    "%config Completer.use_jedi = False  #magic to fix autocomplete issue\n",
    "%matplotlib inline"
   ]
  },
  {
   "cell_type": "markdown",
   "metadata": {},
   "source": [
    "### Visibility range of the screen\n",
    "#### (a) Visibility below the horizon line\n",
    "This visibility range is limited by the ball surface (unless the screen is very short)"
   ]
  },
  {
   "cell_type": "code",
   "execution_count": 2,
   "metadata": {},
   "outputs": [
    {
     "name": "stdout",
     "output_type": "stream",
     "text": [
      "Angle visible below horizon line:\n"
     ]
    },
    {
     "data": {
      "text/plain": [
       "35.19604924633808"
      ]
     },
     "execution_count": 2,
     "metadata": {},
     "output_type": "execute_result"
    }
   ],
   "source": [
    "ballRad = 4.47 # treadmill ball radius [mm]\n",
    "flyEyeAboveBall = 1 # height of eye above ball surface [mm]\n",
    "\n",
    "print('Angle visible below horizon line:')\n",
    "90-(180/np.pi)*np.arcsin(ballRad/(flyEyeAboveBall+ballRad))"
   ]
  },
  {
   "cell_type": "markdown",
   "metadata": {},
   "source": [
    "#### (b) Visibility above the horizon line\n",
    "This visibility range is limited by either the fly holder (pyramid) or the screen height. \n",
    "If the screen is limited, the angle it spans depends on the screen distance  which may vary along the azimuth. We will consider only the extreme values, i.e. the minimum and maximum screen distances. For the pentagonal screen that's r_min at the center of the faces and r_max at the corners. "
   ]
  },
  {
   "cell_type": "code",
   "execution_count": 3,
   "metadata": {},
   "outputs": [
    {
     "name": "stdout",
     "output_type": "stream",
     "text": [
      "The screen spans an angle from 17.175903615746744 to 23.025492008528037 above the horizon line.\n"
     ]
    }
   ],
   "source": [
    "#pyramidAngle = 20 #12 for old pyramid, ideally 20 for new pyramid\n",
    "\n",
    "screenMinDist = 4.0 # cm\n",
    "screenMaxDist = 5.5 #cm\n",
    "\n",
    "topScreenHeight = 1.7 #cm\n",
    "\n",
    "alpha_rmin = (180/np.pi) * np.arctan( topScreenHeight / screenMinDist)\n",
    "alpha_rmax = (180/np.pi) * np.arctan( topScreenHeight / screenMaxDist)\n",
    "\n",
    "print(\"The screen spans an angle from {} to {} above the horizon line.\".format(alpha_rmax, alpha_rmin))"
   ]
  },
  {
   "cell_type": "markdown",
   "metadata": {},
   "source": [
    "### Determine approrpiate size for the texture\n",
    "Choose which angle should be spanned. The texture will be sized to be displayed such that it spans the full size at the closest points on the  screen (r_min). Thus, the texture should be displayed on a cylinder with radius r_min."
   ]
  },
  {
   "cell_type": "code",
   "execution_count": 4,
   "metadata": {},
   "outputs": [
    {
     "name": "stdout",
     "output_type": "stream",
     "text": [
      "Cylinder height: 1.7 cm, Cylinder radius: 4.0 cm\n"
     ]
    }
   ],
   "source": [
    "setalpha = alpha_rmin*(np.pi/180)\n",
    "height_cm = np.round(np.tan(setalpha) * screenMinDist, 2) * 2\n",
    "# Values to set in unity scene:\n",
    "print('Cylinder height: {} cm, Cylinder radius: {} cm'.format(height_cm/2, screenMinDist))"
   ]
  },
  {
   "cell_type": "code",
   "execution_count": 5,
   "metadata": {},
   "outputs": [],
   "source": [
    "pt_per_cm = 150\n",
    "dpiVal = 600\n",
    "\n",
    "panHeight_px = int(height_cm * pt_per_cm)\n",
    "panWidth_px = int(2*np.pi*screenMinDist*pt_per_cm)\n",
    "\n",
    "maxBit = 255 #assuming 8bit image depth"
   ]
  },
  {
   "cell_type": "markdown",
   "metadata": {},
   "source": [
    "## Stimulus for screen position calibration"
   ]
  },
  {
   "cell_type": "code",
   "execution_count": 6,
   "metadata": {},
   "outputs": [],
   "source": [
    "dotSizeAng = 5 #aim for x deg dot\n",
    "\n",
    "#covnert angular dot size to pixel size and make dot\n",
    "dotRad = panHeight_px * 0.5 * 0.5 * dotSizeAng/( setalpha*180/np.pi )\n",
    "mydot = disk(radius=dotRad)\n",
    "\n",
    "dotpos_x = panWidth_px * 72./360. * np.asarray([0, 1, 2, 3, 4])\n",
    "dotpos_y = panHeight_px * np.asarray([0.2, 0.25, 0.3, 0.35, 0.4])\n",
    "\n",
    "pan = np.zeros((panWidth_px,panHeight_px),dtype=np.uint8)\n",
    "for i in range(len(dotpos_x)):\n",
    "    pan[round(dotpos_x[i]), round(dotpos_y[i])] = maxBit\n",
    "pan[round(dotpos_x[0]), round(dotpos_y[0])] = maxBit/2\n",
    "pan[:,:] = convolve2d(pan[:,:], mydot, boundary = 'wrap', mode='same')\n",
    "pan = np.minimum(maxBit, pan)"
   ]
  },
  {
   "cell_type": "code",
   "execution_count": 7,
   "metadata": {},
   "outputs": [
    {
     "data": {
      "image/png": "[encoded data removed]",
      "text/plain": [
       "<Figure size 720x97.4264 with 1 Axes>"
      ]
     },
     "metadata": {
      "needs_background": "light"
     },
     "output_type": "display_data"
    }
   ],
   "source": [
    "# make directory if it does not already exist\n",
    "Path(\"panoramas\").mkdir(parents=True, exist_ok=True)\n",
    "        \n",
    "fig = plt.figure(frameon=False)\n",
    "fig.set_size_inches(10,10*panHeight_px/panWidth_px)\n",
    "ax = plt.Axes(fig, [0., 0., 1., 1.])\n",
    "ax.set_axis_off()\n",
    "fig.add_axes(ax)\n",
    "ax.imshow(pan.T,origin='lower', cmap='binary', vmin=0, vmax=maxBit)\n",
    "fig.savefig(\"panoramas\"+sep+\"screenMap_darkSpot.png\",dpi = dpiVal)"
   ]
  },
  {
   "cell_type": "markdown",
   "metadata": {},
   "source": [
    "## Stimulus for brightness calibration"
   ]
  },
  {
   "cell_type": "code",
   "execution_count": 8,
   "metadata": {},
   "outputs": [],
   "source": [
    "panHeight = 948\n",
    "panWidth = 584\n",
    "stepLevels_high = np.linspace(0,6,panHeight+1).astype('int')[:-1]*maxBit/10\n",
    "panStripe_high = np.tile(stepLevels_high, panWidth).reshape(panWidth,panHeight).astype('int')\n",
    "stepLevels_low = np.linspace(5,11,panHeight+1).astype('int')[:-1]*maxBit/10\n",
    "panStripe_low = np.tile(stepLevels_low, panWidth).reshape(panWidth,panHeight).astype('int')"
   ]
  },
  {
   "cell_type": "code",
   "execution_count": 9,
   "metadata": {},
   "outputs": [
    {
     "data": {
      "text/plain": [
       "[<matplotlib.lines.Line2D at 0x12eb9d910>]"
      ]
     },
     "execution_count": 9,
     "metadata": {},
     "output_type": "execute_result"
    },
    {
     "data": {
      "image/png": "[encoded data removed]",
      "text/plain": [
       "<Figure size 432x288 with 1 Axes>"
      ]
     },
     "metadata": {
      "needs_background": "light"
     },
     "output_type": "display_data"
    }
   ],
   "source": [
    "plt.plot(stepLevels_low)\n",
    "plt.plot(stepLevels_high)"
   ]
  },
  {
   "cell_type": "code",
   "execution_count": 10,
   "metadata": {},
   "outputs": [
    {
     "data": {
      "image/png": "[encoded data removed]",
      "text/plain": [
       "<Figure size 360x584.384 with 1 Axes>"
      ]
     },
     "metadata": {
      "needs_background": "light"
     },
     "output_type": "display_data"
    },
    {
     "data": {
      "image/png": "[encoded data removed]",
      "text/plain": [
       "<Figure size 360x584.384 with 1 Axes>"
      ]
     },
     "metadata": {
      "needs_background": "light"
     },
     "output_type": "display_data"
    }
   ],
   "source": [
    "# make directory if it does not already exist\n",
    "Path(\"calibration\").mkdir(parents=True, exist_ok=True)\n",
    "\n",
    "fig = plt.figure(frameon=False)\n",
    "fig.set_size_inches(5,5*panHeight/panWidth)\n",
    "ax = plt.Axes(fig, [0., 0., 1., 1.])\n",
    "ax.set_axis_off()\n",
    "fig.add_axes(ax)\n",
    "ax.imshow(panStripe_low.T,origin='lower', cmap='binary', vmin=0, vmax=maxBit)\n",
    "fig.savefig(\"calibration\"+sep+\"BrightnessSteps_low.png\",dpi = dpiVal)\n",
    "\n",
    "fig = plt.figure(frameon=False)\n",
    "fig.set_size_inches(5,5*panHeight/panWidth)\n",
    "ax = plt.Axes(fig, [0., 0., 1., 1.])\n",
    "ax.set_axis_off()\n",
    "fig.add_axes(ax)\n",
    "ax.imshow(panStripe_high.T,origin='lower', cmap='binary', vmin=0, vmax=maxBit)\n",
    "fig.savefig(\"calibration\"+sep+\"BrightnessSteps_high.png\",dpi = dpiVal)"
   ]
  },
  {
   "cell_type": "markdown",
   "metadata": {},
   "source": [
    "## Stimuli for receptive field mapping"
   ]
  },
  {
   "cell_type": "code",
   "execution_count": 11,
   "metadata": {},
   "outputs": [],
   "source": [
    "dotSizeAng = 5 #aim for x deg dot\n",
    "\n",
    "#covnert angular dot size to pixel size and make dot\n",
    "dotRad = panHeight_px * 0.5 * 0.5 * dotSizeAng/( setalpha*180/np.pi )\n",
    "mydot = disk(radius=dotRad)\n",
    "\n",
    "dotpos_x = 0\n",
    "dotpos_y = int(0-dotRad)\n",
    "\n",
    "pan = np.zeros((panWidth_px,panHeight_px),dtype=np.uint8)\n",
    "pan[dotpos_x, dotpos_y] = maxBit\n",
    "pan[:,:] = convolve2d(pan[:,:], mydot, boundary = 'wrap', mode='same')\n",
    "\n",
    "pan = np.minimum(maxBit, pan)"
   ]
  },
  {
   "cell_type": "code",
   "execution_count": 12,
   "metadata": {},
   "outputs": [],
   "source": [
    "darkSpot = pan[:,:]\n",
    "brightSpot = abs(maxBit - darkSpot)"
   ]
  },
  {
   "cell_type": "code",
   "execution_count": 13,
   "metadata": {},
   "outputs": [
    {
     "data": {
      "image/png": "[encoded data removed]",
      "text/plain": [
       "<Figure size 720x97.4264 with 1 Axes>"
      ]
     },
     "metadata": {
      "needs_background": "light"
     },
     "output_type": "display_data"
    },
    {
     "data": {
      "image/png": "[encoded data removed]",
      "text/plain": [
       "<Figure size 720x97.4264 with 1 Axes>"
      ]
     },
     "metadata": {
      "needs_background": "light"
     },
     "output_type": "display_data"
    }
   ],
   "source": [
    "# make directory if it does not already exist\n",
    "Path(\"panoramas\").mkdir(parents=True, exist_ok=True)\n",
    "        \n",
    "fig = plt.figure(frameon=False)\n",
    "fig.set_size_inches(10,10*panHeight_px/panWidth_px)\n",
    "ax = plt.Axes(fig, [0., 0., 1., 1.])\n",
    "ax.set_axis_off()\n",
    "fig.add_axes(ax)\n",
    "ax.imshow(darkSpot.T,origin='lower', cmap='binary', vmin=0, vmax=maxBit)\n",
    "fig.savefig(\"panoramas\"+sep+\"RF1_darkSpot.png\",dpi = dpiVal)\n",
    "\n",
    "fig = plt.figure(frameon=False)\n",
    "fig.set_size_inches(10,10*panHeight_px/panWidth_px)\n",
    "ax = plt.Axes(fig, [0., 0., 1., 1.])\n",
    "ax.set_axis_off()\n",
    "fig.add_axes(ax)\n",
    "ax.imshow(brightSpot.T,origin='lower', cmap='binary', vmin=0, vmax=maxBit)\n",
    "\n",
    "fig.savefig(\"panoramas\"+sep+\"RF2_brightSpot.png\", dpi = dpiVal)"
   ]
  },
  {
   "cell_type": "markdown",
   "metadata": {},
   "source": [
    "## Stimuli with clear orientation information\n",
    "Vary just the brightness and test on vs. off features\n",
    "### (1) Generate a sun spot and the inverse image "
   ]
  },
  {
   "cell_type": "code",
   "execution_count": 14,
   "metadata": {},
   "outputs": [],
   "source": [
    "dotSizeAng = 12 #aim for x deg dot\n",
    "\n",
    "#convert angular dot size to pixel size and make dot\n",
    "dotRad = panHeight_px * 0.5 * 0.5 * dotSizeAng/( setalpha*180/np.pi )\n",
    "mydot = disk(radius=dotRad)\n",
    "\n",
    "dotpos_x = round(panWidth_px/2)\n",
    "dotpos_y = round((panHeight_px + dotRad)/2)\n",
    "\n",
    "pan = np.zeros((panWidth_px,panHeight_px),dtype=np.uint8)\n",
    "pan[dotpos_x, dotpos_y] = maxBit\n",
    "pan[:,:] = convolve2d(pan[:,:], mydot, boundary = 'wrap', mode='same')\n",
    "\n",
    "pan = np.minimum(maxBit, pan)"
   ]
  },
  {
   "cell_type": "code",
   "execution_count": 15,
   "metadata": {},
   "outputs": [],
   "source": [
    "darkSpot = pan[:,:]\n",
    "brightSpot = abs(maxBit - darkSpot)"
   ]
  },
  {
   "cell_type": "code",
   "execution_count": 16,
   "metadata": {},
   "outputs": [
    {
     "data": {
      "image/png": "[encoded data removed]",
      "text/plain": [
       "<Figure size 720x97.4264 with 1 Axes>"
      ]
     },
     "metadata": {
      "needs_background": "light"
     },
     "output_type": "display_data"
    },
    {
     "data": {
      "image/png": "[encoded data removed]",
      "text/plain": [
       "<Figure size 720x97.4264 with 1 Axes>"
      ]
     },
     "metadata": {
      "needs_background": "light"
     },
     "output_type": "display_data"
    }
   ],
   "source": [
    "fig = plt.figure(frameon=False)\n",
    "fig.set_size_inches(10,10*panHeight_px/panWidth_px)\n",
    "ax = plt.Axes(fig, [0., 0., 1., 1.])\n",
    "ax.set_axis_off()\n",
    "fig.add_axes(ax)\n",
    "ax.imshow(darkSpot.T,origin='lower', cmap='binary', vmin=0, vmax=maxBit)\n",
    "fig.savefig(\"panoramas\"+sep+\"A1_darkSpot.png\",dpi = dpiVal)\n",
    "\n",
    "fig = plt.figure(frameon=False)\n",
    "fig.set_size_inches(10,10*panHeight_px/panWidth_px)\n",
    "ax = plt.Axes(fig, [0., 0., 1., 1.])\n",
    "ax.set_axis_off()\n",
    "fig.add_axes(ax)\n",
    "ax.imshow(brightSpot.T,origin='lower', cmap='binary', vmin=0, vmax=maxBit)\n",
    "fig.savefig(\"panoramas\"+sep+\"A2_brightSpot.png\", dpi = dpiVal)"
   ]
  },
  {
   "cell_type": "markdown",
   "metadata": {},
   "source": [
    "#### Generate two sun panoramas with matching overall brightness but opposide contrast"
   ]
  },
  {
   "cell_type": "code",
   "execution_count": 17,
   "metadata": {},
   "outputs": [],
   "source": [
    "panOn = darkSpot\n",
    "panOff = maxBit-panOn\n",
    "panOn = np.minimum(maxBit, panOn)\n",
    "panOff = np.minimum(maxBit, panOff)\n",
    "\n",
    "dotRatio = np.sum(panOn/maxBit)/(panWidth_px*panHeight_px)\n",
    "panOn_shift = panOn/2 + (0.5-dotRatio*0.5)*maxBit\n",
    "panOff_shift = panOff/2"
   ]
  },
  {
   "cell_type": "code",
   "execution_count": 18,
   "metadata": {},
   "outputs": [
    {
     "data": {
      "image/png": "[encoded data removed]",
      "text/plain": [
       "<Figure size 720x97.4264 with 1 Axes>"
      ]
     },
     "metadata": {
      "needs_background": "light"
     },
     "output_type": "display_data"
    },
    {
     "data": {
      "image/png": "[encoded data removed]",
      "text/plain": [
       "<Figure size 720x97.4264 with 1 Axes>"
      ]
     },
     "metadata": {
      "needs_background": "light"
     },
     "output_type": "display_data"
    }
   ],
   "source": [
    "fig = plt.figure(frameon=False)\n",
    "fig.set_size_inches(10,10*panHeight_px/panWidth_px)\n",
    "ax = plt.Axes(fig, [0., 0., 1., 1.])\n",
    "ax.set_axis_off()\n",
    "fig.add_axes(ax)\n",
    "ax.imshow(panOn_shift.T,origin='lower', cmap='binary', vmin=0, vmax=maxBit)\n",
    "fig.savefig(\"panoramas\"+sep+\"B1_darkOnGrey.png\",dpi = dpiVal)\n",
    "\n",
    "fig = plt.figure(frameon=False)\n",
    "fig.set_size_inches(10,10*panHeight_px/panWidth_px)\n",
    "ax = plt.Axes(fig, [0., 0., 1., 1.])\n",
    "ax.set_axis_off()\n",
    "fig.add_axes(ax)\n",
    "ax.imshow(panOff_shift.T,origin='lower', cmap='binary', vmin=0, vmax=maxBit)\n",
    "fig.savefig(\"panoramas\"+sep+\"B2_brightOnGrey.png\", dpi = dpiVal)"
   ]
  },
  {
   "cell_type": "code",
   "execution_count": 19,
   "metadata": {},
   "outputs": [
    {
     "name": "stdout",
     "output_type": "stream",
     "text": [
      "3531240\n",
      "486627210\n",
      "1.0072565609309052\n"
     ]
    }
   ],
   "source": [
    "print(np.sum(panOn))\n",
    "print(np.sum(panOff))\n",
    "\n",
    "print(np.sum(panOn_shift)/np.sum(panOff_shift))"
   ]
  },
  {
   "cell_type": "markdown",
   "metadata": {},
   "source": [
    "**Follow up stimulus with darker grey background**"
   ]
  },
  {
   "cell_type": "code",
   "execution_count": 20,
   "metadata": {},
   "outputs": [],
   "source": [
    "panOn_dark = panOn_shift + 0.2*maxBit\n",
    "panOff_dark = panOff_shift + 0.2*maxBit\n",
    "panOn_dark = np.minimum(maxBit, panOn_dark)\n",
    "panOff_dark[panOff_dark < 0.5*maxBit] = np.median(panOn_dark) - (maxBit - np.median(panOn_dark))"
   ]
  },
  {
   "cell_type": "code",
   "execution_count": 21,
   "metadata": {},
   "outputs": [
    {
     "data": {
      "image/png": "[encoded data removed]",
      "text/plain": [
       "<Figure size 720x97.4264 with 1 Axes>"
      ]
     },
     "metadata": {
      "needs_background": "light"
     },
     "output_type": "display_data"
    },
    {
     "data": {
      "image/png": "[encoded data removed]",
      "text/plain": [
       "<Figure size 720x97.4264 with 1 Axes>"
      ]
     },
     "metadata": {
      "needs_background": "light"
     },
     "output_type": "display_data"
    }
   ],
   "source": [
    "fig = plt.figure(frameon=False)\n",
    "fig.set_size_inches(10,10*panHeight_px/panWidth_px)\n",
    "ax = plt.Axes(fig, [0., 0., 1., 1.])\n",
    "ax.set_axis_off()\n",
    "fig.add_axes(ax)\n",
    "ax.imshow(panOn_dark.T,origin='lower', cmap='binary', vmin=0, vmax=maxBit)\n",
    "fig.savefig(\"panoramas\"+sep+\"B1d_darkOnDarkGrey.png\",dpi = dpiVal)\n",
    "\n",
    "fig = plt.figure(frameon=False)\n",
    "fig.set_size_inches(10,10*panHeight_px/panWidth_px)\n",
    "ax = plt.Axes(fig, [0., 0., 1., 1.])\n",
    "ax.set_axis_off()\n",
    "fig.add_axes(ax)\n",
    "ax.imshow(panOff_dark.T,origin='lower', cmap='binary', vmin=0, vmax=maxBit)\n",
    "fig.savefig(\"panoramas\"+sep+\"B2d_brightOnDarkGrey.png\", dpi = dpiVal)"
   ]
  },
  {
   "cell_type": "code",
   "execution_count": 22,
   "metadata": {},
   "outputs": [
    {
     "name": "stdout",
     "output_type": "stream",
     "text": [
      "1.0011440181700701\n"
     ]
    }
   ],
   "source": [
    "print(np.sum(panOn_dark)/np.sum(panOff_dark))"
   ]
  },
  {
   "cell_type": "code",
   "execution_count": 23,
   "metadata": {},
   "outputs": [
    {
     "data": {
      "image/png": "[encoded data removed]",
      "text/plain": [
       "<Figure size 576x288 with 2 Axes>"
      ]
     },
     "metadata": {
      "needs_background": "light"
     },
     "output_type": "display_data"
    }
   ],
   "source": [
    "fig, axs = plt.subplots(1,2,figsize=(8,4))\n",
    "\n",
    "axs[0].plot(panOn_shift.T[dotpos_y,:], label='Bright spot')\n",
    "axs[0].plot(panOff_shift.T[dotpos_y,:], label='Dark spot')\n",
    "axs[0].set_title('Light and Dark on mid-range gray')\n",
    "\n",
    "axs[1].plot(panOn_dark.T[dotpos_y,:], label='Bright spot')\n",
    "axs[1].plot(panOff_dark.T[dotpos_y,:], label='Dark spot')\n",
    "axs[1].set_title('Light and Dark on dark gray')\n",
    "\n",
    "for ax in axs:\n",
    "    ax.set_ylim((0,maxBit))\n",
    "    ax.set_xlabel('Panorama width [px]')\n",
    "    ax.legend()\n",
    "axs[0].set_ylabel('Bit range  (0-white, {}-black)'.format(maxBit));\n",
    "fig.tight_layout()"
   ]
  },
  {
   "cell_type": "markdown",
   "metadata": {},
   "source": [
    "### (2) Generate a gradient"
   ]
  },
  {
   "cell_type": "code",
   "execution_count": 24,
   "metadata": {},
   "outputs": [],
   "source": [
    "panGrad = np.tile( (np.sin(np.linspace(np.pi,np.pi*3,panWidth_px)) + 1)*maxBit/2 ,panHeight_px).reshape(panHeight_px,panWidth_px)\n",
    "panGradLow = np.tile( (np.sin(np.linspace(np.pi,np.pi*3,panWidth_px)) + 2)*maxBit/4 ,panHeight_px).reshape(panHeight_px,panWidth_px)\n",
    "panGradVeryLow = np.tile( (np.sin(np.linspace(np.pi,np.pi*3,panWidth_px)) + 4)*maxBit/8 ,panHeight_px).reshape(panHeight_px,panWidth_px)\n",
    "\n",
    "panGradLowBright = np.tile( (np.sin(np.linspace(np.pi,np.pi*3,panWidth_px)) + 2)*maxBit/4 - maxBit/4 ,panHeight_px).reshape(panHeight_px,panWidth_px)\n",
    "panGradVeryLowBright = np.tile( (np.sin(np.linspace(np.pi,np.pi*3,panWidth_px)) + 4)*maxBit/8 - 3*maxBit/8 ,panHeight_px).reshape(panHeight_px,panWidth_px)"
   ]
  },
  {
   "cell_type": "code",
   "execution_count": 25,
   "metadata": {},
   "outputs": [
    {
     "data": {
      "image/png": "[encoded data removed]",
      "text/plain": [
       "<Figure size 360x288 with 1 Axes>"
      ]
     },
     "metadata": {
      "needs_background": "light"
     },
     "output_type": "display_data"
    }
   ],
   "source": [
    "fig, axs = plt.subplots(1,1,figsize=(5,4))\n",
    "axs.plot(panGrad[0,:], label='gradient')\n",
    "axs.plot(panGradLow[0,:], label='gradientLow')\n",
    "axs.plot(panGradVeryLow[0,:], label='gradientVeryLow')\n",
    "axs.plot(panGradLowBright[0,:], label='gradientLowBright')\n",
    "axs.plot(panGradVeryLowBright[0,:], label='gradientVeryLowBright')\n",
    "axs.set_title('Gradients of varying depth')\n",
    "axs.set_ylim((0,maxBit))\n",
    "axs.set_xlabel('Panorama width [px]')\n",
    "axs.set_ylabel('Bit range  (0-white, {}-black)'.format(maxBit));\n",
    "axs.legend()\n",
    "fig.tight_layout()"
   ]
  },
  {
   "cell_type": "code",
   "execution_count": 26,
   "metadata": {},
   "outputs": [
    {
     "data": {
      "image/png": "[encoded data removed]",
      "text/plain": [
       "<Figure size 720x97.4264 with 1 Axes>"
      ]
     },
     "metadata": {
      "needs_background": "light"
     },
     "output_type": "display_data"
    },
    {
     "data": {
      "image/png": "[encoded data removed]",
      "text/plain": [
       "<Figure size 720x97.4264 with 1 Axes>"
      ]
     },
     "metadata": {
      "needs_background": "light"
     },
     "output_type": "display_data"
    },
    {
     "data": {
      "image/png": "[encoded data removed]",
      "text/plain": [
       "<Figure size 720x97.4264 with 1 Axes>"
      ]
     },
     "metadata": {
      "needs_background": "light"
     },
     "output_type": "display_data"
    },
    {
     "data": {
      "image/png": "[encoded data removed]",
      "text/plain": [
       "<Figure size 720x97.4264 with 1 Axes>"
      ]
     },
     "metadata": {
      "needs_background": "light"
     },
     "output_type": "display_data"
    },
    {
     "data": {
      "image/png": "[encoded data removed]",
      "text/plain": [
       "<Figure size 720x97.4264 with 1 Axes>"
      ]
     },
     "metadata": {
      "needs_background": "light"
     },
     "output_type": "display_data"
    }
   ],
   "source": [
    "fig = plt.figure(frameon=False)\n",
    "fig.set_size_inches(10,10*panHeight_px/panWidth_px)\n",
    "ax = plt.Axes(fig, [0., 0., 1., 1.])\n",
    "ax.set_axis_off()\n",
    "fig.add_axes(ax)\n",
    "ax.imshow(panGrad,origin='lower', cmap='binary', vmin=0, vmax=maxBit)\n",
    "fig.savefig(\"panoramas\"+sep+\"C1_gradient.png\",dpi = dpiVal)\n",
    "\n",
    "fig = plt.figure(frameon=False)\n",
    "fig.set_size_inches(10,10*panHeight_px/panWidth_px)\n",
    "ax = plt.Axes(fig, [0., 0., 1., 1.])\n",
    "ax.set_axis_off()\n",
    "fig.add_axes(ax)\n",
    "ax.imshow(panGradLow,origin='lower', cmap='binary', vmin=0, vmax=maxBit)\n",
    "fig.savefig(\"panoramas\"+sep+\"C2_gradientLow.png\",dpi = dpiVal)\n",
    "\n",
    "fig = plt.figure(frameon=False)\n",
    "fig.set_size_inches(10,10*panHeight_px/panWidth_px)\n",
    "ax = plt.Axes(fig, [0., 0., 1., 1.])\n",
    "ax.set_axis_off()\n",
    "fig.add_axes(ax)\n",
    "ax.imshow(panGradVeryLow,origin='lower', cmap='binary', vmin=0, vmax=maxBit)\n",
    "fig.savefig(\"panoramas\"+sep+\"C3_gradientVeryLow.png\",dpi = dpiVal)\n",
    "\n",
    "fig = plt.figure(frameon=False)\n",
    "fig.set_size_inches(10,10*panHeight_px/panWidth_px)\n",
    "ax = plt.Axes(fig, [0., 0., 1., 1.])\n",
    "ax.set_axis_off()\n",
    "fig.add_axes(ax)\n",
    "ax.imshow(panGradLowBright.astype('int'),origin='lower', cmap='binary', vmin=0, vmax=maxBit)\n",
    "fig.savefig(\"panoramas\"+sep+\"C4_gradientLowBright.png\",dpi = dpiVal)\n",
    "\n",
    "fig = plt.figure(frameon=False)\n",
    "fig.set_size_inches(10,10*panHeight_px/panWidth_px)\n",
    "ax = plt.Axes(fig, [0., 0., 1., 1.])\n",
    "ax.set_axis_off()\n",
    "fig.add_axes(ax)\n",
    "ax.imshow(panGradVeryLowBright,origin='lower', cmap='binary', vmin=0, vmax=maxBit)\n",
    "fig.savefig(\"panoramas\"+sep+\"C5_gradientVeryLowBright.png\",dpi = dpiVal)"
   ]
  },
  {
   "cell_type": "markdown",
   "metadata": {},
   "source": [
    "### (3) Generate a gradient with sunspots of varying brightness"
   ]
  },
  {
   "cell_type": "code",
   "execution_count": 27,
   "metadata": {},
   "outputs": [],
   "source": [
    "panLeftShifted = np.roll(pan, -int(np.shape(pan)[0]/4), axis = 0)"
   ]
  },
  {
   "cell_type": "code",
   "execution_count": 28,
   "metadata": {},
   "outputs": [],
   "source": [
    "brightStr = np.array([\"High\",\"Mid\",\"Low\"])"
   ]
  },
  {
   "cell_type": "code",
   "execution_count": 29,
   "metadata": {},
   "outputs": [
    {
     "data": {
      "image/png": "[encoded data removed]",
      "text/plain": [
       "<Figure size 720x97.4264 with 1 Axes>"
      ]
     },
     "metadata": {
      "needs_background": "light"
     },
     "output_type": "display_data"
    },
    {
     "data": {
      "image/png": "[encoded data removed]",
      "text/plain": [
       "<Figure size 720x97.4264 with 1 Axes>"
      ]
     },
     "metadata": {
      "needs_background": "light"
     },
     "output_type": "display_data"
    },
    {
     "data": {
      "image/png": "[encoded data removed]",
      "text/plain": [
       "<Figure size 720x97.4264 with 1 Axes>"
      ]
     },
     "metadata": {
      "needs_background": "light"
     },
     "output_type": "display_data"
    }
   ],
   "source": [
    "brightRange = np.linspace(0,np.min(panGradLow),len(brightStr)+1)\n",
    "for i,bStr in enumerate(brightStr):\n",
    "    spotBrightness = brightRange[i]\n",
    "    panSpotGradLow = np.where(panLeftShifted.T>0,spotBrightness,panGradLow)\n",
    "    fig = plt.figure(frameon=False)\n",
    "    fig.set_size_inches(10,10*panHeight_px/panWidth_px)\n",
    "    ax = plt.Axes(fig, [0., 0., 1., 1.])\n",
    "    ax.set_axis_off()\n",
    "    fig.add_axes(ax)\n",
    "    ax.imshow(panSpotGradLow,origin='lower', cmap='binary', vmin=0, vmax=maxBit)\n",
    "    fig.savefig(\"panoramas\"+sep+\"C2\"+\"S\"+str(i+1)+\"_panoramaSpot\"+bStr+\"GradientLow.png\",dpi = dpiVal)"
   ]
  },
  {
   "cell_type": "code",
   "execution_count": 30,
   "metadata": {},
   "outputs": [
    {
     "data": {
      "image/png": "[encoded data removed]",
      "text/plain": [
       "<Figure size 432x288 with 1 Axes>"
      ]
     },
     "metadata": {
      "needs_background": "light"
     },
     "output_type": "display_data"
    }
   ],
   "source": [
    "for i,bStr in enumerate(brightStr):\n",
    "    spotBrightness = brightRange[i]\n",
    "    panSpotGradLow = np.where(panLeftShifted.T>0,spotBrightness,panGradLow)\n",
    "    plt.plot(panSpotGradLow[int(np.shape(panSpotGradLow)[0]/2),:],label=bStr)\n",
    "plt.ylim(0,maxBit)\n",
    "plt.title('Sunspots of varying brightness')\n",
    "plt.xlabel('Panorama width [px]')\n",
    "plt.ylabel('Bit range  (0-white, {}-black)'.format(maxBit));\n",
    "plt.legend()\n",
    "plt.savefig(\"plots\"+sep+\"disappearing_sunspot_profile.pdf\")"
   ]
  },
  {
   "cell_type": "markdown",
   "metadata": {},
   "source": [
    "### (3) Generate reshaped panoramas"
   ]
  },
  {
   "cell_type": "code",
   "execution_count": 31,
   "metadata": {},
   "outputs": [],
   "source": [
    "import pandas as pd\n",
    "from scipy.optimize import minimize\n",
    "import scipy as sp\n",
    "\n",
    "Dir = 'screenMeasurements/' #\"/Volumes/jayaramanlab/Shivam/\" #connect to dm11\n",
    "rig = \"Hannah\" #\"Shivam\"#\n",
    "\n",
    "if rig == \"Shivam\":\n",
    "    file2 = rig+\"Rig_mean_brightness_level_6.csv\"\n",
    "else:\n",
    "    file2 = rig+\"Rig_mean_brightness.csv\"\n",
    "    \n",
    "file = rig+\"Rig_lookup_table_transformed_brightness.csv\"\n",
    "\n",
    "lookupDf = pd.read_csv(Dir+file)\n",
    "mean_brightness = pd.read_csv(Dir+file2)"
   ]
  },
  {
   "cell_type": "code",
   "execution_count": 32,
   "metadata": {},
   "outputs": [],
   "source": [
    "maxBit = 255 #assuming 8bit image depth\n",
    "npts = 1000\n",
    "\n",
    "def rescale(img):\n",
    "    x = img.flatten()\n",
    "    y = np.array(lookupDf.iloc[x]['Iin'])\n",
    "    imgT = y.reshape(np.shape(img))\n",
    "    return imgT\n",
    "\n",
    "def simulateI(img):\n",
    "    x = img.flatten()\n",
    "    y = np.array(transformDf.iloc[x]['Iin'])\n",
    "    imgT = y.reshape(np.shape(img))\n",
    "    return imgT"
   ]
  },
  {
   "cell_type": "code",
   "execution_count": 33,
   "metadata": {},
   "outputs": [
    {
     "data": {
      "image/png": "[encoded data removed]",
      "text/plain": [
       "<Figure size 432x288 with 1 Axes>"
      ]
     },
     "metadata": {
      "needs_background": "light"
     },
     "output_type": "display_data"
    }
   ],
   "source": [
    "y = np.array(mean_brightness['I'].values)\n",
    "x = np.arange(0,256,1)\n",
    "y = np.zeros(x.shape)\n",
    "\n",
    "b = sp.interpolate.interp1d(mean_brightness['I'], mean_brightness['Stim'],bounds_error=False)\n",
    "\n",
    "def diff(x,a):\n",
    "    yt = b(x)\n",
    "    return (yt - a)**2\n",
    "\n",
    "for idx,x_value in enumerate(x):\n",
    "    res = minimize(diff, 1.0, args=(x_value), method='Nelder-Mead', tol=1e-6)\n",
    "    y[idx] = res.x[0]\n",
    "\n",
    "plt.plot(mean_brightness['I'].values,mean_brightness['Stim'].values,'o');\n",
    "plt.plot(np.round(y).astype('int'),x)\n",
    "plt.title(r'$f(I)_{fit}$')\n",
    "plt.ylabel(\"$I_{out}$\"); plt.xlabel(\"$I_{in}$\");\n",
    "\n",
    "transformDf = pd.DataFrame(np.array([np.round(y).astype('int'),x]).T, columns = [\"Iin\", \"Iout\"])"
   ]
  },
  {
   "cell_type": "markdown",
   "metadata": {},
   "source": [
    "**Generate and save simulated original gradients**"
   ]
  },
  {
   "cell_type": "code",
   "execution_count": 34,
   "metadata": {},
   "outputs": [
    {
     "data": {
      "image/png": "[encoded data removed]",
      "text/plain": [
       "<Figure size 720x97.4264 with 1 Axes>"
      ]
     },
     "metadata": {
      "needs_background": "light"
     },
     "output_type": "display_data"
    },
    {
     "data": {
      "image/png": "[encoded data removed]",
      "text/plain": [
       "<Figure size 720x97.4264 with 1 Axes>"
      ]
     },
     "metadata": {
      "needs_background": "light"
     },
     "output_type": "display_data"
    },
    {
     "data": {
      "image/png": "[encoded data removed]",
      "text/plain": [
       "<Figure size 720x97.4264 with 1 Axes>"
      ]
     },
     "metadata": {
      "needs_background": "light"
     },
     "output_type": "display_data"
    },
    {
     "data": {
      "image/png": "[encoded data removed]",
      "text/plain": [
       "<Figure size 720x97.4264 with 1 Axes>"
      ]
     },
     "metadata": {
      "needs_background": "light"
     },
     "output_type": "display_data"
    },
    {
     "data": {
      "image/png": "[encoded data removed]",
      "text/plain": [
       "<Figure size 720x97.4264 with 1 Axes>"
      ]
     },
     "metadata": {
      "needs_background": "light"
     },
     "output_type": "display_data"
    }
   ],
   "source": [
    "# make directory if it does not already exist\n",
    "Path(\"panoramas/simulated\").mkdir(parents=True, exist_ok=True)\n",
    "\n",
    "fig = plt.figure(frameon=False)\n",
    "fig.set_size_inches(10,10*panHeight_px/panWidth_px)\n",
    "ax = plt.Axes(fig, [0., 0., 1., 1.])\n",
    "ax.set_axis_off()\n",
    "fig.add_axes(ax)\n",
    "ax.imshow(simulateI(panGrad),origin='lower', cmap='binary', vmin=0, vmax=maxBit)\n",
    "fig.savefig(\"panoramas\"+sep+'simulated'+sep+\"C1_gradient_simulated_{}Rig.png\".format(rig),dpi = dpiVal)\n",
    "\n",
    "fig = plt.figure(frameon=False)\n",
    "fig.set_size_inches(10,10*panHeight_px/panWidth_px)\n",
    "ax = plt.Axes(fig, [0., 0., 1., 1.])\n",
    "ax.set_axis_off()\n",
    "fig.add_axes(ax)\n",
    "ax.imshow(simulateI(panGradLow),origin='lower', cmap='binary', vmin=0, vmax=maxBit)\n",
    "fig.savefig(\"panoramas\"+sep+\"simulated\"+sep+\"C2_gradientLow_simulated_{}Rig.png\".format(rig),dpi = dpiVal)\n",
    "\n",
    "fig = plt.figure(frameon=False)\n",
    "fig.set_size_inches(10,10*panHeight_px/panWidth_px)\n",
    "ax = plt.Axes(fig, [0., 0., 1., 1.])\n",
    "ax.set_axis_off()\n",
    "fig.add_axes(ax)\n",
    "ax.imshow(simulateI(panGradVeryLow),origin='lower', cmap='binary', vmin=0, vmax=maxBit)\n",
    "fig.savefig(\"panoramas\"+sep+\"simulated\"+sep+\"C3_gradientVeryLow_simulated_{}Rig.png\".format(rig),dpi = dpiVal)\n",
    "\n",
    "fig = plt.figure(frameon=False)\n",
    "fig.set_size_inches(10,10*panHeight_px/panWidth_px)\n",
    "ax = plt.Axes(fig, [0., 0., 1., 1.])\n",
    "ax.set_axis_off()\n",
    "fig.add_axes(ax)\n",
    "ax.imshow(simulateI(panGradLowBright),origin='lower', cmap='binary', vmin=0, vmax=maxBit)\n",
    "fig.savefig(\"panoramas\"+sep+\"simulated\"+sep+\"C4_gradientLowBright_simulated_{}Rig.png\".format(rig),dpi = dpiVal)\n",
    "\n",
    "fig = plt.figure(frameon=False)\n",
    "fig.set_size_inches(10,10*panHeight_px/panWidth_px)\n",
    "ax = plt.Axes(fig, [0., 0., 1., 1.])\n",
    "ax.set_axis_off()\n",
    "fig.add_axes(ax)\n",
    "ax.imshow(simulateI(panGradVeryLowBright),origin='lower', cmap='binary', vmin=0, vmax=maxBit)\n",
    "fig.savefig(\"panoramas\"+sep+\"simulated\"+sep+\"C5_gradientVeryLowBright_simulated_{}Rig.png\".format(rig),dpi = dpiVal)"
   ]
  },
  {
   "cell_type": "markdown",
   "metadata": {},
   "source": [
    "**Generate and save reshaped gradients**"
   ]
  },
  {
   "cell_type": "code",
   "execution_count": 35,
   "metadata": {},
   "outputs": [
    {
     "data": {
      "image/png": "[encoded data removed]",
      "text/plain": [
       "<Figure size 720x97.4264 with 1 Axes>"
      ]
     },
     "metadata": {
      "needs_background": "light"
     },
     "output_type": "display_data"
    },
    {
     "data": {
      "image/png": "[encoded data removed]",
      "text/plain": [
       "<Figure size 720x97.4264 with 1 Axes>"
      ]
     },
     "metadata": {
      "needs_background": "light"
     },
     "output_type": "display_data"
    },
    {
     "data": {
      "image/png": "[encoded data removed]",
      "text/plain": [
       "<Figure size 720x97.4264 with 1 Axes>"
      ]
     },
     "metadata": {
      "needs_background": "light"
     },
     "output_type": "display_data"
    },
    {
     "data": {
      "image/png": "[encoded data removed]",
      "text/plain": [
       "<Figure size 720x97.4264 with 1 Axes>"
      ]
     },
     "metadata": {
      "needs_background": "light"
     },
     "output_type": "display_data"
    },
    {
     "data": {
      "image/png": "[encoded data removed]",
      "text/plain": [
       "<Figure size 720x97.4264 with 1 Axes>"
      ]
     },
     "metadata": {
      "needs_background": "light"
     },
     "output_type": "display_data"
    }
   ],
   "source": [
    "# make directory if it does not already exist\n",
    "Path(\"panoramas/reshaped\").mkdir(parents=True, exist_ok=True)\n",
    "\n",
    "fig = plt.figure(frameon=False)\n",
    "fig.set_size_inches(10,10*panHeight_px/panWidth_px)\n",
    "ax = plt.Axes(fig, [0., 0., 1., 1.])\n",
    "ax.set_axis_off()\n",
    "fig.add_axes(ax)\n",
    "ax.imshow(rescale(panGrad),origin='lower', cmap='binary', vmin=0, vmax=maxBit)\n",
    "fig.savefig(\"panoramas\"+sep+\"reshaped\"+sep+\"C1_gradient_reshaped_{}Rig.png\".format(rig),dpi = dpiVal)\n",
    "\n",
    "\n",
    "fig = plt.figure(frameon=False)\n",
    "fig.set_size_inches(10,10*panHeight_px/panWidth_px)\n",
    "ax = plt.Axes(fig, [0., 0., 1., 1.])\n",
    "ax.set_axis_off()\n",
    "fig.add_axes(ax)\n",
    "ax.imshow(rescale(panGradLow),origin='lower', cmap='binary', vmin=0, vmax=maxBit)\n",
    "fig.savefig(\"panoramas\"+sep+\"reshaped\"+sep+\"C2_gradientLow_reshaped_{}Rig.png\".format(rig),dpi = dpiVal)\n",
    "\n",
    "fig = plt.figure(frameon=False)\n",
    "fig.set_size_inches(10,10*panHeight_px/panWidth_px)\n",
    "ax = plt.Axes(fig, [0., 0., 1., 1.])\n",
    "ax.set_axis_off()\n",
    "fig.add_axes(ax)\n",
    "ax.imshow(rescale(panGradVeryLow),origin='lower', cmap='binary', vmin=0, vmax=maxBit)\n",
    "fig.savefig(\"panoramas\"+sep+\"reshaped\"+sep+\"C3_gradientVeryLow_reshaped_{}Rig.png\".format(rig),dpi = dpiVal)\n",
    "\n",
    "fig = plt.figure(frameon=False)\n",
    "fig.set_size_inches(10,10*panHeight_px/panWidth_px)\n",
    "ax = plt.Axes(fig, [0., 0., 1., 1.])\n",
    "ax.set_axis_off()\n",
    "fig.add_axes(ax)\n",
    "ax.imshow(rescale(panGradLowBright),origin='lower', cmap='binary', vmin=0, vmax=maxBit)\n",
    "fig.savefig(\"panoramas\"+sep+\"reshaped\"+sep+\"C4_gradientLowBright_reshaped_{}Rig.png\".format(rig),dpi = dpiVal)\n",
    "\n",
    "fig = plt.figure(frameon=False)\n",
    "fig.set_size_inches(10,10*panHeight_px/panWidth_px)\n",
    "ax = plt.Axes(fig, [0., 0., 1., 1.])\n",
    "ax.set_axis_off()\n",
    "fig.add_axes(ax)\n",
    "ax.imshow(rescale(panGradVeryLowBright),origin='lower', cmap='binary', vmin=0, vmax=maxBit)\n",
    "fig.savefig(\"panoramas\"+sep+\"reshaped\"+sep+\"C5_gradientVeryLowBright_reshaped_{}Rig.png\".format(rig),dpi = dpiVal)"
   ]
  },
  {
   "cell_type": "markdown",
   "metadata": {},
   "source": [
    "### Reshape gradients with sunspot"
   ]
  },
  {
   "cell_type": "code",
   "execution_count": 36,
   "metadata": {},
   "outputs": [
    {
     "data": {
      "image/png": "[encoded data removed]",
      "text/plain": [
       "<Figure size 720x97.4264 with 1 Axes>"
      ]
     },
     "metadata": {
      "needs_background": "light"
     },
     "output_type": "display_data"
    },
    {
     "data": {
      "image/png": "[encoded data removed]",
      "text/plain": [
       "<Figure size 720x97.4264 with 1 Axes>"
      ]
     },
     "metadata": {
      "needs_background": "light"
     },
     "output_type": "display_data"
    },
    {
     "data": {
      "image/png": "[encoded data removed]",
      "text/plain": [
       "<Figure size 720x97.4264 with 1 Axes>"
      ]
     },
     "metadata": {
      "needs_background": "light"
     },
     "output_type": "display_data"
    }
   ],
   "source": [
    "brightRange = np.linspace(0,np.min(panGradLow),len(brightStr)+1)\n",
    "for i,bStr in enumerate(brightStr):\n",
    "    spotBrightness = brightRange[i]\n",
    "    panSpotGradLow = np.where(panLeftShifted.T>0,spotBrightness,panGradLow)\n",
    "    fig = plt.figure(frameon=False)\n",
    "    fig.set_size_inches(10,10*panHeight_px/panWidth_px)\n",
    "    ax = plt.Axes(fig, [0., 0., 1., 1.])\n",
    "    ax.set_axis_off()\n",
    "    fig.add_axes(ax)\n",
    "    ax.imshow(rescale(panSpotGradLow),origin='lower', cmap='binary', vmin=0, vmax=maxBit)\n",
    "    fig.savefig(\"panoramas\"+sep+\"reshaped\"+sep+\"C2\"+\"S\"+str(i+1)+\"_panoramaSpot\"+bStr+\"GradientLow_reshaped_{}Rig.png\".format(rig),dpi = dpiVal)"
   ]
  },
  {
   "cell_type": "markdown",
   "metadata": {},
   "source": [
    "### Reshape sky gradients"
   ]
  },
  {
   "cell_type": "code",
   "execution_count": 37,
   "metadata": {},
   "outputs": [
    {
     "ename": "NameError",
     "evalue": "name 'Image' is not defined",
     "output_type": "error",
     "traceback": [
      "\u001b[0;31m---------------------------------------------------------------------------\u001b[0m",
      "\u001b[0;31mNameError\u001b[0m                                 Traceback (most recent call last)",
      "\u001b[0;32m<ipython-input-37-7bbf9ec8ef99>\u001b[0m in \u001b[0;36m<module>\u001b[0;34m\u001b[0m\n\u001b[1;32m      9\u001b[0m \u001b[0;32mfor\u001b[0m \u001b[0mside\u001b[0m\u001b[0;34m,\u001b[0m \u001b[0mname\u001b[0m \u001b[0;32min\u001b[0m \u001b[0menumerate\u001b[0m\u001b[0;34m(\u001b[0m\u001b[0;34m[\u001b[0m\u001b[0;34m'Back'\u001b[0m\u001b[0;34m,\u001b[0m\u001b[0;34m'Right'\u001b[0m\u001b[0;34m,\u001b[0m\u001b[0;34m'Front'\u001b[0m\u001b[0;34m,\u001b[0m\u001b[0;34m'Left'\u001b[0m\u001b[0;34m,\u001b[0m\u001b[0;34m'Up'\u001b[0m\u001b[0;34m,\u001b[0m\u001b[0;34m'Down'\u001b[0m\u001b[0;34m]\u001b[0m\u001b[0;34m)\u001b[0m\u001b[0;34m:\u001b[0m\u001b[0;34m\u001b[0m\u001b[0;34m\u001b[0m\u001b[0m\n\u001b[1;32m     10\u001b[0m \u001b[0;34m\u001b[0m\u001b[0m\n\u001b[0;32m---> 11\u001b[0;31m     \u001b[0mgrad\u001b[0m \u001b[0;34m=\u001b[0m \u001b[0mnp\u001b[0m\u001b[0;34m.\u001b[0m\u001b[0masarray\u001b[0m\u001b[0;34m(\u001b[0m\u001b[0mImage\u001b[0m\u001b[0;34m.\u001b[0m\u001b[0mopen\u001b[0m\u001b[0;34m(\u001b[0m\u001b[0mpath\u001b[0m \u001b[0;34m+\u001b[0m \u001b[0;34m'Skybox_mean_{}_{}.png'\u001b[0m\u001b[0;34m.\u001b[0m\u001b[0mformat\u001b[0m\u001b[0;34m(\u001b[0m\u001b[0mname\u001b[0m\u001b[0;34m,\u001b[0m\u001b[0msavename\u001b[0m\u001b[0;34m)\u001b[0m\u001b[0;34m)\u001b[0m\u001b[0;34m)\u001b[0m\u001b[0;34m\u001b[0m\u001b[0;34m\u001b[0m\u001b[0m\n\u001b[0m\u001b[1;32m     12\u001b[0m \u001b[0;34m\u001b[0m\u001b[0m\n\u001b[1;32m     13\u001b[0m     \u001b[0mfig\u001b[0m \u001b[0;34m=\u001b[0m \u001b[0mplt\u001b[0m\u001b[0;34m.\u001b[0m\u001b[0mfigure\u001b[0m\u001b[0;34m(\u001b[0m\u001b[0mframeon\u001b[0m\u001b[0;34m=\u001b[0m\u001b[0;32mFalse\u001b[0m\u001b[0;34m)\u001b[0m\u001b[0;34m\u001b[0m\u001b[0;34m\u001b[0m\u001b[0m\n",
      "\u001b[0;31mNameError\u001b[0m: name 'Image' is not defined"
     ]
    }
   ],
   "source": [
    "pt_per_cm = 150\n",
    "dpiVal = 1000\n",
    "\n",
    "maxBitSave = 2000\n",
    "\n",
    "savename = '13h'\n",
    "path = './skyGradients/'+savename+'/'\n",
    "\n",
    "for side, name in enumerate(['Back','Right','Front','Left','Up','Down']):\n",
    "\n",
    "    grad = np.asarray(Image.open(path + 'Skybox_mean_{}_{}.png'.format(name,savename)))\n",
    "\n",
    "    fig = plt.figure(frameon=False)\n",
    "    fig.set_size_inches(5,5)\n",
    "    ax = plt.Axes(fig, [0., 0., 1., 1.])\n",
    "    ax.set_axis_off()\n",
    "    fig.add_axes(ax)\n",
    "    ax.imshow(rescale(grad), cmap='binary')\n",
    "    fig.savefig(path+\"Skybox_reshaped_{}_{}_{}.png\".format(name,savename,rig),dpi = dpiVal)"
   ]
  },
  {
   "cell_type": "code",
   "execution_count": null,
   "metadata": {},
   "outputs": [],
   "source": []
  }
 ],
 "metadata": {
  "kernelspec": {
   "display_name": "Python 3",
   "language": "python",
   "name": "python3"
  },
  "language_info": {
   "codemirror_mode": {
    "name": "ipython",
    "version": 3
   },
   "file_extension": ".py",
   "mimetype": "text/x-python",
   "name": "python",
   "nbconvert_exporter": "python",
   "pygments_lexer": "ipython3",
   "version": "3.9.7"
  },
  "widgets": {
   "application/vnd.jupyter.widget-state+json": {
    "state": {},
    "version_major": 2,
    "version_minor": 0
   }
  }
 },
 "nbformat": 4,
 "nbformat_minor": 4
}
