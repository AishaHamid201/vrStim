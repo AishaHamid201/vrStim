{
 "cells": [
  {
   "cell_type": "markdown",
   "metadata": {},
   "source": [
    "## Generation of visual panoramas to be tested for head direction stability"
   ]
  },
  {
   "cell_type": "code",
   "execution_count": 93,
   "metadata": {},
   "outputs": [],
   "source": [
    "import numpy as np\n",
    "import matplotlib.pyplot as plt\n",
    "from scipy.stats import vonmises\n",
    "from skimage.morphology import disk\n",
    "from scipy.signal import convolve2d, correlate\n",
    "from scipy.stats import zscore\n",
    "from pathlib import Path\n",
    "from os.path import sep\n",
    "\n",
    "np.random.seed(seed=3)\n",
    "%config Completer.use_jedi = False  #magic to fix autocomplete issue"
   ]
  },
  {
   "cell_type": "markdown",
   "metadata": {},
   "source": [
    "### Visibility range of the screen\n",
    "#### (a) Visibility below the horizon line\n",
    "This visibility range is limited by the ball surface (unless the screen is very short)"
   ]
  },
  {
   "cell_type": "code",
   "execution_count": 94,
   "metadata": {},
   "outputs": [
    {
     "name": "stdout",
     "output_type": "stream",
     "text": [
      "Angle visible below horizon line:\n"
     ]
    },
    {
     "data": {
      "text/plain": [
       "34.77194403194859"
      ]
     },
     "execution_count": 94,
     "metadata": {},
     "output_type": "execute_result"
    }
   ],
   "source": [
    "ballRad = 4.6 # treadmill ball radius [mm]\n",
    "flyEyeAboveBall = 1 # height of eye above ball surface [mm]\n",
    "\n",
    "print('Angle visible below horizon line:')\n",
    "90-(180/np.pi)*np.arcsin(ballRad/(flyEyeAboveBall+ballRad))"
   ]
  },
  {
   "cell_type": "markdown",
   "metadata": {},
   "source": [
    "#### (b) Visibility above the horizon line\n",
    "This visibility range is limited by either the fly holder (pyramid) or the screen height. \n",
    "If the screen is limited, the angle it spanns depends on the screen distannce  which may vary along the azimuth. We will consider only the extreme values, i.e. the minimum and maximum screen distances. For the pentagonal screen that r_min at the center of the faces and r_max at the corners. "
   ]
  },
  {
   "cell_type": "code",
   "execution_count": 95,
   "metadata": {},
   "outputs": [
    {
     "name": "stdout",
     "output_type": "stream",
     "text": [
      "The screen spands an angle from 17.175903615746744 to 23.025492008528037 above the horizon line.\n"
     ]
    }
   ],
   "source": [
    "pyramidAngle = 20 #12 for old pyramid, ideally 20 for new pyramid\n",
    "\n",
    "screenMinDist = 4.0 # cm\n",
    "screenMaxDist = 5.5 #cm\n",
    "\n",
    "topScreenHeight = 1.7 #cm\n",
    "\n",
    "alpha_rmin = (180/np.pi) * np.arctan( topScreenHeight / screenMinDist)\n",
    "alpha_rmax = (180/np.pi) * np.arctan( topScreenHeight / screenMaxDist)\n",
    "\n",
    "print(\"The screen spands an angle from {} to {} above the horizon line.\".format(alpha_rmax, alpha_rmin))"
   ]
  },
  {
   "cell_type": "markdown",
   "metadata": {},
   "source": [
    "### Determine approrpiate size for the texture\n",
    "Choose which angle should be spanned. The texture will be sized to be displayed such that it spanns the full size at the closes points on the  screen (r_min). Thus, the texture should be displayed on a cylinder with radius r_min."
   ]
  },
  {
   "cell_type": "code",
   "execution_count": 96,
   "metadata": {},
   "outputs": [
    {
     "name": "stdout",
     "output_type": "stream",
     "text": [
      "Cylinder height: 1.54, Cylinder radius: 4.0\n"
     ]
    }
   ],
   "source": [
    "setalpha = 21*(np.pi/180)\n",
    "height_cm = np.round(np.tan(setalpha) * screenMinDist, 2) * 2\n",
    "# Values to set in unity scene:\n",
    "print('Cylinder height: {}, Cylinder radius: {}'.format(height_cm/2, screenMinDist))"
   ]
  },
  {
   "cell_type": "code",
   "execution_count": 97,
   "metadata": {},
   "outputs": [],
   "source": [
    "pt_per_cm = 150\n",
    "dpiVal = 1000\n",
    "\n",
    "panHeight_px = int(height_cm * pt_per_cm)\n",
    "panWidth_px = int(2*np.pi*screenMinDist*pt_per_cm)\n",
    "\n",
    "maxBit = 255 #assuming 8bit image depth"
   ]
  },
  {
   "cell_type": "markdown",
   "metadata": {},
   "source": [
    "## Stimulus for screen position calibration"
   ]
  },
  {
   "cell_type": "code",
   "execution_count": 98,
   "metadata": {},
   "outputs": [],
   "source": [
    "dotSizeAng = 5 #aim for x deg dot\n",
    "\n",
    "#covnert angular dot size to pixel size and make dot\n",
    "dotRad = panHeight_px * 0.5 * 0.5 * dotSizeAng/( setalpha*180/np.pi )\n",
    "mydot = disk(radius=dotRad)\n",
    "\n",
    "dotpos_x = panWidth_px * 72./360. * np.asarray([0, 1, 2, 3, 4])\n",
    "dotpos_y = panHeight_px * np.asarray([0.2, 0.25, 0.3, 0.35, 0.4])\n",
    "\n",
    "pan = np.zeros((panWidth_px,panHeight_px),dtype=np.uint8)\n",
    "for i in range(len(dotpos_x)):\n",
    "    pan[round(dotpos_x[i]), round(dotpos_y[i])] = maxBit\n",
    "pan[round(dotpos_x[0]), round(dotpos_y[0])] = maxBit/2\n",
    "pan[:,:] = convolve2d(pan[:,:], mydot, boundary = 'wrap', mode='same')\n",
    "pan = np.minimum(maxBit, pan)"
   ]
  },
  {
   "cell_type": "code",
   "execution_count": 99,
   "metadata": {},
   "outputs": [
    {
     "data": {
      "image/png": "[encoded data removed]",
      "text/plain": [
       "<Figure size 720x88.2568 with 1 Axes>"
      ]
     },
     "metadata": {
      "needs_background": "light"
     },
     "output_type": "display_data"
    }
   ],
   "source": [
    "# make directory if it does not already exist\n",
    "Path(\"panoramas\").mkdir(parents=True, exist_ok=True)\n",
    "        \n",
    "fig = plt.figure(frameon=False)\n",
    "fig.set_size_inches(10,10*panHeight_px/panWidth_px)\n",
    "ax = plt.Axes(fig, [0., 0., 1., 1.])\n",
    "ax.set_axis_off()\n",
    "fig.add_axes(ax)\n",
    "ax.imshow(pan.T,origin='lower', cmap='Greys', vmin=0, vmax=maxBit)\n",
    "fig.savefig(\"panoramas\"+sep+\"screenMap_darkSpot.png\",dpi = dpiVal)"
   ]
  },
  {
   "cell_type": "markdown",
   "metadata": {},
   "source": [
    "## Stimulus for brightness calibration"
   ]
  },
  {
   "cell_type": "code",
   "execution_count": 120,
   "metadata": {},
   "outputs": [],
   "source": [
    "panHeight = 948 * 4\n",
    "panWidth = 584*5 * 4\n",
    "stepLevels_low = np.linspace(0,6,panHeight+1).astype('int')[:-1]*maxBit/10\n",
    "panStripe_low = np.tile(stepLevels_low, panWidth).reshape(panWidth,panHeight).astype('int')\n",
    "stepLevels_high = np.linspace(5,11,panHeight+1).astype('int')[:-1]*maxBit/10\n",
    "panStripe_high = np.tile(stepLevels_high, panWidth).reshape(panWidth,panHeight).astype('int')"
   ]
  },
  {
   "cell_type": "code",
   "execution_count": 123,
   "metadata": {},
   "outputs": [
    {
     "data": {
      "text/plain": [
       "[<matplotlib.lines.Line2D at 0x15e3b1940>]"
      ]
     },
     "execution_count": 123,
     "metadata": {},
     "output_type": "execute_result"
    },
    {
     "data": {
      "image/png": "[encoded data removed]",
      "text/plain": [
       "<Figure size 432x288 with 1 Axes>"
      ]
     },
     "metadata": {
      "needs_background": "light"
     },
     "output_type": "display_data"
    }
   ],
   "source": [
    "plt.plot(stepLevels_low)\n",
    "plt.plot(stepLevels_high)"
   ]
  },
  {
   "cell_type": "code",
   "execution_count": 125,
   "metadata": {},
   "outputs": [
    {
     "data": {
      "image/png": "[encoded data removed]",
      "text/plain": [
       "<Figure size 720x233.753 with 1 Axes>"
      ]
     },
     "metadata": {
      "needs_background": "light"
     },
     "output_type": "display_data"
    },
    {
     "data": {
      "image/png": "[encoded data removed]",
      "text/plain": [
       "<Figure size 720x233.753 with 1 Axes>"
      ]
     },
     "metadata": {
      "needs_background": "light"
     },
     "output_type": "display_data"
    }
   ],
   "source": [
    "# make directory if it does not already exist\n",
    "Path(\"calibration\").mkdir(parents=True, exist_ok=True)\n",
    "\n",
    "fig = plt.figure(frameon=False)\n",
    "fig.set_size_inches(10,10*panHeight/panWidth)\n",
    "ax = plt.Axes(fig, [0., 0., 1., 1.])\n",
    "ax.set_axis_off()\n",
    "fig.add_axes(ax)\n",
    "ax.imshow(panStripe_high.T,origin='lower', cmap='Greys', vmin=0, vmax=maxBit)\n",
    "fig.savefig(\"calibration\"+sep+\"BrightnessSteps_high.png\",dpi = dpiVal)\n",
    "\n",
    "fig = plt.figure(frameon=False)\n",
    "fig.set_size_inches(10,10*panHeight/panWidth)\n",
    "ax = plt.Axes(fig, [0., 0., 1., 1.])\n",
    "ax.set_axis_off()\n",
    "fig.add_axes(ax)\n",
    "ax.imshow(panStripe_low.T,origin='lower', cmap='Greys', vmin=0, vmax=maxBit)\n",
    "fig.savefig(\"calibration\"+sep+\"BrightnessSteps_low.png\",dpi = dpiVal)"
   ]
  },
  {
   "cell_type": "markdown",
   "metadata": {},
   "source": [
    "## Stimuli for receptive field mapping"
   ]
  },
  {
   "cell_type": "code",
   "execution_count": 8,
   "metadata": {},
   "outputs": [],
   "source": [
    "dotSizeAng = 5 #aim for x deg dot\n",
    "\n",
    "#covnert angular dot size to pixel size and make dot\n",
    "dotRad = panHeight_px * 0.5 * 0.5 * dotSizeAng/( setalpha*180/np.pi )\n",
    "mydot = disk(radius=dotRad)\n",
    "\n",
    "dotpos_x = 0\n",
    "dotpos_y = int(0-dotRad)\n",
    "\n",
    "pan = np.zeros((panWidth_px,panHeight_px),dtype=np.uint8)\n",
    "pan[dotpos_x, dotpos_y] = maxBit\n",
    "pan[:,:] = convolve2d(pan[:,:], mydot, boundary = 'wrap', mode='same')\n",
    "\n",
    "pan = np.minimum(maxBit, pan)"
   ]
  },
  {
   "cell_type": "code",
   "execution_count": 9,
   "metadata": {},
   "outputs": [],
   "source": [
    "darkSpot = pan[:,:]\n",
    "brightSpot = abs(maxBit - darkSpot)"
   ]
  },
  {
   "cell_type": "code",
   "execution_count": 10,
   "metadata": {},
   "outputs": [
    {
     "data": {
      "image/png": "[encoded data removed]",
      "text/plain": [
       "<Figure size 720x88.2568 with 1 Axes>"
      ]
     },
     "metadata": {
      "needs_background": "light"
     },
     "output_type": "display_data"
    },
    {
     "data": {
      "image/png": "[encoded data removed]",
      "text/plain": [
       "<Figure size 720x88.2568 with 1 Axes>"
      ]
     },
     "metadata": {
      "needs_background": "light"
     },
     "output_type": "display_data"
    }
   ],
   "source": [
    "# make directory if it does not already exist\n",
    "Path(\"panoramas\").mkdir(parents=True, exist_ok=True)\n",
    "        \n",
    "fig = plt.figure(frameon=False)\n",
    "fig.set_size_inches(10,10*panHeight_px/panWidth_px)\n",
    "ax = plt.Axes(fig, [0., 0., 1., 1.])\n",
    "ax.set_axis_off()\n",
    "fig.add_axes(ax)\n",
    "ax.imshow(darkSpot.T,origin='lower', cmap='Greys', vmin=0, vmax=maxBit)\n",
    "fig.savefig(\"panoramas\"+sep+\"RF1_darkSpot.png\",dpi = dpiVal)\n",
    "\n",
    "fig = plt.figure(frameon=False)\n",
    "fig.set_size_inches(10,10*panHeight_px/panWidth_px)\n",
    "ax = plt.Axes(fig, [0., 0., 1., 1.])\n",
    "ax.set_axis_off()\n",
    "fig.add_axes(ax)\n",
    "ax.imshow(brightSpot.T,origin='lower', cmap='Greys', vmin=0, vmax=maxBit)\n",
    "\n",
    "fig.savefig(\"panoramas\"+sep+\"RF2_brightSpot.png\", dpi = dpiVal)"
   ]
  },
  {
   "cell_type": "markdown",
   "metadata": {},
   "source": [
    "## Stimuli with clear orientation information\n",
    "Vary just the brightness and test on vs. off features\n",
    "### (1) Generate a sun spot and the inverse image "
   ]
  },
  {
   "cell_type": "code",
   "execution_count": 11,
   "metadata": {},
   "outputs": [],
   "source": [
    "dotSizeAng = 12 #aim for x deg dot\n",
    "\n",
    "#covnert angular dot size to pixel size and make dot\n",
    "dotRad = panHeight_px * 0.5 * 0.5 * dotSizeAng/( setalpha*180/np.pi )\n",
    "mydot = disk(radius=dotRad)\n",
    "\n",
    "dotpos_x = round(panWidth_px/2)\n",
    "dotpos_y = round((panHeight_px + dotRad)/2)\n",
    "\n",
    "pan = np.zeros((panWidth_px,panHeight_px),dtype=np.uint8)\n",
    "pan[dotpos_x, dotpos_y] = maxBit\n",
    "pan[:,:] = convolve2d(pan[:,:], mydot, boundary = 'wrap', mode='same')\n",
    "\n",
    "pan = np.minimum(maxBit, pan)"
   ]
  },
  {
   "cell_type": "code",
   "execution_count": 12,
   "metadata": {},
   "outputs": [],
   "source": [
    "darkSpot = pan[:,:]\n",
    "brightSpot = abs(maxBit - darkSpot)"
   ]
  },
  {
   "cell_type": "code",
   "execution_count": 13,
   "metadata": {},
   "outputs": [
    {
     "data": {
      "image/png": "[encoded data removed]",
      "text/plain": [
       "<Figure size 720x88.2568 with 1 Axes>"
      ]
     },
     "metadata": {
      "needs_background": "light"
     },
     "output_type": "display_data"
    },
    {
     "data": {
      "image/png": "[encoded data removed]",
      "text/plain": [
       "<Figure size 720x88.2568 with 1 Axes>"
      ]
     },
     "metadata": {
      "needs_background": "light"
     },
     "output_type": "display_data"
    }
   ],
   "source": [
    "fig = plt.figure(frameon=False)\n",
    "fig.set_size_inches(10,10*panHeight_px/panWidth_px)\n",
    "ax = plt.Axes(fig, [0., 0., 1., 1.])\n",
    "ax.set_axis_off()\n",
    "fig.add_axes(ax)\n",
    "ax.imshow(darkSpot.T,origin='lower', cmap='Greys', vmin=0, vmax=maxBit)\n",
    "fig.savefig(\"panoramas\"+sep+\"A1_darkSpot.png\",dpi = dpiVal)\n",
    "\n",
    "fig = plt.figure(frameon=False)\n",
    "fig.set_size_inches(10,10*panHeight_px/panWidth_px)\n",
    "ax = plt.Axes(fig, [0., 0., 1., 1.])\n",
    "ax.set_axis_off()\n",
    "fig.add_axes(ax)\n",
    "ax.imshow(brightSpot.T,origin='lower', cmap='Greys', vmin=0, vmax=maxBit)\n",
    "fig.savefig(\"panoramas\"+sep+\"A2_brightSpot.png\", dpi = dpiVal)"
   ]
  },
  {
   "cell_type": "markdown",
   "metadata": {},
   "source": [
    "#### Generate two sun panoramas with matching overall brightness but opposide contrast"
   ]
  },
  {
   "cell_type": "code",
   "execution_count": 14,
   "metadata": {},
   "outputs": [],
   "source": [
    "panOn = darkSpot\n",
    "panOff = maxBit-panOn\n",
    "panOn = np.minimum(maxBit, panOn)\n",
    "panOff = np.minimum(maxBit, panOff)\n",
    "\n",
    "dotRatio = np.sum(panOn/maxBit)/(panWidth_px*panHeight_px)\n",
    "panOn_shift = panOn/2 + (0.5-dotRatio*0.5)*maxBit\n",
    "panOff_shift = panOff/2"
   ]
  },
  {
   "cell_type": "code",
   "execution_count": 15,
   "metadata": {},
   "outputs": [
    {
     "data": {
      "image/png": "[encoded data removed]",
      "text/plain": [
       "<Figure size 720x88.2568 with 1 Axes>"
      ]
     },
     "metadata": {
      "needs_background": "light"
     },
     "output_type": "display_data"
    },
    {
     "data": {
      "image/png": "[encoded data removed]",
      "text/plain": [
       "<Figure size 720x88.2568 with 1 Axes>"
      ]
     },
     "metadata": {
      "needs_background": "light"
     },
     "output_type": "display_data"
    }
   ],
   "source": [
    "fig = plt.figure(frameon=False)\n",
    "fig.set_size_inches(10,10*panHeight_px/panWidth_px)\n",
    "ax = plt.Axes(fig, [0., 0., 1., 1.])\n",
    "ax.set_axis_off()\n",
    "fig.add_axes(ax)\n",
    "ax.imshow(panOn_shift.T,origin='lower', cmap='Greys', vmin=0, vmax=maxBit)\n",
    "fig.savefig(\"panoramas\"+sep+\"B1_darkOnGrey.png\",dpi = dpiVal)\n",
    "\n",
    "fig = plt.figure(frameon=False)\n",
    "fig.set_size_inches(10,10*panHeight_px/panWidth_px)\n",
    "ax = plt.Axes(fig, [0., 0., 1., 1.])\n",
    "ax.set_axis_off()\n",
    "fig.add_axes(ax)\n",
    "ax.imshow(panOff_shift.T,origin='lower', cmap='Greys', vmin=0, vmax=maxBit)\n",
    "fig.savefig(\"panoramas\"+sep+\"B2_brightOnGrey.png\", dpi = dpiVal)"
   ]
  },
  {
   "cell_type": "code",
   "execution_count": 16,
   "metadata": {},
   "outputs": [
    {
     "name": "stdout",
     "output_type": "stream",
     "text": [
      "3486615\n",
      "440539275\n",
      "1.0079144248830072\n"
     ]
    }
   ],
   "source": [
    "print(np.sum(panOn))\n",
    "print(np.sum(panOff))\n",
    "\n",
    "print(np.sum(panOn_shift)/np.sum(panOff_shift))"
   ]
  },
  {
   "cell_type": "markdown",
   "metadata": {},
   "source": [
    "**Follow up stimulus with darker grey background**"
   ]
  },
  {
   "cell_type": "code",
   "execution_count": 17,
   "metadata": {},
   "outputs": [],
   "source": [
    "panOn_dark = panOn_shift + 0.2*maxBit\n",
    "panOff_dark = panOff_shift + 0.2*maxBit\n",
    "panOn_dark = np.minimum(maxBit, panOn_dark)\n",
    "panOff_dark[panOff_dark < 0.5*maxBit] = np.median(panOn_dark) - (maxBit - np.median(panOn_dark))"
   ]
  },
  {
   "cell_type": "code",
   "execution_count": 18,
   "metadata": {},
   "outputs": [
    {
     "data": {
      "image/png": "[encoded data removed]",
      "text/plain": [
       "<Figure size 720x88.2568 with 1 Axes>"
      ]
     },
     "metadata": {
      "needs_background": "light"
     },
     "output_type": "display_data"
    },
    {
     "data": {
      "image/png": "[encoded data removed]",
      "text/plain": [
       "<Figure size 720x88.2568 with 1 Axes>"
      ]
     },
     "metadata": {
      "needs_background": "light"
     },
     "output_type": "display_data"
    }
   ],
   "source": [
    "fig = plt.figure(frameon=False)\n",
    "fig.set_size_inches(10,10*panHeight_px/panWidth_px)\n",
    "ax = plt.Axes(fig, [0., 0., 1., 1.])\n",
    "ax.set_axis_off()\n",
    "fig.add_axes(ax)\n",
    "ax.imshow(panOn_dark.T,origin='lower', cmap='Greys', vmin=0, vmax=maxBit)\n",
    "fig.savefig(\"panoramas\"+sep+\"B1d_darkOnDarkGrey.png\",dpi = dpiVal)\n",
    "\n",
    "fig = plt.figure(frameon=False)\n",
    "fig.set_size_inches(10,10*panHeight_px/panWidth_px)\n",
    "ax = plt.Axes(fig, [0., 0., 1., 1.])\n",
    "ax.set_axis_off()\n",
    "fig.add_axes(ax)\n",
    "ax.imshow(panOff_dark.T,origin='lower', cmap='Greys', vmin=0, vmax=maxBit)\n",
    "fig.savefig(\"panoramas\"+sep+\"B2d_brightOnDarkGrey.png\", dpi = dpiVal)"
   ]
  },
  {
   "cell_type": "code",
   "execution_count": 19,
   "metadata": {},
   "outputs": [
    {
     "name": "stdout",
     "output_type": "stream",
     "text": [
      "1.001258224054573\n"
     ]
    }
   ],
   "source": [
    "print(np.sum(panOn_dark)/np.sum(panOff_dark))"
   ]
  },
  {
   "cell_type": "code",
   "execution_count": 30,
   "metadata": {},
   "outputs": [
    {
     "data": {
      "image/png": "[encoded data removed]",
      "text/plain": [
       "<Figure size 576x288 with 2 Axes>"
      ]
     },
     "metadata": {
      "needs_background": "light"
     },
     "output_type": "display_data"
    }
   ],
   "source": [
    "fig, axs = plt.subplots(1,2,figsize=(8,4))\n",
    "\n",
    "axs[0].plot(panOn_shift.T[dotpos_y,:], label='Bright spot')\n",
    "axs[0].plot(panOff_shift.T[dotpos_y,:], label='Dark spot')\n",
    "axs[0].set_title('Light and Dark on mid-range gray')\n",
    "\n",
    "axs[1].plot(panOn_dark.T[dotpos_y,:], label='Bright spot')\n",
    "axs[1].plot(panOff_dark.T[dotpos_y,:], label='Dark spot')\n",
    "axs[1].set_title('Light and Dark on dark gray')\n",
    "\n",
    "for ax in axs:\n",
    "    ax.set_ylim((0,maxBit))\n",
    "    ax.set_xlabel('Panorama width [px]')\n",
    "    ax.legend()\n",
    "axs[0].set_ylabel('Bit range  (0-white, {}-black)'.format(maxBit));\n",
    "fig.tight_layout()"
   ]
  },
  {
   "cell_type": "markdown",
   "metadata": {},
   "source": [
    "### (2) Generate a gradient"
   ]
  },
  {
   "cell_type": "code",
   "execution_count": 60,
   "metadata": {},
   "outputs": [],
   "source": [
    "panGrad = np.tile( (np.sin(np.linspace(0,np.pi*2,panWidth_px)) + 1)*maxBit/2 ,panHeight_px).reshape(panHeight_px,panWidth_px)\n",
    "panGradLow = np.tile( (np.sin(np.linspace(0,np.pi*2,panWidth_px)) + 2)*maxBit/4 ,panHeight_px).reshape(panHeight_px,panWidth_px)\n",
    "panGradVeryLow = np.tile( (np.sin(np.linspace(0,np.pi*2,panWidth_px)) + 4)*maxBit/8 ,panHeight_px).reshape(panHeight_px,panWidth_px)\n",
    "\n",
    "panGradLowBright = np.tile( (np.sin(np.linspace(0,np.pi*2,panWidth_px)) + 2)*maxBit/4 + maxBit/4 ,panHeight_px).reshape(panHeight_px,panWidth_px)\n",
    "panGradVeryLowBright = np.tile( (np.sin(np.linspace(0,np.pi*2,panWidth_px)) + 4)*maxBit/8 + 3*maxBit/8 ,panHeight_px).reshape(panHeight_px,panWidth_px)"
   ]
  },
  {
   "cell_type": "code",
   "execution_count": 61,
   "metadata": {},
   "outputs": [
    {
     "data": {
      "image/png": "[encoded data removed]",
      "text/plain": [
       "<Figure size 720x88.2568 with 1 Axes>"
      ]
     },
     "metadata": {
      "needs_background": "light"
     },
     "output_type": "display_data"
    },
    {
     "data": {
      "image/png": "[encoded data removed]",
      "text/plain": [
       "<Figure size 720x88.2568 with 1 Axes>"
      ]
     },
     "metadata": {
      "needs_background": "light"
     },
     "output_type": "display_data"
    },
    {
     "data": {
      "image/png": "[encoded data removed]",
      "text/plain": [
       "<Figure size 720x88.2568 with 1 Axes>"
      ]
     },
     "metadata": {
      "needs_background": "light"
     },
     "output_type": "display_data"
    },
    {
     "data": {
      "image/png": "[encoded data removed]",
      "text/plain": [
       "<Figure size 720x88.2568 with 1 Axes>"
      ]
     },
     "metadata": {
      "needs_background": "light"
     },
     "output_type": "display_data"
    },
    {
     "data": {
      "image/png": "[encoded data removed]",
      "text/plain": [
       "<Figure size 720x88.2568 with 1 Axes>"
      ]
     },
     "metadata": {
      "needs_background": "light"
     },
     "output_type": "display_data"
    }
   ],
   "source": [
    "fig = plt.figure(frameon=False)\n",
    "fig.set_size_inches(10,10*panHeight_px/panWidth_px)\n",
    "ax = plt.Axes(fig, [0., 0., 1., 1.])\n",
    "ax.set_axis_off()\n",
    "fig.add_axes(ax)\n",
    "ax.imshow(panGrad,origin='lower', cmap='Greys_r', vmin=0, vmax=maxBit)\n",
    "fig.savefig(\"panoramas\"+sep+\"C1_gradient.png\",dpi = dpiVal)\n",
    "\n",
    "fig = plt.figure(frameon=False)\n",
    "fig.set_size_inches(10,10*panHeight_px/panWidth_px)\n",
    "ax = plt.Axes(fig, [0., 0., 1., 1.])\n",
    "ax.set_axis_off()\n",
    "fig.add_axes(ax)\n",
    "ax.imshow(panGradLow,origin='lower', cmap='Greys_r', vmin=0, vmax=maxBit)\n",
    "fig.savefig(\"panoramas\"+sep+\"C2_gradientLow.png\",dpi = dpiVal)\n",
    "\n",
    "fig = plt.figure(frameon=False)\n",
    "fig.set_size_inches(10,10*panHeight_px/panWidth_px)\n",
    "ax = plt.Axes(fig, [0., 0., 1., 1.])\n",
    "ax.set_axis_off()\n",
    "fig.add_axes(ax)\n",
    "ax.imshow(panGradVeryLow,origin='lower', cmap='Greys_r', vmin=0, vmax=maxBit)\n",
    "fig.savefig(\"panoramas\"+sep+\"C3_gradientVeryLow.png\",dpi = dpiVal)\n",
    "\n",
    "fig = plt.figure(frameon=False)\n",
    "fig.set_size_inches(10,10*panHeight_px/panWidth_px)\n",
    "ax = plt.Axes(fig, [0., 0., 1., 1.])\n",
    "ax.set_axis_off()\n",
    "fig.add_axes(ax)\n",
    "ax.imshow(panGradLowBright.astype('int'),origin='lower', cmap='Greys_r', vmin=0, vmax=maxBit)\n",
    "fig.savefig(\"panoramas\"+sep+\"C4_gradientLowBright.png\",dpi = dpiVal)\n",
    "\n",
    "fig = plt.figure(frameon=False)\n",
    "fig.set_size_inches(10,10*panHeight_px/panWidth_px)\n",
    "ax = plt.Axes(fig, [0., 0., 1., 1.])\n",
    "ax.set_axis_off()\n",
    "fig.add_axes(ax)\n",
    "ax.imshow(panGradVeryLowBright,origin='lower', cmap='Greys_r', vmin=0, vmax=maxBit)\n",
    "fig.savefig(\"panoramas\"+sep+\"C5_gradientVeryLowBright.png\",dpi = dpiVal)"
   ]
  },
  {
   "cell_type": "code",
   "execution_count": 62,
   "metadata": {},
   "outputs": [
    {
     "data": {
      "image/png": "[encoded data removed]",
      "text/plain": [
       "<Figure size 360x288 with 1 Axes>"
      ]
     },
     "metadata": {
      "needs_background": "light"
     },
     "output_type": "display_data"
    }
   ],
   "source": [
    "fig, axs = plt.subplots(1,1,figsize=(5,4))\n",
    "axs.plot(panGrad[0,:], label='gradient')\n",
    "axs.plot(panGradLow[0,:], label='gradientLow')\n",
    "axs.plot(panGradVeryLow[0,:], label='gradientVeryLow')\n",
    "axs.plot(panGradLowBright[0,:], label='gradientLowBright')\n",
    "axs.plot(panGradVeryLowBright[0,:], label='gradientVeryLowBright')\n",
    "axs.set_title('Gradients of varying depth')\n",
    "axs.set_ylim((0,maxBit))\n",
    "axs.set_xlabel('Panorama width [px]')\n",
    "axs.set_ylabel('Bit range  (0-white, {}-black)'.format(maxBit));\n",
    "axs.legend()\n",
    "fig.tight_layout()"
   ]
  },
  {
   "cell_type": "code",
   "execution_count": null,
   "metadata": {},
   "outputs": [],
   "source": []
  },
  {
   "cell_type": "code",
   "execution_count": null,
   "metadata": {},
   "outputs": [],
   "source": []
  },
  {
   "cell_type": "code",
   "execution_count": null,
   "metadata": {},
   "outputs": [],
   "source": []
  },
  {
   "cell_type": "markdown",
   "metadata": {},
   "source": [
    "## Test effect of feature size"
   ]
  },
  {
   "cell_type": "code",
   "execution_count": 42,
   "metadata": {},
   "outputs": [],
   "source": [
    "kappa = 1.2 #shape parameter for von mieses\n",
    "elevationrange = 40\n",
    "\n",
    "numDots = [0,4,24]\n",
    "dotSizeAng = 20 #aim for x deg dot\n",
    "\n",
    "#covnert angular dot size to pixel size and make dot\n",
    "dotRad = round(dotSizeAng/360 * panWidth_px * 1/2 )\n",
    "mydot = disk(radius=dotRad)"
   ]
  },
  {
   "cell_type": "code",
   "execution_count": 41,
   "metadata": {},
   "outputs": [],
   "source": [
    "dotpos = []\n",
    "for cond, n in enumerate(numDots):\n",
    "    # place one dot at center:\n",
    "    pan[round(panWidth_px/2), round(panHeight_px/2), cond] = maxBit\n",
    "    \n",
    "    dotpos_x = ((vonmises.rvs(kappa, size=n) + np.pi) * panWidth_px/(2*np.pi)).astype('int')\n",
    "    dotpos_y = (np.random.uniform(0.5-elevationrange/360,0.5+elevationrange/360, n) * \n",
    "                panHeight_px).astype('int')\n",
    "    for c in range(numDots[cond]):\n",
    "        pan[dotpos_x[c], dotpos_y[c], cond] = maxBit\n",
    "    \n",
    "    if n > 0:\n",
    "        dotpos.append([ np.hstack((round(panWidth_px/2),dotpos_x)), \n",
    "                                    np.hstack((round(panHeight_px/2),dotpos_y)) ] )\n",
    "    else:\n",
    "        dotpos.append([round(panWidth_px/2),round(panHeight_px/2)])"
   ]
  },
  {
   "cell_type": "code",
   "execution_count": null,
   "metadata": {},
   "outputs": [],
   "source": []
  },
  {
   "cell_type": "code",
   "execution_count": 55,
   "metadata": {},
   "outputs": [
    {
     "data": {
      "text/plain": [
       "array([ 4, 19, 99])"
      ]
     },
     "execution_count": 55,
     "metadata": {},
     "output_type": "execute_result"
    }
   ],
   "source": [
    "numDots"
   ]
  },
  {
   "cell_type": "code",
   "execution_count": 58,
   "metadata": {},
   "outputs": [
    {
     "data": {
      "image/png": "[encoded data removed]",
      "text/plain": [
       "<Figure size 720x432 with 6 Axes>"
      ]
     },
     "metadata": {
      "needs_background": "light"
     },
     "output_type": "display_data"
    }
   ],
   "source": [
    "pan = np.zeros((panWidth_px,panHeight_px,len(numDots)),dtype=np.uint8)\n",
    "panPlot = np.minimum(maxBit, pan)\n",
    "panCorr = np.zeros((panWidth_px,panHeight_px,len(numDots)))\n",
    "\n",
    "fig, axs = plt.subplots(len(numDots),2, figsize=(10,6))\n",
    "\n",
    "for cond, n in enumerate(numDots):\n",
    "    # place one dot at center:\n",
    "    pan[round(panWidth_px/2), round(panHeight_px/2), cond] = maxBit\n",
    "    \n",
    "    dotpos_x = dotpos[cond][0]\n",
    "    dotpos_y = dotpos[cond][1]\n",
    "    for c in range(numDots[cond]):\n",
    "        pan[dotpos_x[c], dotpos_y[c], cond] = maxBit\n",
    "    pan[:,:,cond] = convolve2d(pan[:,:,cond], mydot, boundary = 'wrap', mode='same')\n",
    "    \n",
    "    panPlot_zsc = zscore(panPlot[:,:,cond].astype('float'), axis=None)\n",
    "    panCorr[:,:,cond] = correlate(panPlot_zsc, panPlot_zsc, mode='same')\n",
    "    axs[cond,0].imshow(panPlot[:,:,cond].T,origin='lower', cmap='Greys', vmin=0, vmax=maxBit)\n",
    "    axs[cond,1].imshow(panCorr[:,:,cond].T,origin='lower', cmap='Greys')\n",
    "    for ax in axs[cond,:]: ax.axis('off')\n",
    "fig.tight_layout()"
   ]
  },
  {
   "cell_type": "code",
   "execution_count": null,
   "metadata": {},
   "outputs": [],
   "source": [
    "smalldotSizeAng/dotSizeAng"
   ]
  },
  {
   "cell_type": "code",
   "execution_count": null,
   "metadata": {},
   "outputs": [],
   "source": [
    "numSubDots = (np.asarray([1,4.75,24.75])*4).astype('int')\n",
    "numSubDots"
   ]
  },
  {
   "cell_type": "code",
   "execution_count": 48,
   "metadata": {},
   "outputs": [
    {
     "ename": "TypeError",
     "evalue": "'int' object is not subscriptable",
     "output_type": "error",
     "traceback": [
      "\u001b[0;31m---------------------------------------------------------------------------\u001b[0m",
      "\u001b[0;31mTypeError\u001b[0m                                 Traceback (most recent call last)",
      "\u001b[0;32m<ipython-input-48-e8d8e98e33cd>\u001b[0m in \u001b[0;36m<module>\u001b[0;34m\u001b[0m\n\u001b[1;32m     19\u001b[0m     \u001b[0mdotpos_y\u001b[0m \u001b[0;34m=\u001b[0m \u001b[0mdotpos\u001b[0m\u001b[0;34m[\u001b[0m\u001b[0mcond\u001b[0m\u001b[0;34m]\u001b[0m\u001b[0;34m[\u001b[0m\u001b[0;36m1\u001b[0m\u001b[0;34m]\u001b[0m\u001b[0;34m\u001b[0m\u001b[0;34m\u001b[0m\u001b[0m\n\u001b[1;32m     20\u001b[0m     \u001b[0;32mfor\u001b[0m \u001b[0mc\u001b[0m \u001b[0;32min\u001b[0m \u001b[0mrange\u001b[0m\u001b[0;34m(\u001b[0m\u001b[0mnumDots\u001b[0m\u001b[0;34m[\u001b[0m\u001b[0mcond\u001b[0m\u001b[0;34m]\u001b[0m\u001b[0;34m)\u001b[0m\u001b[0;34m:\u001b[0m\u001b[0;34m\u001b[0m\u001b[0;34m\u001b[0m\u001b[0m\n\u001b[0;32m---> 21\u001b[0;31m         \u001b[0mpan2\u001b[0m\u001b[0;34m[\u001b[0m\u001b[0mdotpos_x\u001b[0m\u001b[0;34m[\u001b[0m\u001b[0mc\u001b[0m\u001b[0;34m]\u001b[0m\u001b[0;34m,\u001b[0m \u001b[0mdotpos_y\u001b[0m\u001b[0;34m[\u001b[0m\u001b[0mc\u001b[0m\u001b[0;34m]\u001b[0m\u001b[0;34m,\u001b[0m \u001b[0mcond\u001b[0m\u001b[0;34m]\u001b[0m \u001b[0;34m=\u001b[0m \u001b[0mmaxBit\u001b[0m\u001b[0;34m\u001b[0m\u001b[0;34m\u001b[0m\u001b[0m\n\u001b[0m\u001b[1;32m     22\u001b[0m     \u001b[0mpan2\u001b[0m\u001b[0;34m[\u001b[0m\u001b[0;34m:\u001b[0m\u001b[0;34m,\u001b[0m\u001b[0;34m:\u001b[0m\u001b[0;34m,\u001b[0m\u001b[0mcond\u001b[0m\u001b[0;34m]\u001b[0m \u001b[0;34m=\u001b[0m \u001b[0mconvolve2d\u001b[0m\u001b[0;34m(\u001b[0m\u001b[0mpan\u001b[0m\u001b[0;34m[\u001b[0m\u001b[0;34m:\u001b[0m\u001b[0;34m,\u001b[0m\u001b[0;34m:\u001b[0m\u001b[0;34m,\u001b[0m\u001b[0mcond\u001b[0m\u001b[0;34m]\u001b[0m\u001b[0;34m,\u001b[0m \u001b[0mmydot\u001b[0m\u001b[0;34m,\u001b[0m \u001b[0mboundary\u001b[0m \u001b[0;34m=\u001b[0m \u001b[0;34m'wrap'\u001b[0m\u001b[0;34m,\u001b[0m \u001b[0mmode\u001b[0m\u001b[0;34m=\u001b[0m\u001b[0;34m'same'\u001b[0m\u001b[0;34m)\u001b[0m\u001b[0;34m\u001b[0m\u001b[0;34m\u001b[0m\u001b[0m\n\u001b[1;32m     23\u001b[0m \u001b[0;34m\u001b[0m\u001b[0m\n",
      "\u001b[0;31mTypeError\u001b[0m: 'int' object is not subscriptable"
     ]
    },
    {
     "data": {
      "image/png": "[encoded data removed]",
      "text/plain": [
       "<Figure size 720x432 with 6 Axes>"
      ]
     },
     "metadata": {
      "needs_background": "light"
     },
     "output_type": "display_data"
    }
   ],
   "source": [
    "smalldotSizeAng = 5 \n",
    "numSubDots = (np.asarray([1,4.75,24.75])*4).astype('int')\n",
    "\n",
    "#covnert angular dot size to pixel size and make dot\n",
    "dotRad = round(dotSizeAng/360 * panWidth_px * 1/2 )\n",
    "mydot = disk(radius=dotRad)\n",
    "\n",
    "pan2 = np.zeros((panWidth_px,panHeight_px,len(numDots)),dtype=np.uint8)\n",
    "pan2Plot = np.minimum(maxBit, pan)\n",
    "pan2Corr = np.zeros((panWidth_px,panHeight_px,len(numDots)))\n",
    "\n",
    "fig, axs = plt.subplots(len(numDots),2, figsize=(10,6))\n",
    "\n",
    "for cond, n in enumerate(numDots):\n",
    "    # place one dot at center:\n",
    "    pan2[round(panWidth_px/2), round(panHeight_px/2), cond] = maxBit\n",
    "    \n",
    "    dotpos_x = dotpos[cond][0]\n",
    "    dotpos_y = dotpos[cond][1]\n",
    "    for c in range(numDots[cond]):\n",
    "        pan2[dotpos_x[c], dotpos_y[c], cond] = maxBit\n",
    "    pan2[:,:,cond] = convolve2d(pan[:,:,cond], mydot, boundary = 'wrap', mode='same')\n",
    "    \n",
    "    pan2Plot_zsc = zscore(pan2Plot[:,:,cond].astype('float'), axis=None)\n",
    "    pan2Corr[:,:,cond] = correlate(pan2Plot_zsc, pan2Plot_zsc, mode='same')\n",
    "    axs[cond,0].imshow(pan2Plot[:,:,cond].T,origin='lower', cmap='Greys', vmin=0, vmax=maxBit)\n",
    "    axs[cond,1].imshow(pan2Corr[:,:,cond].T,origin='lower', cmap='Greys')\n",
    "    for ax in axs[cond,:]: ax.axis('off')\n",
    "\n",
    "fig.tight_layout()   "
   ]
  },
  {
   "cell_type": "code",
   "execution_count": 44,
   "metadata": {},
   "outputs": [
    {
     "name": "stdout",
     "output_type": "stream",
     "text": [
      "1\n",
      "xpos = 1200\n",
      "ypos = 400\n",
      "...\n",
      "5\n",
      "xpos = [1200 1318  815 1615 1031]\n",
      "ypos = [400 459 342 353 340]\n",
      "...\n",
      "25\n",
      "xpos = [1200 1208 1456  832 1998 1399 1640 1209 1285 1103 1113 1830  705  827\n",
      "  390 1355 1361  635  977 1474 1698 2341  683 2080 1495]\n",
      "ypos = [400 325 452 417 466 453 382 335 358 311 427 326 342 354 383 433 390 400\n",
      " 327 371 347 442 314 420 435]\n",
      "...\n"
     ]
    }
   ],
   "source": [
    "for cond, n in enumerate(numDots):\n",
    "    print(n+1)\n",
    "    \n",
    "    print('xpos = {}'.format(dotpos[cond][0]))\n",
    "    print('ypos = {}'.format(dotpos[cond][1]))\n",
    "    \n",
    "    print(\"...\")"
   ]
  },
  {
   "cell_type": "code",
   "execution_count": null,
   "metadata": {},
   "outputs": [],
   "source": []
  },
  {
   "cell_type": "code",
   "execution_count": null,
   "metadata": {},
   "outputs": [],
   "source": []
  },
  {
   "cell_type": "code",
   "execution_count": null,
   "metadata": {},
   "outputs": [],
   "source": []
  },
  {
   "cell_type": "code",
   "execution_count": null,
   "metadata": {},
   "outputs": [],
   "source": [
    "numDots = [0,4,49]\n",
    "\n",
    "kappa = 1.2 #shape parameter for von mieses\n",
    "\n",
    "elevationrange = 40\n",
    "\n",
    "#covnert angular dot size to pixel size and make dot\n",
    "dotRad = round(dotSizeAng/360 * panWidth_px * 1/2 )\n",
    "mydot = disk(radius=dotRad)\n",
    "\n",
    "pan = np.zeros((panWidth_px,panHeight_px,len(numDots)),dtype=np.uint8)\n",
    "\n",
    "for cond, n in enumerate(numDots):\n",
    "    # place one dot at center:\n",
    "    pan[round(panWidth_px/2), round(panHeight_px/2), cond] = maxBit\n",
    "    \n",
    "    dotpos_x = ((vonmises.rvs(kappa, size=n) + np.pi) * panWidth_px/(2*np.pi)).astype('int')\n",
    "    dotpos_y = (np.random.uniform(0.5-elevationrange/360,0.5+elevationrange/360, n) * panHeight_px).astype('int')\n",
    "    for c in range(numDots[cond]):\n",
    "        pan[dotpos_x[c], dotpos_y[c], cond] = maxBit\n",
    "    pan[:,:,cond] = convolve2d(pan[:,:,cond], mydot, boundary = 'wrap', mode='same')"
   ]
  },
  {
   "cell_type": "code",
   "execution_count": null,
   "metadata": {},
   "outputs": [],
   "source": [
    "panPlot = np.minimum(maxBit, pan)\n",
    "panCorr = np.zeros((panWidth_px,panHeight_px,len(numDots)))\n",
    "\n",
    "fig, axs = plt.subplots(len(numDots),2, figsize=(10,6))\n",
    "\n",
    "for cond, n in enumerate(numDots):\n",
    "    panPlot_zsc = zscore(panPlot[:,:,cond].astype('float'), axis=None)\n",
    "    panCorr[:,:,cond] = correlate(panPlot_zsc, panPlot_zsc, mode='same')\n",
    "    axs[cond,0].imshow(panPlot[:,:,cond].T,origin='lower', cmap='Greys', vmin=0, vmax=maxBit)\n",
    "    axs[cond,1].imshow(panCorr[:,:,cond].T,origin='lower', cmap='Greys')\n",
    "    \n",
    "fig.tight_layout()"
   ]
  },
  {
   "cell_type": "code",
   "execution_count": null,
   "metadata": {},
   "outputs": [],
   "source": [
    "fig, axs = plt.subplots(1,1,figsize=(6,5))\n",
    "for cond, n in enumerate(numDots):\n",
    "    axs.plot(np.sum(panCorr[:,:,cond], axis=1), label='{} dots'.format(n+1))\n",
    "axs.legend()"
   ]
  }
 ],
 "metadata": {
  "kernelspec": {
   "display_name": "Python 3",
   "language": "python",
   "name": "python3"
  },
  "language_info": {
   "codemirror_mode": {
    "name": "ipython",
    "version": 3
   },
   "file_extension": ".py",
   "mimetype": "text/x-python",
   "name": "python",
   "nbconvert_exporter": "python",
   "pygments_lexer": "ipython3",
   "version": "3.8.6"
  }
 },
 "nbformat": 4,
 "nbformat_minor": 4
}
