{
 "cells": [
  {
   "cell_type": "markdown",
   "id": "3f66a01b-81ce-4ed2-8d69-d913aea6ae47",
   "metadata": {},
   "source": [
    "# Rescale Images based on Projector Greyscale Transfer Function"
   ]
  },
  {
   "cell_type": "code",
   "execution_count": 1,
   "id": "6e699d5d-4480-4266-98dd-9312110ed6d2",
   "metadata": {},
   "outputs": [],
   "source": [
    "import numpy as np\n",
    "import matplotlib.pyplot as plt\n",
    "import pandas as pd\n",
    "import scipy as sp\n",
    "import seaborn as sns; sns.set()"
   ]
  },
  {
   "cell_type": "markdown",
   "id": "d7c31167-3250-4f34-9e7f-b2cf209c9d5e",
   "metadata": {},
   "source": [
    "Specify measured screen brightness as a function of the stimulus no. from 1-11. "
   ]
  },
  {
   "cell_type": "code",
   "execution_count": 2,
   "id": "0c00e0ce-0f72-4f7f-bf69-555452297554",
   "metadata": {},
   "outputs": [],
   "source": [
    "Dir = \"/Volumes/jayaramanlab/Shivam/\" #connect to dm11\n",
    "file = \"brightness_level_6.csv\"\n",
    "df = pd.read_csv(Dir+file)"
   ]
  },
  {
   "cell_type": "code",
   "execution_count": 3,
   "id": "88dc3113-116a-468b-b180-2c6696bb72d0",
   "metadata": {},
   "outputs": [],
   "source": [
    "df['Stim'] = 12-df['Stim']"
   ]
  },
  {
   "cell_type": "code",
   "execution_count": 4,
   "id": "45e117ee-fe3d-4c5d-bf22-d44f57985be8",
   "metadata": {},
   "outputs": [
    {
     "data": {
      "image/png": "[encoded data removed]",
      "text/plain": [
       "<Figure size 432x288 with 1 Axes>"
      ]
     },
     "metadata": {},
     "output_type": "display_data"
    }
   ],
   "source": [
    "plt.plot(df['Stim'],df['I'],'o')\n",
    "plt.xlabel(\"stimulus no.\")\n",
    "plt.ylabel(\"intensity (a.u.)\")\n",
    "plt.savefig(Dir+file[:-3],dpi=300)"
   ]
  },
  {
   "cell_type": "code",
   "execution_count": 5,
   "id": "6f77381e-7634-415c-ab52-777c58363d33",
   "metadata": {},
   "outputs": [],
   "source": [
    "mean_brightness = df.groupby(['Stim']).mean().round(2).reset_index()\n",
    "mean_brightness['Stim'] = np.linspace(0,255,num=len(mean_brightness['Stim']))\n",
    "mean_brightness['I'] = 255*(mean_brightness['I']-mean_brightness['I'].min())/(mean_brightness['I'].max()-mean_brightness['I'].min())"
   ]
  },
  {
   "cell_type": "code",
   "execution_count": 6,
   "id": "8cb7de9f-c266-4d05-84ce-71a124f44988",
   "metadata": {},
   "outputs": [
    {
     "data": {
      "text/html": [
       "<div>\n",
       "<style scoped>\n",
       "    .dataframe tbody tr th:only-of-type {\n",
       "        vertical-align: middle;\n",
       "    }\n",
       "\n",
       "    .dataframe tbody tr th {\n",
       "        vertical-align: top;\n",
       "    }\n",
       "\n",
       "    .dataframe thead th {\n",
       "        text-align: right;\n",
       "    }\n",
       "</style>\n",
       "<table border=\"1\" class=\"dataframe\">\n",
       "  <thead>\n",
       "    <tr style=\"text-align: right;\">\n",
       "      <th></th>\n",
       "      <th>Stim</th>\n",
       "      <th>I</th>\n",
       "    </tr>\n",
       "  </thead>\n",
       "  <tbody>\n",
       "    <tr>\n",
       "      <th>0</th>\n",
       "      <td>0.0</td>\n",
       "      <td>0.000000</td>\n",
       "    </tr>\n",
       "    <tr>\n",
       "      <th>1</th>\n",
       "      <td>25.5</td>\n",
       "      <td>40.757418</td>\n",
       "    </tr>\n",
       "    <tr>\n",
       "      <th>2</th>\n",
       "      <td>51.0</td>\n",
       "      <td>84.733860</td>\n",
       "    </tr>\n",
       "    <tr>\n",
       "      <th>3</th>\n",
       "      <td>76.5</td>\n",
       "      <td>113.375578</td>\n",
       "    </tr>\n",
       "    <tr>\n",
       "      <th>4</th>\n",
       "      <td>102.0</td>\n",
       "      <td>143.474728</td>\n",
       "    </tr>\n",
       "    <tr>\n",
       "      <th>5</th>\n",
       "      <td>127.5</td>\n",
       "      <td>169.353660</td>\n",
       "    </tr>\n",
       "    <tr>\n",
       "      <th>6</th>\n",
       "      <td>153.0</td>\n",
       "      <td>199.047264</td>\n",
       "    </tr>\n",
       "    <tr>\n",
       "      <th>7</th>\n",
       "      <td>178.5</td>\n",
       "      <td>221.605785</td>\n",
       "    </tr>\n",
       "    <tr>\n",
       "      <th>8</th>\n",
       "      <td>204.0</td>\n",
       "      <td>240.679141</td>\n",
       "    </tr>\n",
       "    <tr>\n",
       "      <th>9</th>\n",
       "      <td>229.5</td>\n",
       "      <td>253.859401</td>\n",
       "    </tr>\n",
       "    <tr>\n",
       "      <th>10</th>\n",
       "      <td>255.0</td>\n",
       "      <td>255.000000</td>\n",
       "    </tr>\n",
       "  </tbody>\n",
       "</table>\n",
       "</div>"
      ],
      "text/plain": [
       "     Stim           I\n",
       "0     0.0    0.000000\n",
       "1    25.5   40.757418\n",
       "2    51.0   84.733860\n",
       "3    76.5  113.375578\n",
       "4   102.0  143.474728\n",
       "5   127.5  169.353660\n",
       "6   153.0  199.047264\n",
       "7   178.5  221.605785\n",
       "8   204.0  240.679141\n",
       "9   229.5  253.859401\n",
       "10  255.0  255.000000"
      ]
     },
     "execution_count": 6,
     "metadata": {},
     "output_type": "execute_result"
    }
   ],
   "source": [
    "mean_brightness"
   ]
  },
  {
   "cell_type": "markdown",
   "id": "06946a4d-e82a-4698-8c94-a6c20eb9c712",
   "metadata": {},
   "source": [
    "## Calculate Mean Brightness"
   ]
  },
  {
   "cell_type": "code",
   "execution_count": 7,
   "id": "6e6b1cc3-f269-4a1f-b1eb-cba8e53e5137",
   "metadata": {},
   "outputs": [],
   "source": [
    "mean_brightness.to_csv(Dir+\"mean_\"+file)"
   ]
  },
  {
   "cell_type": "code",
   "execution_count": 8,
   "id": "65643c2a-0f10-4a62-a856-9c739ebecde2",
   "metadata": {},
   "outputs": [
    {
     "data": {
      "image/png": "[encoded data removed]",
      "text/plain": [
       "<Figure size 432x288 with 1 Axes>"
      ]
     },
     "metadata": {},
     "output_type": "display_data"
    }
   ],
   "source": [
    "plt.figure()\n",
    "b = sp.interpolate.interp1d(mean_brightness['Stim'], mean_brightness['I'],bounds_error=False)\n",
    "\n",
    "plt.plot(mean_brightness['Stim'],mean_brightness['I'],'o');\n",
    "plt.xlabel(\"$I_{in}$\"); plt.ylabel(\"$I_{out}$\");\n",
    "plt.title(r'$f(I)$');"
   ]
  },
  {
   "cell_type": "code",
   "execution_count": 9,
   "id": "9ff61e83-32b2-45dc-aad5-a9cb537d8a6d",
   "metadata": {},
   "outputs": [
    {
     "data": {
      "image/png": "[encoded data removed]",
      "text/plain": [
       "<Figure size 432x288 with 1 Axes>"
      ]
     },
     "metadata": {},
     "output_type": "display_data"
    }
   ],
   "source": [
    "from scipy.optimize import minimize\n",
    "\n",
    "y = np.array(mean_brightness['I'])\n",
    "x = np.arange(0,256,1)\n",
    "y = np.zeros(x.shape)\n",
    "\n",
    "def diff(x,a):\n",
    "    yt = b(x)\n",
    "    return (yt - a)**2\n",
    "\n",
    "for idx,x_value in enumerate(x):\n",
    "    res = minimize(diff, 1.0, args=(x_value), method='Nelder-Mead', tol=1e-6)\n",
    "    y[idx] = res.x[0]\n",
    "\n",
    "plt.plot(mean_brightness['Stim'],mean_brightness['I'],'o');\n",
    "plt.plot(np.round(y).astype('int'),x)\n",
    "plt.title(r'$f(I)_{fit}$')\n",
    "plt.ylabel(\"$I_{out}$\"); plt.xlabel(\"$I_{in}$\");\n",
    "plt.savefig(Dir+\"mean_\"+file[:-3]+\"_fit.png\",dpi=300)"
   ]
  },
  {
   "cell_type": "code",
   "execution_count": 10,
   "id": "a0ea10bb-bddf-4d50-9d90-2d7d2dd0c3d2",
   "metadata": {},
   "outputs": [],
   "source": [
    "lookupDf = pd.DataFrame(np.array([np.round(y).astype('int'),x]).T, columns = [\"Iin\", \"Iout\"])"
   ]
  },
  {
   "cell_type": "markdown",
   "id": "41f82bfa-160a-40f3-91fa-201b4fc64840",
   "metadata": {},
   "source": [
    "Save lookup table"
   ]
  },
  {
   "cell_type": "code",
   "execution_count": 11,
   "id": "e92c52a1-5e58-43ce-b3ae-e2fcd5fe7622",
   "metadata": {},
   "outputs": [],
   "source": [
    "lookupDf.to_csv(Dir+\"lookup_table_transformed_brightness.csv\")"
   ]
  },
  {
   "cell_type": "code",
   "execution_count": 12,
   "id": "cd51cefe-23eb-47ed-b8c3-86cda14cd66c",
   "metadata": {},
   "outputs": [],
   "source": [
    "def rescale(img):\n",
    "    x = img.flatten()\n",
    "    y = np.array(lookupDf.iloc[x]['Iin'])\n",
    "    imgT = y.reshape(np.shape(img))\n",
    "    return imgT"
   ]
  },
  {
   "cell_type": "code",
   "execution_count": 14,
   "id": "dced4788-c872-4f95-a031-8b11d99ade5f",
   "metadata": {},
   "outputs": [],
   "source": [
    "from PIL import Image\n",
    "mg = np.asarray(Image.open('calibration/BrightnessSteps_Low.png'))"
   ]
  },
  {
   "cell_type": "code",
   "execution_count": 16,
   "id": "8efc5e65-cfed-4d19-8976-2668f39a0556",
   "metadata": {},
   "outputs": [
    {
     "data": {
      "image/png": "[encoded data removed]",
      "text/plain": [
       "<Figure size 360x360 with 1 Axes>"
      ]
     },
     "metadata": {},
     "output_type": "display_data"
    }
   ],
   "source": [
    "fig = plt.figure(frameon=False)\n",
    "fig.set_size_inches(5,5)\n",
    "ax = plt.Axes(fig, [0., 0., 1., 1.])\n",
    "ax.set_axis_off()\n",
    "fig.add_axes(ax)\n",
    "ax.imshow(rescale(mg), cmap='gray');\n",
    "plt.savefig('calibration/BrightnessSteps_Low_reshaped.png',dpi = 300);"
   ]
  },
  {
   "cell_type": "markdown",
   "id": "f5f05f20-7af9-4ef6-8fb8-90767ca14470",
   "metadata": {},
   "source": [
    "## Confirm Transformed Image is Linear on the Projector Screen"
   ]
  },
  {
   "cell_type": "code",
   "execution_count": 15,
   "id": "dc049714-b951-4b6c-888b-3c11f6c7beb1",
   "metadata": {},
   "outputs": [],
   "source": [
    "Dir = \"/Volumes/jayaramanlab/Shivam/\"\n",
    "file = \"brightness_level_6_transformed.csv\"\n",
    "dfT = pd.read_csv(Dir+file)"
   ]
  },
  {
   "cell_type": "code",
   "execution_count": 16,
   "id": "24ed1be3-39fa-4685-ab7f-b2988fe9763e",
   "metadata": {},
   "outputs": [],
   "source": [
    "dfT['Stim'] = 12-dfT['Stim']"
   ]
  },
  {
   "cell_type": "code",
   "execution_count": 20,
   "id": "519f68d7-9bc0-4c75-b261-86f992941e47",
   "metadata": {},
   "outputs": [
    {
     "data": {
      "image/png": "[encoded data removed]",
      "text/plain": [
       "<Figure size 432x288 with 1 Axes>"
      ]
     },
     "metadata": {},
     "output_type": "display_data"
    }
   ],
   "source": [
    "plt.plot(dfT['Stim'],dfT['I'],'o')\n",
    "plt.xlabel(\"stimulus no.\")\n",
    "plt.ylabel(\"intensity (a.u.)\")\n",
    "plt.savefig(Dir+file[:-3],dpi=300)"
   ]
  }
 ],
 "metadata": {
  "kernelspec": {
   "display_name": "unityvr",
   "language": "python",
   "name": "unityvr"
  },
  "language_info": {
   "codemirror_mode": {
    "name": "ipython",
    "version": 3
   },
   "file_extension": ".py",
   "mimetype": "text/x-python",
   "name": "python",
   "nbconvert_exporter": "python",
   "pygments_lexer": "ipython3",
   "version": "3.8.10"
  },
  "widgets": {
   "application/vnd.jupyter.widget-state+json": {
    "state": {},
    "version_major": 2,
    "version_minor": 0
   }
  }
 },
 "nbformat": 4,
 "nbformat_minor": 5
}
