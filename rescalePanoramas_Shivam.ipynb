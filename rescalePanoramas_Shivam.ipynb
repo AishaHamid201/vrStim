{
 "cells": [
  {
   "cell_type": "markdown",
   "metadata": {},
   "source": [
    "# Rescale Images based on Projector Greyscale Transfer Function"
   ]
  },
  {
   "cell_type": "code",
   "execution_count": 2,
   "metadata": {},
   "outputs": [],
   "source": [
    "import numpy as np\n",
    "import matplotlib.pyplot as plt\n",
    "import pandas as pd\n",
    "import scipy as sp\n",
    "import seaborn as sns; sns.set()"
   ]
  },
  {
   "cell_type": "markdown",
   "metadata": {},
   "source": [
    "Specify measured screen brightness as a function of the stimulus no. from 1-11. "
   ]
  },
  {
   "cell_type": "code",
   "execution_count": 95,
   "metadata": {},
   "outputs": [],
   "source": [
    "Dir = 'screenMeasurements/' #\"/Volumes/jayaramanlab/Shivam/\" #connect to dm11\n",
    "rig = \"Hannah\"\n",
    "reversevals = False\n",
    "\n",
    "if rig == \"Shivam\":\n",
    "    file = rig+\"Rig_brightness_level_6.csv\"\n",
    "else:\n",
    "    reversevals = True\n",
    "    file = rig+\"Rig_brightness.csv\"\n",
    "df = pd.read_csv(Dir+file)"
   ]
  },
  {
   "cell_type": "code",
   "execution_count": 97,
   "metadata": {},
   "outputs": [
    {
     "data": {
      "image/png": "[encoded data removed]",
      "text/plain": [
       "<Figure size 432x288 with 1 Axes>"
      ]
     },
     "metadata": {},
     "output_type": "display_data"
    }
   ],
   "source": [
    "if rig == \"Shivam\":\n",
    "    df['Stim'] = 12-df['Stim']\n",
    "    plt.plot(df['Stim'],df['I'],'o')\n",
    "    plt.xlabel(\"stimulus no.\")\n",
    "    plt.ylabel(\"intensity (a.u.)\")\n",
    "    plt.savefig(Dir+file[:-3],dpi=300)\n",
    "    \n",
    "else:\n",
    "    if reversevals: df['Stim'] = 1-df['Level']\n",
    "    #if min(df['Level'][0,:]) > 0: df['Level'][0,:] = df['Level'][0,:] - min(df['Level'][0,:])\n",
    "    #if max(df['Level'][0,:]) >= 10:  df['Level'][0,:] = df['Level'][0,:]/10\n",
    "    df['I'] = df['Brightness[𝜇W/cm2] squares (in front; mean)']\n",
    "    plt.plot(df['Stim'],df['Brightness[𝜇W/cm2] squares (in front; mean)'],'o')\n",
    "    plt.xlabel(\"stimulus level\")\n",
    "    plt.ylabel(\"intensity (a.u.)\")\n",
    "    plt.savefig(Dir+file[:-3],dpi=300)"
   ]
  },
  {
   "cell_type": "code",
   "execution_count": 98,
   "metadata": {},
   "outputs": [],
   "source": [
    "mean_brightness = df.groupby(['Stim']).mean().round(2).reset_index()\n",
    "mean_brightness['Stim'] = np.linspace(0,255,num=len(mean_brightness['Stim']))\n",
    "mean_brightness['I'] = 255*(mean_brightness['I']-mean_brightness['I'].min())/(mean_brightness['I'].max()-mean_brightness['I'].min())"
   ]
  },
  {
   "cell_type": "code",
   "execution_count": 99,
   "metadata": {},
   "outputs": [
    {
     "data": {
      "text/html": [
       "<div>\n",
       "<style scoped>\n",
       "    .dataframe tbody tr th:only-of-type {\n",
       "        vertical-align: middle;\n",
       "    }\n",
       "\n",
       "    .dataframe tbody tr th {\n",
       "        vertical-align: top;\n",
       "    }\n",
       "\n",
       "    .dataframe thead th {\n",
       "        text-align: right;\n",
       "    }\n",
       "</style>\n",
       "<table border=\"1\" class=\"dataframe\">\n",
       "  <thead>\n",
       "    <tr style=\"text-align: right;\">\n",
       "      <th></th>\n",
       "      <th>Stim</th>\n",
       "      <th>Level</th>\n",
       "      <th>Brightness[𝜇W/cm2] squares (in front; mean)</th>\n",
       "      <th>I</th>\n",
       "    </tr>\n",
       "  </thead>\n",
       "  <tbody>\n",
       "    <tr>\n",
       "      <th>0</th>\n",
       "      <td>0.0</td>\n",
       "      <td>1.0</td>\n",
       "      <td>0.62</td>\n",
       "      <td>0.000000</td>\n",
       "    </tr>\n",
       "    <tr>\n",
       "      <th>1</th>\n",
       "      <td>25.5</td>\n",
       "      <td>0.9</td>\n",
       "      <td>0.88</td>\n",
       "      <td>3.065187</td>\n",
       "    </tr>\n",
       "    <tr>\n",
       "      <th>2</th>\n",
       "      <td>51.0</td>\n",
       "      <td>0.8</td>\n",
       "      <td>1.58</td>\n",
       "      <td>11.317614</td>\n",
       "    </tr>\n",
       "    <tr>\n",
       "      <th>3</th>\n",
       "      <td>76.5</td>\n",
       "      <td>0.7</td>\n",
       "      <td>3.12</td>\n",
       "      <td>29.472954</td>\n",
       "    </tr>\n",
       "    <tr>\n",
       "      <th>4</th>\n",
       "      <td>102.0</td>\n",
       "      <td>0.6</td>\n",
       "      <td>5.00</td>\n",
       "      <td>51.636616</td>\n",
       "    </tr>\n",
       "    <tr>\n",
       "      <th>5</th>\n",
       "      <td>127.5</td>\n",
       "      <td>0.5</td>\n",
       "      <td>7.51</td>\n",
       "      <td>81.227462</td>\n",
       "    </tr>\n",
       "    <tr>\n",
       "      <th>6</th>\n",
       "      <td>153.0</td>\n",
       "      <td>0.4</td>\n",
       "      <td>13.86</td>\n",
       "      <td>156.088766</td>\n",
       "    </tr>\n",
       "    <tr>\n",
       "      <th>7</th>\n",
       "      <td>178.5</td>\n",
       "      <td>0.3</td>\n",
       "      <td>19.16</td>\n",
       "      <td>218.571429</td>\n",
       "    </tr>\n",
       "    <tr>\n",
       "      <th>8</th>\n",
       "      <td>204.0</td>\n",
       "      <td>0.2</td>\n",
       "      <td>22.13</td>\n",
       "      <td>253.585298</td>\n",
       "    </tr>\n",
       "    <tr>\n",
       "      <th>9</th>\n",
       "      <td>229.5</td>\n",
       "      <td>0.1</td>\n",
       "      <td>22.20</td>\n",
       "      <td>254.410541</td>\n",
       "    </tr>\n",
       "    <tr>\n",
       "      <th>10</th>\n",
       "      <td>255.0</td>\n",
       "      <td>0.0</td>\n",
       "      <td>22.25</td>\n",
       "      <td>255.000000</td>\n",
       "    </tr>\n",
       "  </tbody>\n",
       "</table>\n",
       "</div>"
      ],
      "text/plain": [
       "     Stim  Level  Brightness[𝜇W/cm2] squares (in front; mean)           I\n",
       "0     0.0    1.0                                         0.62    0.000000\n",
       "1    25.5    0.9                                         0.88    3.065187\n",
       "2    51.0    0.8                                         1.58   11.317614\n",
       "3    76.5    0.7                                         3.12   29.472954\n",
       "4   102.0    0.6                                         5.00   51.636616\n",
       "5   127.5    0.5                                         7.51   81.227462\n",
       "6   153.0    0.4                                        13.86  156.088766\n",
       "7   178.5    0.3                                        19.16  218.571429\n",
       "8   204.0    0.2                                        22.13  253.585298\n",
       "9   229.5    0.1                                        22.20  254.410541\n",
       "10  255.0    0.0                                        22.25  255.000000"
      ]
     },
     "execution_count": 99,
     "metadata": {},
     "output_type": "execute_result"
    }
   ],
   "source": [
    "mean_brightness"
   ]
  },
  {
   "cell_type": "markdown",
   "metadata": {},
   "source": [
    "## Calculate Mean Brightness"
   ]
  },
  {
   "cell_type": "code",
   "execution_count": 100,
   "metadata": {},
   "outputs": [],
   "source": [
    "mean_brightness.to_csv(Dir+'_'.join([file.split('_')[0],'mean']+file.split('_')[1:]))"
   ]
  },
  {
   "cell_type": "code",
   "execution_count": 101,
   "metadata": {},
   "outputs": [
    {
     "data": {
      "image/png": "[encoded data removed]",
      "text/plain": [
       "<Figure size 432x288 with 1 Axes>"
      ]
     },
     "metadata": {},
     "output_type": "display_data"
    }
   ],
   "source": [
    "plt.figure()\n",
    "b = sp.interpolate.interp1d(mean_brightness['Stim'], mean_brightness['I'],bounds_error=False)\n",
    "\n",
    "plt.plot(mean_brightness['Stim'],mean_brightness['I'],'o');\n",
    "plt.xlabel(\"$I_{in}$\"); plt.ylabel(\"$I_{out}$\");\n",
    "plt.title(r'$f(I)$');"
   ]
  },
  {
   "cell_type": "code",
   "execution_count": 102,
   "metadata": {},
   "outputs": [
    {
     "data": {
      "image/png": "[encoded data removed]",
      "text/plain": [
       "<Figure size 432x288 with 1 Axes>"
      ]
     },
     "metadata": {},
     "output_type": "display_data"
    }
   ],
   "source": [
    "from scipy.optimize import minimize\n",
    "\n",
    "y = np.array(mean_brightness['I'])\n",
    "x = np.arange(0,256,1)\n",
    "y = np.zeros(x.shape)\n",
    "\n",
    "def diff(x,a):\n",
    "    yt = b(x)\n",
    "    return (yt - a)**2\n",
    "\n",
    "for idx,x_value in enumerate(x):\n",
    "    res = minimize(diff, 1.0, args=(x_value), method='Nelder-Mead', tol=1e-6)\n",
    "    y[idx] = res.x[0]\n",
    "\n",
    "plt.plot(mean_brightness['Stim'],mean_brightness['I'],'o');\n",
    "plt.plot(np.round(y).astype('int'),x)\n",
    "plt.title(r'$f(I)_{fit}$')\n",
    "plt.ylabel(\"$I_{out}$\"); plt.xlabel(\"$I_{in}$\");\n",
    "plt.savefig(Dir+'_'.join([file.split('_')[0],'mean']+file.split('_')[1:])[:-4]+\"_fit.png\",dpi=300)"
   ]
  },
  {
   "cell_type": "markdown",
   "metadata": {},
   "source": [
    "##### Generate and save lookup table"
   ]
  },
  {
   "cell_type": "code",
   "execution_count": 103,
   "metadata": {},
   "outputs": [],
   "source": [
    "lookupDf = pd.DataFrame(np.array([np.round(y).astype('int'),x]).T, columns = [\"Iin\", \"Iout\"])"
   ]
  },
  {
   "cell_type": "code",
   "execution_count": 104,
   "metadata": {},
   "outputs": [],
   "source": [
    "lookupDf.to_csv(Dir+rig+\"Rig_lookup_table_transformed_brightness.csv\")"
   ]
  },
  {
   "cell_type": "markdown",
   "metadata": {},
   "source": [
    "##### Generate reshaped calibration images"
   ]
  },
  {
   "cell_type": "code",
   "execution_count": 108,
   "metadata": {},
   "outputs": [],
   "source": [
    "def rescale(img):\n",
    "    x = img.flatten()\n",
    "    y = np.array(lookupDf.iloc[x]['Iin'])\n",
    "    imgT = y.reshape(np.shape(img))\n",
    "    return imgT"
   ]
  },
  {
   "cell_type": "code",
   "execution_count": 113,
   "metadata": {},
   "outputs": [
    {
     "data": {
      "image/png": "[encoded data removed]",
      "text/plain": [
       "<Figure size 360x360 with 1 Axes>"
      ]
     },
     "metadata": {},
     "output_type": "display_data"
    }
   ],
   "source": [
    "from PIL import Image\n",
    "\n",
    "calibrange = \"high\"\n",
    "mg = np.asarray(Image.open('calibration/BrightnessSteps_{}.png'.format(calibrange)))\n",
    "fig = plt.figure(frameon=False)\n",
    "fig.set_size_inches(5,5)\n",
    "ax = plt.Axes(fig, [0., 0., 1., 1.])\n",
    "ax.set_axis_off()\n",
    "fig.add_axes(ax)\n",
    "ax.imshow(rescale(mg), cmap='gray');\n",
    "plt.savefig('calibration/BrightnessSteps_{}_reshaped_{}Rig.png'.format(calibrange,rig),dpi = 300);"
   ]
  },
  {
   "cell_type": "markdown",
   "metadata": {},
   "source": [
    "### Confirm Transformed Image is Linear on the Projector Screen"
   ]
  },
  {
   "cell_type": "code",
   "execution_count": 61,
   "metadata": {},
   "outputs": [],
   "source": [
    "if rig == \"Shivam\":\n",
    "        file = rig+\"Rig_brightness_level_6_transformed.csv\"\n",
    "else:\n",
    "    reversevals = True\n",
    "    file = rig+\"Rig_brightness_transformed.csv\"\n",
    "    \n",
    "dfT = pd.read_csv(Dir+file)\n",
    "\n",
    "dfT['Stim'] = 12-dfT['Stim']"
   ]
  },
  {
   "cell_type": "code",
   "execution_count": 62,
   "metadata": {},
   "outputs": [
    {
     "data": {
      "image/png": "[encoded data removed]",
      "text/plain": [
       "<Figure size 432x288 with 1 Axes>"
      ]
     },
     "metadata": {},
     "output_type": "display_data"
    }
   ],
   "source": [
    "plt.plot(dfT['Stim'],dfT['I'],'o')\n",
    "plt.xlabel(\"stimulus no.\")\n",
    "plt.ylabel(\"intensity (a.u.)\")\n",
    "plt.savefig(Dir+file[:-3],dpi=300)"
   ]
  },
  {
   "cell_type": "code",
   "execution_count": null,
   "metadata": {},
   "outputs": [],
   "source": []
  }
 ],
 "metadata": {
  "kernelspec": {
   "display_name": "Python 3",
   "language": "python",
   "name": "python3"
  },
  "language_info": {
   "codemirror_mode": {
    "name": "ipython",
    "version": 3
   },
   "file_extension": ".py",
   "mimetype": "text/x-python",
   "name": "python",
   "nbconvert_exporter": "python",
   "pygments_lexer": "ipython3",
   "version": "3.8.6"
  },
  "widgets": {
   "application/vnd.jupyter.widget-state+json": {
    "state": {},
    "version_major": 2,
    "version_minor": 0
   }
  }
 },
 "nbformat": 4,
 "nbformat_minor": 5
}
